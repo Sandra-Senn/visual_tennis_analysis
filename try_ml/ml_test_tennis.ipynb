{
 "cells": [
  {
   "cell_type": "code",
   "execution_count": 1,
   "metadata": {},
   "outputs": [],
   "source": [
    "import cv2\n",
    "import pandas as pd\n",
    "from ultralytics import YOLO"
   ]
  },
  {
   "cell_type": "code",
   "execution_count": 41,
   "metadata": {},
   "outputs": [
    {
     "name": "stdout",
     "output_type": "stream",
     "text": [
      "Ultralytics 8.3.40  Python-3.12.7 torch-2.5.1+cpu CPU (11th Gen Intel Core(TM) i7-11370H 3.30GHz)\n",
      "\u001b[34m\u001b[1mengine\\trainer: \u001b[0mtask=detect, mode=train, model=models/yolo11n.pt, data=training_racket\\data.yaml, epochs=10, time=None, patience=100, batch=16, imgsz=640, save=True, save_period=-1, cache=False, device=cpu, workers=8, project=None, name=train21, exist_ok=False, pretrained=True, optimizer=auto, verbose=True, seed=0, deterministic=True, single_cls=False, rect=False, cos_lr=False, close_mosaic=10, resume=False, amp=True, fraction=1.0, profile=False, freeze=None, multi_scale=False, overlap_mask=True, mask_ratio=4, dropout=0.0, val=True, split=val, save_json=False, save_hybrid=False, conf=None, iou=0.7, max_det=300, half=False, dnn=False, plots=True, source=None, vid_stride=1, stream_buffer=False, visualize=False, augment=False, agnostic_nms=False, classes=None, retina_masks=False, embed=None, show=False, save_frames=False, save_txt=False, save_conf=False, save_crop=False, show_labels=True, show_conf=True, show_boxes=True, line_width=None, format=torchscript, keras=False, optimize=False, int8=False, dynamic=False, simplify=True, opset=None, workspace=None, nms=False, lr0=0.01, lrf=0.01, momentum=0.937, weight_decay=0.0005, warmup_epochs=3.0, warmup_momentum=0.8, warmup_bias_lr=0.1, box=7.5, cls=0.5, dfl=1.5, pose=12.0, kobj=1.0, nbs=64, hsv_h=0.015, hsv_s=0.7, hsv_v=0.4, degrees=0.0, translate=0.1, scale=0.5, shear=0.0, perspective=0.0, flipud=0.0, fliplr=0.5, bgr=0.0, mosaic=1.0, mixup=0.0, copy_paste=0.0, copy_paste_mode=flip, auto_augment=randaugment, erasing=0.4, crop_fraction=1.0, cfg=None, tracker=botsort.yaml, save_dir=C:\\Users\\Sandra\\Documents\\GitHub\\cda2_tennis_challenge\\tennis-challenge\\runs\\detect\\train21\n",
      "Overriding model.yaml nc=80 with nc=1\n",
      "\n",
      "                   from  n    params  module                                       arguments                     \n",
      "  0                  -1  1       464  ultralytics.nn.modules.conv.Conv             [3, 16, 3, 2]                 \n",
      "  1                  -1  1      4672  ultralytics.nn.modules.conv.Conv             [16, 32, 3, 2]                \n",
      "  2                  -1  1      6640  ultralytics.nn.modules.block.C3k2            [32, 64, 1, False, 0.25]      \n",
      "  3                  -1  1     36992  ultralytics.nn.modules.conv.Conv             [64, 64, 3, 2]                \n",
      "  4                  -1  1     26080  ultralytics.nn.modules.block.C3k2            [64, 128, 1, False, 0.25]     \n",
      "  5                  -1  1    147712  ultralytics.nn.modules.conv.Conv             [128, 128, 3, 2]              \n",
      "  6                  -1  1     87040  ultralytics.nn.modules.block.C3k2            [128, 128, 1, True]           \n",
      "  7                  -1  1    295424  ultralytics.nn.modules.conv.Conv             [128, 256, 3, 2]              \n",
      "  8                  -1  1    346112  ultralytics.nn.modules.block.C3k2            [256, 256, 1, True]           \n",
      "  9                  -1  1    164608  ultralytics.nn.modules.block.SPPF            [256, 256, 5]                 \n",
      " 10                  -1  1    249728  ultralytics.nn.modules.block.C2PSA           [256, 256, 1]                 \n",
      " 11                  -1  1         0  torch.nn.modules.upsampling.Upsample         [None, 2, 'nearest']          \n",
      " 12             [-1, 6]  1         0  ultralytics.nn.modules.conv.Concat           [1]                           \n",
      " 13                  -1  1    111296  ultralytics.nn.modules.block.C3k2            [384, 128, 1, False]          \n",
      " 14                  -1  1         0  torch.nn.modules.upsampling.Upsample         [None, 2, 'nearest']          \n",
      " 15             [-1, 4]  1         0  ultralytics.nn.modules.conv.Concat           [1]                           \n",
      " 16                  -1  1     32096  ultralytics.nn.modules.block.C3k2            [256, 64, 1, False]           \n",
      " 17                  -1  1     36992  ultralytics.nn.modules.conv.Conv             [64, 64, 3, 2]                \n",
      " 18            [-1, 13]  1         0  ultralytics.nn.modules.conv.Concat           [1]                           \n",
      " 19                  -1  1     86720  ultralytics.nn.modules.block.C3k2            [192, 128, 1, False]          \n",
      " 20                  -1  1    147712  ultralytics.nn.modules.conv.Conv             [128, 128, 3, 2]              \n",
      " 21            [-1, 10]  1         0  ultralytics.nn.modules.conv.Concat           [1]                           \n"
     ]
    },
    {
     "name": "stderr",
     "output_type": "stream",
     "text": [
      "<>:17: SyntaxWarning: invalid escape sequence '\\d'\n",
      "<>:17: SyntaxWarning: invalid escape sequence '\\d'\n",
      "C:\\Users\\Sandra\\AppData\\Local\\Temp\\ipykernel_13092\\674028297.py:17: SyntaxWarning: invalid escape sequence '\\d'\n",
      "  train(\"training_racket\\data.yaml\")\n"
     ]
    },
    {
     "name": "stdout",
     "output_type": "stream",
     "text": [
      " 22                  -1  1    378880  ultralytics.nn.modules.block.C3k2            [384, 256, 1, True]           \n",
      " 23        [16, 19, 22]  1    430867  ultralytics.nn.modules.head.Detect           [1, [64, 128, 256]]           \n",
      "YOLO11n summary: 319 layers, 2,590,035 parameters, 2,590,019 gradients, 6.4 GFLOPs\n",
      "\n",
      "Transferred 448/499 items from pretrained weights\n",
      "\u001b[34m\u001b[1mTensorBoard: \u001b[0mStart with 'tensorboard --logdir C:\\Users\\Sandra\\Documents\\GitHub\\cda2_tennis_challenge\\tennis-challenge\\runs\\detect\\train21', view at http://localhost:6006/\n",
      "Freezing layer 'model.23.dfl.conv.weight'\n"
     ]
    },
    {
     "name": "stderr",
     "output_type": "stream",
     "text": [
      "\u001b[34m\u001b[1mtrain: \u001b[0mScanning C:\\Users\\Sandra\\Documents\\FHNW\\24_HS\\test_tennis_12_24\\training_racket\\train\\labels... 302 images, 0 backgrounds, 0 corrupt: 100%|██████████| 302/302 [00:00<00:00, 1673.54it/s]"
     ]
    },
    {
     "name": "stdout",
     "output_type": "stream",
     "text": [
      "\u001b[34m\u001b[1mtrain: \u001b[0mNew cache created: C:\\Users\\Sandra\\Documents\\FHNW\\24_HS\\test_tennis_12_24\\training_racket\\train\\labels.cache\n",
      "WARNING  Box and segment counts should be equal, but got len(segments) = 126, len(boxes) = 302. To resolve this only boxes will be used and all segments will be removed. To avoid this please supply either a detect or segment dataset, not a detect-segment mixed dataset.\n"
     ]
    },
    {
     "name": "stderr",
     "output_type": "stream",
     "text": [
      "\n",
      "\u001b[34m\u001b[1mval: \u001b[0mScanning C:\\Users\\Sandra\\Documents\\FHNW\\24_HS\\test_tennis_12_24\\training_racket\\valid\\labels... 57 images, 0 backgrounds, 0 corrupt: 100%|██████████| 57/57 [00:00<00:00, 1540.61it/s]"
     ]
    },
    {
     "name": "stdout",
     "output_type": "stream",
     "text": [
      "\u001b[34m\u001b[1mval: \u001b[0mNew cache created: C:\\Users\\Sandra\\Documents\\FHNW\\24_HS\\test_tennis_12_24\\training_racket\\valid\\labels.cache\n",
      "WARNING  Box and segment counts should be equal, but got len(segments) = 14, len(boxes) = 57. To resolve this only boxes will be used and all segments will be removed. To avoid this please supply either a detect or segment dataset, not a detect-segment mixed dataset.\n"
     ]
    },
    {
     "name": "stderr",
     "output_type": "stream",
     "text": [
      "\n"
     ]
    },
    {
     "name": "stdout",
     "output_type": "stream",
     "text": [
      "Plotting labels to C:\\Users\\Sandra\\Documents\\GitHub\\cda2_tennis_challenge\\tennis-challenge\\runs\\detect\\train21\\labels.jpg... \n",
      "\u001b[34m\u001b[1moptimizer:\u001b[0m 'optimizer=auto' found, ignoring 'lr0=0.01' and 'momentum=0.937' and determining best 'optimizer', 'lr0' and 'momentum' automatically... \n",
      "\u001b[34m\u001b[1moptimizer:\u001b[0m AdamW(lr=0.002, momentum=0.9) with parameter groups 81 weight(decay=0.0), 88 weight(decay=0.0005), 87 bias(decay=0.0)\n",
      "\u001b[34m\u001b[1mTensorBoard: \u001b[0mmodel graph visualization added \n",
      "Image sizes 640 train, 640 val\n",
      "Using 0 dataloader workers\n",
      "Logging results to \u001b[1mC:\\Users\\Sandra\\Documents\\GitHub\\cda2_tennis_challenge\\tennis-challenge\\runs\\detect\\train21\u001b[0m\n",
      "Starting training for 10 epochs...\n",
      "Closing dataloader mosaic\n",
      "\n",
      "      Epoch    GPU_mem   box_loss   cls_loss   dfl_loss  Instances       Size\n"
     ]
    },
    {
     "name": "stderr",
     "output_type": "stream",
     "text": [
      "       1/10         0G     0.9576      3.154      1.538         14        640: 100%|██████████| 19/19 [01:12<00:00,  3.83s/it]\n",
      "                 Class     Images  Instances      Box(P          R      mAP50  mAP50-95): 100%|██████████| 2/2 [00:04<00:00,  2.42s/it]"
     ]
    },
    {
     "name": "stdout",
     "output_type": "stream",
     "text": [
      "                   all         57         57    0.00333          1      0.512      0.324\n"
     ]
    },
    {
     "name": "stderr",
     "output_type": "stream",
     "text": [
      "\n"
     ]
    },
    {
     "name": "stdout",
     "output_type": "stream",
     "text": [
      "\n",
      "      Epoch    GPU_mem   box_loss   cls_loss   dfl_loss  Instances       Size\n"
     ]
    },
    {
     "name": "stderr",
     "output_type": "stream",
     "text": [
      "       2/10         0G     0.9383      2.618      1.551         14        640: 100%|██████████| 19/19 [01:06<00:00,  3.52s/it]\n",
      "                 Class     Images  Instances      Box(P          R      mAP50  mAP50-95): 100%|██████████| 2/2 [00:04<00:00,  2.42s/it]"
     ]
    },
    {
     "name": "stdout",
     "output_type": "stream",
     "text": [
      "                   all         57         57    0.00333          1      0.532      0.286\n"
     ]
    },
    {
     "name": "stderr",
     "output_type": "stream",
     "text": [
      "\n"
     ]
    },
    {
     "name": "stdout",
     "output_type": "stream",
     "text": [
      "\n",
      "      Epoch    GPU_mem   box_loss   cls_loss   dfl_loss  Instances       Size\n"
     ]
    },
    {
     "name": "stderr",
     "output_type": "stream",
     "text": [
      "       3/10         0G     0.9634      2.426      1.562         14        640: 100%|██████████| 19/19 [01:08<00:00,  3.63s/it]\n",
      "                 Class     Images  Instances      Box(P          R      mAP50  mAP50-95): 100%|██████████| 2/2 [00:04<00:00,  2.31s/it]"
     ]
    },
    {
     "name": "stdout",
     "output_type": "stream",
     "text": [
      "                   all         57         57      0.782     0.0637      0.573      0.302\n"
     ]
    },
    {
     "name": "stderr",
     "output_type": "stream",
     "text": [
      "\n"
     ]
    },
    {
     "name": "stdout",
     "output_type": "stream",
     "text": [
      "\n",
      "      Epoch    GPU_mem   box_loss   cls_loss   dfl_loss  Instances       Size\n"
     ]
    },
    {
     "name": "stderr",
     "output_type": "stream",
     "text": [
      "       4/10         0G       1.02      2.399      1.617         14        640: 100%|██████████| 19/19 [01:08<00:00,  3.58s/it]\n",
      "                 Class     Images  Instances      Box(P          R      mAP50  mAP50-95): 100%|██████████| 2/2 [00:04<00:00,  2.31s/it]"
     ]
    },
    {
     "name": "stdout",
     "output_type": "stream",
     "text": [
      "                   all         57         57      0.486      0.509      0.444      0.236\n"
     ]
    },
    {
     "name": "stderr",
     "output_type": "stream",
     "text": [
      "\n"
     ]
    },
    {
     "name": "stdout",
     "output_type": "stream",
     "text": [
      "\n",
      "      Epoch    GPU_mem   box_loss   cls_loss   dfl_loss  Instances       Size\n"
     ]
    },
    {
     "name": "stderr",
     "output_type": "stream",
     "text": [
      "       5/10         0G      1.006      2.149        1.6         14        640: 100%|██████████| 19/19 [01:08<00:00,  3.59s/it]\n",
      "                 Class     Images  Instances      Box(P          R      mAP50  mAP50-95): 100%|██████████| 2/2 [00:04<00:00,  2.34s/it]"
     ]
    },
    {
     "name": "stdout",
     "output_type": "stream",
     "text": [
      "                   all         57         57      0.761       0.56      0.693      0.488\n"
     ]
    },
    {
     "name": "stderr",
     "output_type": "stream",
     "text": [
      "\n"
     ]
    },
    {
     "name": "stdout",
     "output_type": "stream",
     "text": [
      "\n",
      "      Epoch    GPU_mem   box_loss   cls_loss   dfl_loss  Instances       Size\n"
     ]
    },
    {
     "name": "stderr",
     "output_type": "stream",
     "text": [
      "       6/10         0G     0.9387      1.984       1.53         14        640: 100%|██████████| 19/19 [01:10<00:00,  3.69s/it]\n",
      "                 Class     Images  Instances      Box(P          R      mAP50  mAP50-95): 100%|██████████| 2/2 [00:04<00:00,  2.34s/it]"
     ]
    },
    {
     "name": "stdout",
     "output_type": "stream",
     "text": [
      "                   all         57         57      0.769      0.583       0.61      0.433\n"
     ]
    },
    {
     "name": "stderr",
     "output_type": "stream",
     "text": [
      "\n"
     ]
    },
    {
     "name": "stdout",
     "output_type": "stream",
     "text": [
      "\n",
      "      Epoch    GPU_mem   box_loss   cls_loss   dfl_loss  Instances       Size\n"
     ]
    },
    {
     "name": "stderr",
     "output_type": "stream",
     "text": [
      "       7/10         0G     0.9552      1.849      1.552         14        640: 100%|██████████| 19/19 [01:08<00:00,  3.60s/it]\n",
      "                 Class     Images  Instances      Box(P          R      mAP50  mAP50-95): 100%|██████████| 2/2 [00:04<00:00,  2.40s/it]"
     ]
    },
    {
     "name": "stdout",
     "output_type": "stream",
     "text": [
      "                   all         57         57      0.775      0.596      0.757      0.555\n"
     ]
    },
    {
     "name": "stderr",
     "output_type": "stream",
     "text": [
      "\n"
     ]
    },
    {
     "name": "stdout",
     "output_type": "stream",
     "text": [
      "\n",
      "      Epoch    GPU_mem   box_loss   cls_loss   dfl_loss  Instances       Size\n"
     ]
    },
    {
     "name": "stderr",
     "output_type": "stream",
     "text": [
      "       8/10         0G     0.8615      1.703      1.437         14        640: 100%|██████████| 19/19 [01:09<00:00,  3.66s/it]\n",
      "                 Class     Images  Instances      Box(P          R      mAP50  mAP50-95): 100%|██████████| 2/2 [00:04<00:00,  2.41s/it]"
     ]
    },
    {
     "name": "stdout",
     "output_type": "stream",
     "text": [
      "                   all         57         57      0.876      0.754      0.828      0.593\n"
     ]
    },
    {
     "name": "stderr",
     "output_type": "stream",
     "text": [
      "\n"
     ]
    },
    {
     "name": "stdout",
     "output_type": "stream",
     "text": [
      "\n",
      "      Epoch    GPU_mem   box_loss   cls_loss   dfl_loss  Instances       Size\n"
     ]
    },
    {
     "name": "stderr",
     "output_type": "stream",
     "text": [
      "       9/10         0G     0.7689      1.565      1.372         14        640: 100%|██████████| 19/19 [01:09<00:00,  3.64s/it]\n",
      "                 Class     Images  Instances      Box(P          R      mAP50  mAP50-95): 100%|██████████| 2/2 [00:04<00:00,  2.36s/it]"
     ]
    },
    {
     "name": "stdout",
     "output_type": "stream",
     "text": [
      "                   all         57         57      0.899      0.754      0.844      0.647\n"
     ]
    },
    {
     "name": "stderr",
     "output_type": "stream",
     "text": [
      "\n"
     ]
    },
    {
     "name": "stdout",
     "output_type": "stream",
     "text": [
      "\n",
      "      Epoch    GPU_mem   box_loss   cls_loss   dfl_loss  Instances       Size\n"
     ]
    },
    {
     "name": "stderr",
     "output_type": "stream",
     "text": [
      "      10/10         0G     0.7635      1.462      1.339         14        640: 100%|██████████| 19/19 [01:09<00:00,  3.67s/it]\n",
      "                 Class     Images  Instances      Box(P          R      mAP50  mAP50-95): 100%|██████████| 2/2 [00:04<00:00,  2.33s/it]"
     ]
    },
    {
     "name": "stdout",
     "output_type": "stream",
     "text": [
      "                   all         57         57      0.891      0.807      0.875      0.694\n"
     ]
    },
    {
     "name": "stderr",
     "output_type": "stream",
     "text": [
      "\n"
     ]
    },
    {
     "name": "stdout",
     "output_type": "stream",
     "text": [
      "\n",
      "10 epochs completed in 0.209 hours.\n",
      "Optimizer stripped from C:\\Users\\Sandra\\Documents\\GitHub\\cda2_tennis_challenge\\tennis-challenge\\runs\\detect\\train21\\weights\\last.pt, 5.5MB\n",
      "Optimizer stripped from C:\\Users\\Sandra\\Documents\\GitHub\\cda2_tennis_challenge\\tennis-challenge\\runs\\detect\\train21\\weights\\best.pt, 5.5MB\n",
      "\n",
      "Validating C:\\Users\\Sandra\\Documents\\GitHub\\cda2_tennis_challenge\\tennis-challenge\\runs\\detect\\train21\\weights\\best.pt...\n",
      "Ultralytics 8.3.40  Python-3.12.7 torch-2.5.1+cpu CPU (11th Gen Intel Core(TM) i7-11370H 3.30GHz)\n",
      "YOLO11n summary (fused): 238 layers, 2,582,347 parameters, 0 gradients, 6.3 GFLOPs\n"
     ]
    },
    {
     "name": "stderr",
     "output_type": "stream",
     "text": [
      "                 Class     Images  Instances      Box(P          R      mAP50  mAP50-95): 100%|██████████| 2/2 [00:04<00:00,  2.23s/it]\n"
     ]
    },
    {
     "name": "stdout",
     "output_type": "stream",
     "text": [
      "                   all         57         57      0.889      0.807      0.875      0.692\n",
      "Speed: 1.2ms preprocess, 53.8ms inference, 0.0ms loss, 9.7ms postprocess per image\n",
      "Results saved to \u001b[1mC:\\Users\\Sandra\\Documents\\GitHub\\cda2_tennis_challenge\\tennis-challenge\\runs\\detect\\train21\u001b[0m\n",
      "Trainig complete. Result: ultralytics.utils.metrics.DetMetrics object with attributes:\n",
      "\n",
      "ap_class_index: array([0])\n",
      "box: ultralytics.utils.metrics.Metric object\n",
      "confusion_matrix: <ultralytics.utils.metrics.ConfusionMatrix object at 0x00000168ECA3A480>\n",
      "curves: ['Precision-Recall(B)', 'F1-Confidence(B)', 'Precision-Confidence(B)', 'Recall-Confidence(B)']\n",
      "curves_results: [[array([          0,    0.001001,    0.002002,    0.003003,    0.004004,    0.005005,    0.006006,    0.007007,    0.008008,    0.009009,     0.01001,    0.011011,    0.012012,    0.013013,    0.014014,    0.015015,    0.016016,    0.017017,    0.018018,    0.019019,     0.02002,    0.021021,    0.022022,    0.023023,\n",
      "          0.024024,    0.025025,    0.026026,    0.027027,    0.028028,    0.029029,     0.03003,    0.031031,    0.032032,    0.033033,    0.034034,    0.035035,    0.036036,    0.037037,    0.038038,    0.039039,     0.04004,    0.041041,    0.042042,    0.043043,    0.044044,    0.045045,    0.046046,    0.047047,\n",
      "          0.048048,    0.049049,     0.05005,    0.051051,    0.052052,    0.053053,    0.054054,    0.055055,    0.056056,    0.057057,    0.058058,    0.059059,     0.06006,    0.061061,    0.062062,    0.063063,    0.064064,    0.065065,    0.066066,    0.067067,    0.068068,    0.069069,     0.07007,    0.071071,\n",
      "          0.072072,    0.073073,    0.074074,    0.075075,    0.076076,    0.077077,    0.078078,    0.079079,     0.08008,    0.081081,    0.082082,    0.083083,    0.084084,    0.085085,    0.086086,    0.087087,    0.088088,    0.089089,     0.09009,    0.091091,    0.092092,    0.093093,    0.094094,    0.095095,\n",
      "          0.096096,    0.097097,    0.098098,    0.099099,      0.1001,      0.1011,      0.1021,      0.1031,      0.1041,     0.10511,     0.10611,     0.10711,     0.10811,     0.10911,     0.11011,     0.11111,     0.11211,     0.11311,     0.11411,     0.11512,     0.11612,     0.11712,     0.11812,     0.11912,\n",
      "           0.12012,     0.12112,     0.12212,     0.12312,     0.12412,     0.12513,     0.12613,     0.12713,     0.12813,     0.12913,     0.13013,     0.13113,     0.13213,     0.13313,     0.13413,     0.13514,     0.13614,     0.13714,     0.13814,     0.13914,     0.14014,     0.14114,     0.14214,     0.14314,\n",
      "           0.14414,     0.14515,     0.14615,     0.14715,     0.14815,     0.14915,     0.15015,     0.15115,     0.15215,     0.15315,     0.15415,     0.15516,     0.15616,     0.15716,     0.15816,     0.15916,     0.16016,     0.16116,     0.16216,     0.16316,     0.16416,     0.16517,     0.16617,     0.16717,\n",
      "           0.16817,     0.16917,     0.17017,     0.17117,     0.17217,     0.17317,     0.17417,     0.17518,     0.17618,     0.17718,     0.17818,     0.17918,     0.18018,     0.18118,     0.18218,     0.18318,     0.18418,     0.18519,     0.18619,     0.18719,     0.18819,     0.18919,     0.19019,     0.19119,\n",
      "           0.19219,     0.19319,     0.19419,      0.1952,      0.1962,      0.1972,      0.1982,      0.1992,      0.2002,      0.2012,      0.2022,      0.2032,      0.2042,     0.20521,     0.20621,     0.20721,     0.20821,     0.20921,     0.21021,     0.21121,     0.21221,     0.21321,     0.21421,     0.21522,\n",
      "           0.21622,     0.21722,     0.21822,     0.21922,     0.22022,     0.22122,     0.22222,     0.22322,     0.22422,     0.22523,     0.22623,     0.22723,     0.22823,     0.22923,     0.23023,     0.23123,     0.23223,     0.23323,     0.23423,     0.23524,     0.23624,     0.23724,     0.23824,     0.23924,\n",
      "           0.24024,     0.24124,     0.24224,     0.24324,     0.24424,     0.24525,     0.24625,     0.24725,     0.24825,     0.24925,     0.25025,     0.25125,     0.25225,     0.25325,     0.25425,     0.25526,     0.25626,     0.25726,     0.25826,     0.25926,     0.26026,     0.26126,     0.26226,     0.26326,\n",
      "           0.26426,     0.26527,     0.26627,     0.26727,     0.26827,     0.26927,     0.27027,     0.27127,     0.27227,     0.27327,     0.27427,     0.27528,     0.27628,     0.27728,     0.27828,     0.27928,     0.28028,     0.28128,     0.28228,     0.28328,     0.28428,     0.28529,     0.28629,     0.28729,\n",
      "           0.28829,     0.28929,     0.29029,     0.29129,     0.29229,     0.29329,     0.29429,      0.2953,      0.2963,      0.2973,      0.2983,      0.2993,      0.3003,      0.3013,      0.3023,      0.3033,      0.3043,     0.30531,     0.30631,     0.30731,     0.30831,     0.30931,     0.31031,     0.31131,\n",
      "           0.31231,     0.31331,     0.31431,     0.31532,     0.31632,     0.31732,     0.31832,     0.31932,     0.32032,     0.32132,     0.32232,     0.32332,     0.32432,     0.32533,     0.32633,     0.32733,     0.32833,     0.32933,     0.33033,     0.33133,     0.33233,     0.33333,     0.33433,     0.33534,\n",
      "           0.33634,     0.33734,     0.33834,     0.33934,     0.34034,     0.34134,     0.34234,     0.34334,     0.34434,     0.34535,     0.34635,     0.34735,     0.34835,     0.34935,     0.35035,     0.35135,     0.35235,     0.35335,     0.35435,     0.35536,     0.35636,     0.35736,     0.35836,     0.35936,\n",
      "           0.36036,     0.36136,     0.36236,     0.36336,     0.36436,     0.36537,     0.36637,     0.36737,     0.36837,     0.36937,     0.37037,     0.37137,     0.37237,     0.37337,     0.37437,     0.37538,     0.37638,     0.37738,     0.37838,     0.37938,     0.38038,     0.38138,     0.38238,     0.38338,\n",
      "           0.38438,     0.38539,     0.38639,     0.38739,     0.38839,     0.38939,     0.39039,     0.39139,     0.39239,     0.39339,     0.39439,      0.3954,      0.3964,      0.3974,      0.3984,      0.3994,      0.4004,      0.4014,      0.4024,      0.4034,      0.4044,     0.40541,     0.40641,     0.40741,\n",
      "           0.40841,     0.40941,     0.41041,     0.41141,     0.41241,     0.41341,     0.41441,     0.41542,     0.41642,     0.41742,     0.41842,     0.41942,     0.42042,     0.42142,     0.42242,     0.42342,     0.42442,     0.42543,     0.42643,     0.42743,     0.42843,     0.42943,     0.43043,     0.43143,\n",
      "           0.43243,     0.43343,     0.43443,     0.43544,     0.43644,     0.43744,     0.43844,     0.43944,     0.44044,     0.44144,     0.44244,     0.44344,     0.44444,     0.44545,     0.44645,     0.44745,     0.44845,     0.44945,     0.45045,     0.45145,     0.45245,     0.45345,     0.45445,     0.45546,\n",
      "           0.45646,     0.45746,     0.45846,     0.45946,     0.46046,     0.46146,     0.46246,     0.46346,     0.46446,     0.46547,     0.46647,     0.46747,     0.46847,     0.46947,     0.47047,     0.47147,     0.47247,     0.47347,     0.47447,     0.47548,     0.47648,     0.47748,     0.47848,     0.47948,\n",
      "           0.48048,     0.48148,     0.48248,     0.48348,     0.48448,     0.48549,     0.48649,     0.48749,     0.48849,     0.48949,     0.49049,     0.49149,     0.49249,     0.49349,     0.49449,      0.4955,      0.4965,      0.4975,      0.4985,      0.4995,      0.5005,      0.5015,      0.5025,      0.5035,\n",
      "            0.5045,     0.50551,     0.50651,     0.50751,     0.50851,     0.50951,     0.51051,     0.51151,     0.51251,     0.51351,     0.51451,     0.51552,     0.51652,     0.51752,     0.51852,     0.51952,     0.52052,     0.52152,     0.52252,     0.52352,     0.52452,     0.52553,     0.52653,     0.52753,\n",
      "           0.52853,     0.52953,     0.53053,     0.53153,     0.53253,     0.53353,     0.53453,     0.53554,     0.53654,     0.53754,     0.53854,     0.53954,     0.54054,     0.54154,     0.54254,     0.54354,     0.54454,     0.54555,     0.54655,     0.54755,     0.54855,     0.54955,     0.55055,     0.55155,\n",
      "           0.55255,     0.55355,     0.55455,     0.55556,     0.55656,     0.55756,     0.55856,     0.55956,     0.56056,     0.56156,     0.56256,     0.56356,     0.56456,     0.56557,     0.56657,     0.56757,     0.56857,     0.56957,     0.57057,     0.57157,     0.57257,     0.57357,     0.57457,     0.57558,\n",
      "           0.57658,     0.57758,     0.57858,     0.57958,     0.58058,     0.58158,     0.58258,     0.58358,     0.58458,     0.58559,     0.58659,     0.58759,     0.58859,     0.58959,     0.59059,     0.59159,     0.59259,     0.59359,     0.59459,      0.5956,      0.5966,      0.5976,      0.5986,      0.5996,\n",
      "            0.6006,      0.6016,      0.6026,      0.6036,      0.6046,     0.60561,     0.60661,     0.60761,     0.60861,     0.60961,     0.61061,     0.61161,     0.61261,     0.61361,     0.61461,     0.61562,     0.61662,     0.61762,     0.61862,     0.61962,     0.62062,     0.62162,     0.62262,     0.62362,\n",
      "           0.62462,     0.62563,     0.62663,     0.62763,     0.62863,     0.62963,     0.63063,     0.63163,     0.63263,     0.63363,     0.63463,     0.63564,     0.63664,     0.63764,     0.63864,     0.63964,     0.64064,     0.64164,     0.64264,     0.64364,     0.64464,     0.64565,     0.64665,     0.64765,\n",
      "           0.64865,     0.64965,     0.65065,     0.65165,     0.65265,     0.65365,     0.65465,     0.65566,     0.65666,     0.65766,     0.65866,     0.65966,     0.66066,     0.66166,     0.66266,     0.66366,     0.66466,     0.66567,     0.66667,     0.66767,     0.66867,     0.66967,     0.67067,     0.67167,\n",
      "           0.67267,     0.67367,     0.67467,     0.67568,     0.67668,     0.67768,     0.67868,     0.67968,     0.68068,     0.68168,     0.68268,     0.68368,     0.68468,     0.68569,     0.68669,     0.68769,     0.68869,     0.68969,     0.69069,     0.69169,     0.69269,     0.69369,     0.69469,      0.6957,\n",
      "            0.6967,      0.6977,      0.6987,      0.6997,      0.7007,      0.7017,      0.7027,      0.7037,      0.7047,     0.70571,     0.70671,     0.70771,     0.70871,     0.70971,     0.71071,     0.71171,     0.71271,     0.71371,     0.71471,     0.71572,     0.71672,     0.71772,     0.71872,     0.71972,\n",
      "           0.72072,     0.72172,     0.72272,     0.72372,     0.72472,     0.72573,     0.72673,     0.72773,     0.72873,     0.72973,     0.73073,     0.73173,     0.73273,     0.73373,     0.73473,     0.73574,     0.73674,     0.73774,     0.73874,     0.73974,     0.74074,     0.74174,     0.74274,     0.74374,\n",
      "           0.74474,     0.74575,     0.74675,     0.74775,     0.74875,     0.74975,     0.75075,     0.75175,     0.75275,     0.75375,     0.75475,     0.75576,     0.75676,     0.75776,     0.75876,     0.75976,     0.76076,     0.76176,     0.76276,     0.76376,     0.76476,     0.76577,     0.76677,     0.76777,\n",
      "           0.76877,     0.76977,     0.77077,     0.77177,     0.77277,     0.77377,     0.77477,     0.77578,     0.77678,     0.77778,     0.77878,     0.77978,     0.78078,     0.78178,     0.78278,     0.78378,     0.78478,     0.78579,     0.78679,     0.78779,     0.78879,     0.78979,     0.79079,     0.79179,\n",
      "           0.79279,     0.79379,     0.79479,      0.7958,      0.7968,      0.7978,      0.7988,      0.7998,      0.8008,      0.8018,      0.8028,      0.8038,      0.8048,     0.80581,     0.80681,     0.80781,     0.80881,     0.80981,     0.81081,     0.81181,     0.81281,     0.81381,     0.81481,     0.81582,\n",
      "           0.81682,     0.81782,     0.81882,     0.81982,     0.82082,     0.82182,     0.82282,     0.82382,     0.82482,     0.82583,     0.82683,     0.82783,     0.82883,     0.82983,     0.83083,     0.83183,     0.83283,     0.83383,     0.83483,     0.83584,     0.83684,     0.83784,     0.83884,     0.83984,\n",
      "           0.84084,     0.84184,     0.84284,     0.84384,     0.84484,     0.84585,     0.84685,     0.84785,     0.84885,     0.84985,     0.85085,     0.85185,     0.85285,     0.85385,     0.85485,     0.85586,     0.85686,     0.85786,     0.85886,     0.85986,     0.86086,     0.86186,     0.86286,     0.86386,\n",
      "           0.86486,     0.86587,     0.86687,     0.86787,     0.86887,     0.86987,     0.87087,     0.87187,     0.87287,     0.87387,     0.87487,     0.87588,     0.87688,     0.87788,     0.87888,     0.87988,     0.88088,     0.88188,     0.88288,     0.88388,     0.88488,     0.88589,     0.88689,     0.88789,\n",
      "           0.88889,     0.88989,     0.89089,     0.89189,     0.89289,     0.89389,     0.89489,      0.8959,      0.8969,      0.8979,      0.8989,      0.8999,      0.9009,      0.9019,      0.9029,      0.9039,      0.9049,     0.90591,     0.90691,     0.90791,     0.90891,     0.90991,     0.91091,     0.91191,\n",
      "           0.91291,     0.91391,     0.91491,     0.91592,     0.91692,     0.91792,     0.91892,     0.91992,     0.92092,     0.92192,     0.92292,     0.92392,     0.92492,     0.92593,     0.92693,     0.92793,     0.92893,     0.92993,     0.93093,     0.93193,     0.93293,     0.93393,     0.93493,     0.93594,\n",
      "           0.93694,     0.93794,     0.93894,     0.93994,     0.94094,     0.94194,     0.94294,     0.94394,     0.94494,     0.94595,     0.94695,     0.94795,     0.94895,     0.94995,     0.95095,     0.95195,     0.95295,     0.95395,     0.95495,     0.95596,     0.95696,     0.95796,     0.95896,     0.95996,\n",
      "           0.96096,     0.96196,     0.96296,     0.96396,     0.96496,     0.96597,     0.96697,     0.96797,     0.96897,     0.96997,     0.97097,     0.97197,     0.97297,     0.97397,     0.97497,     0.97598,     0.97698,     0.97798,     0.97898,     0.97998,     0.98098,     0.98198,     0.98298,     0.98398,\n",
      "           0.98498,     0.98599,     0.98699,     0.98799,     0.98899,     0.98999,     0.99099,     0.99199,     0.99299,     0.99399,     0.99499,       0.996,       0.997,       0.998,       0.999,           1]), array([[          1,           1,           1,           1,           1,           1,           1,           1,           1,           1,           1,           1,           1,           1,           1,           1,           1,           1,           1,           1,           1,           1,           1,\n",
      "                  1,           1,           1,           1,           1,           1,           1,           1,           1,           1,           1,           1,           1,           1,           1,           1,           1,           1,           1,           1,           1,           1,           1,\n",
      "                  1,           1,           1,           1,           1,           1,           1,           1,           1,           1,           1,           1,           1,           1,           1,           1,           1,           1,           1,           1,           1,           1,           1,\n",
      "                  1,           1,           1,           1,           1,           1,           1,           1,           1,           1,           1,           1,           1,           1,           1,           1,           1,           1,           1,           1,           1,           1,           1,\n",
      "                  1,           1,           1,           1,           1,           1,           1,           1,           1,           1,           1,           1,           1,           1,           1,           1,           1,           1,           1,           1,           1,           1,           1,\n",
      "                  1,           1,           1,           1,           1,           1,           1,           1,           1,           1,           1,           1,           1,           1,           1,           1,           1,           1,           1,           1,           1,           1,           1,\n",
      "                  1,           1,           1,           1,           1,           1,           1,           1,           1,           1,           1,           1,           1,           1,           1,           1,           1,           1,           1,           1,           1,           1,           1,\n",
      "                  1,           1,           1,           1,           1,           1,           1,           1,           1,           1,           1,           1,           1,           1,           1,           1,           1,           1,           1,           1,           1,           1,           1,\n",
      "                  1,           1,           1,           1,           1,           1,           1,           1,           1,           1,           1,           1,           1,           1,           1,           1,           1,           1,           1,           1,           1,           1,           1,\n",
      "                  1,           1,           1,           1,           1,           1,           1,           1,           1,           1,           1,           1,           1,           1,           1,           1,           1,           1,           1,           1,           1,           1,           1,\n",
      "                  1,           1,           1,           1,           1,           1,           1,           1,           1,           1,           1,           1,           1,           1,           1,           1,           1,           1,           1,           1,           1,           1,           1,\n",
      "                  1,           1,           1,           1,           1,           1,           1,           1,           1,           1,           1,           1,           1,           1,           1,           1,           1,           1,           1,           1,           1,           1,           1,\n",
      "                  1,           1,           1,           1,           1,           1,           1,           1,           1,           1,           1,           1,           1,           1,           1,           1,           1,           1,           1,           1,           1,           1,           1,\n",
      "                  1,           1,           1,           1,           1,           1,           1,           1,           1,           1,           1,           1,           1,           1,           1,           1,           1,           1,           1,           1,           1,           1,           1,\n",
      "                  1,           1,           1,           1,           1,           1,           1,           1,           1,           1,           1,           1,           1,           1,           1,           1,           1,           1,           1,           1,           1,           1,           1,\n",
      "                  1,           1,           1,           1,           1,           1,           1,           1,           1,           1,           1,           1,           1,           1,           1,           1,           1,           1,           1,           1,           1,           1,           1,\n",
      "                  1,           1,           1,           1,           1,           1,           1,           1,           1,           1,           1,           1,           1,           1,           1,           1,           1,           1,           1,           1,           1,           1,           1,\n",
      "                  1,           1,           1,           1,           1,           1,           1,           1,           1,           1,           1,           1,           1,           1,           1,           1,           1,           1,           1,           1,           1,           1,           1,\n",
      "                  1,           1,           1,           1,           1,           1,           1,           1,           1,           1,           1,           1,           1,           1,           1,           1,           1,           1,           1,           1,           1,           1,           1,\n",
      "                  1,           1,           1,           1,           1,           1,           1,           1,           1,           1,           1,           1,           1,           1,           1,           1,           1,           1,           1,           1,           1,           1,           1,\n",
      "                  1,           1,           1,           1,           1,           1,           1,           1,           1,           1,           1,           1,           1,           1,           1,           1,           1,           1,           1,           1,           1,           1,           1,\n",
      "                  1,           1,           1,           1,           1,           1,           1,           1,           1,           1,           1,           1,           1,           1,           1,           1,           1,           1,           1,           1,           1,           1,           1,\n",
      "                  1,           1,           1,     0.97368,     0.97368,     0.97368,     0.97368,     0.97368,     0.97368,     0.97368,     0.97368,     0.97368,     0.97368,     0.97368,     0.97368,     0.97368,     0.97368,     0.97368,     0.97368,     0.97368,     0.97368,     0.97368,     0.97368,\n",
      "            0.97368,     0.97368,     0.97368,     0.97368,     0.97368,     0.97368,     0.97368,     0.97368,     0.97368,     0.97368,     0.97368,     0.97368,     0.97368,     0.97368,     0.97368,     0.97368,     0.97368,     0.97368,     0.97368,     0.97368,     0.97368,     0.97368,     0.97368,\n",
      "            0.97368,     0.97368,     0.97368,     0.97368,     0.97368,     0.97368,     0.97368,     0.97368,     0.97368,     0.97368,     0.97368,     0.97368,     0.97368,     0.97368,     0.97368,     0.97368,     0.97368,     0.97368,     0.97368,     0.97368,     0.97368,     0.97368,     0.97368,\n",
      "            0.97368,     0.97368,     0.97368,     0.97368,     0.97368,     0.97368,     0.97368,     0.97368,     0.97368,     0.97368,     0.97368,     0.97368,     0.97368,     0.97368,     0.97368,     0.97368,     0.97368,     0.97368,     0.97368,     0.97368,     0.97368,     0.97368,     0.97368,\n",
      "            0.97368,     0.97368,     0.97368,     0.97368,     0.97368,     0.97368,     0.97368,     0.97368,     0.97368,     0.97368,     0.97368,     0.97368,     0.97368,     0.97368,     0.97368,     0.97368,     0.97368,     0.97368,     0.97368,     0.97368,     0.97368,     0.97368,     0.97368,\n",
      "            0.97368,     0.97368,     0.97368,     0.97368,     0.97368,     0.97368,     0.97368,     0.97368,     0.97368,     0.97368,     0.97368,     0.97368,     0.97368,     0.97368,     0.97368,     0.97368,     0.97368,     0.97368,     0.97368,     0.97368,     0.97368,     0.97368,     0.97368,\n",
      "            0.97368,     0.97368,     0.97368,     0.97368,     0.97368,     0.95349,     0.95349,     0.95349,     0.95349,     0.95349,     0.95349,     0.95349,     0.95349,     0.95349,     0.95349,     0.95349,     0.95349,     0.95349,     0.95349,     0.95349,     0.95349,     0.95349,     0.95349,\n",
      "            0.95349,     0.95349,     0.95349,     0.95349,     0.95349,     0.95349,     0.95349,     0.95349,     0.95349,     0.95349,     0.95349,     0.95349,     0.95349,     0.95349,     0.95349,     0.95349,     0.95349,     0.95349,     0.95349,     0.95349,     0.95349,     0.95349,     0.95349,\n",
      "            0.95349,     0.95349,     0.95349,     0.95349,     0.95349,     0.95349,     0.95349,     0.95349,     0.95349,     0.95349,     0.95349,     0.95349,     0.95349,     0.95349,     0.95349,     0.95349,     0.95349,     0.95349,     0.95349,     0.95349,     0.95349,     0.95349,     0.95349,\n",
      "            0.95349,     0.95349,     0.95349,     0.95349,     0.95349,     0.95349,     0.93617,     0.93617,     0.93617,     0.93617,     0.93617,     0.93617,     0.93617,     0.93617,     0.93617,     0.93617,     0.93617,     0.93617,     0.93617,     0.93617,     0.93617,     0.93617,     0.93617,\n",
      "            0.93617,     0.93617,     0.93617,     0.93617,     0.93617,     0.93617,     0.93617,     0.93617,     0.93617,     0.93617,     0.93617,     0.93617,     0.93617,     0.93617,     0.93617,     0.93617,     0.93617,     0.93617,     0.93617,     0.93617,     0.93617,     0.93617,     0.93617,\n",
      "            0.93617,     0.93617,     0.93617,     0.93617,     0.93617,     0.93617,     0.93617,     0.93617,     0.93617,     0.93617,     0.93617,     0.93617,     0.93617,     0.91837,     0.91837,     0.91837,     0.91837,     0.91837,     0.91837,     0.91837,     0.91837,     0.91837,     0.91837,\n",
      "            0.91837,     0.91837,     0.91837,     0.91837,     0.91837,     0.91837,     0.91837,     0.90196,     0.90196,     0.90196,     0.90196,     0.90196,     0.90196,     0.90196,     0.90196,     0.90196,     0.90196,     0.90196,     0.90196,     0.90196,     0.90196,     0.90196,     0.90196,\n",
      "            0.90196,     0.90196,     0.88679,     0.88679,     0.88679,     0.88679,     0.88679,     0.88679,     0.88679,     0.88679,     0.88679,     0.88679,     0.88679,     0.88679,     0.88679,     0.88679,     0.88679,     0.88679,     0.88679,     0.85714,     0.85714,     0.85714,     0.85714,\n",
      "            0.85714,     0.85714,     0.85714,     0.85714,     0.85714,     0.85714,     0.85714,     0.85714,     0.85714,     0.85714,     0.85714,     0.85714,     0.85714,     0.85714,     0.81667,     0.81667,     0.81667,     0.81667,     0.81667,     0.81667,     0.81667,     0.81667,     0.81667,\n",
      "            0.81667,     0.81667,     0.81667,     0.81667,     0.81667,     0.81667,     0.81667,     0.81667,     0.57471,     0.57471,     0.57471,     0.57471,     0.57471,     0.57471,     0.57471,     0.57471,     0.57471,     0.57471,     0.57471,     0.57471,     0.57471,     0.57471,     0.57471,\n",
      "            0.57471,     0.57471,     0.57471,     0.55435,     0.55435,     0.55435,     0.55435,     0.55435,     0.55435,     0.55435,     0.55435,     0.55435,     0.55435,     0.55435,     0.55435,     0.55435,     0.55435,     0.55435,     0.55435,     0.55435,     0.46429,     0.46429,     0.46429,\n",
      "            0.46429,     0.46429,     0.46429,     0.46429,     0.46429,     0.46429,     0.46429,     0.46429,     0.46429,     0.46429,     0.46429,     0.46429,     0.46429,     0.46429,     0.46429,     0.29775,     0.29775,     0.29775,     0.29775,     0.29775,     0.29775,     0.29775,     0.29775,\n",
      "            0.29775,     0.29775,     0.29775,     0.29775,     0.29775,     0.29775,     0.29775,     0.29775,     0.29775,     0.23176,     0.23176,     0.23176,     0.23176,     0.23176,     0.23176,     0.23176,     0.23176,     0.23176,     0.23176,     0.23176,     0.23176,     0.23176,     0.23176,\n",
      "            0.23176,     0.23176,     0.23176,     0.23176,    0.036667,    0.036667,    0.036667,    0.036667,    0.036667,    0.036667,    0.036667,    0.036667,    0.036667,    0.036667,    0.036667,    0.036667,    0.036667,    0.036667,    0.036667,    0.036667,    0.036667,   0.0036089,   0.0036089,\n",
      "          0.0036089,   0.0036089,   0.0036089,   0.0036089,   0.0036089,   0.0036089,   0.0036089,   0.0036089,   0.0036089,   0.0036089,   0.0036089,   0.0036089,   0.0036089,   0.0036089,   0.0036089,   0.0036089,   0.0031765,   0.0029897,   0.0028028,   0.0026159,   0.0024291,   0.0022422,   0.0020554,\n",
      "          0.0018685,   0.0016817,   0.0014948,    0.001308,   0.0011211,  0.00093427,  0.00074741,  0.00056056,  0.00037371,  0.00018685,           0]]), 'Recall', 'Precision'], [array([          0,    0.001001,    0.002002,    0.003003,    0.004004,    0.005005,    0.006006,    0.007007,    0.008008,    0.009009,     0.01001,    0.011011,    0.012012,    0.013013,    0.014014,    0.015015,    0.016016,    0.017017,    0.018018,    0.019019,     0.02002,    0.021021,    0.022022,    0.023023,\n",
      "          0.024024,    0.025025,    0.026026,    0.027027,    0.028028,    0.029029,     0.03003,    0.031031,    0.032032,    0.033033,    0.034034,    0.035035,    0.036036,    0.037037,    0.038038,    0.039039,     0.04004,    0.041041,    0.042042,    0.043043,    0.044044,    0.045045,    0.046046,    0.047047,\n",
      "          0.048048,    0.049049,     0.05005,    0.051051,    0.052052,    0.053053,    0.054054,    0.055055,    0.056056,    0.057057,    0.058058,    0.059059,     0.06006,    0.061061,    0.062062,    0.063063,    0.064064,    0.065065,    0.066066,    0.067067,    0.068068,    0.069069,     0.07007,    0.071071,\n",
      "          0.072072,    0.073073,    0.074074,    0.075075,    0.076076,    0.077077,    0.078078,    0.079079,     0.08008,    0.081081,    0.082082,    0.083083,    0.084084,    0.085085,    0.086086,    0.087087,    0.088088,    0.089089,     0.09009,    0.091091,    0.092092,    0.093093,    0.094094,    0.095095,\n",
      "          0.096096,    0.097097,    0.098098,    0.099099,      0.1001,      0.1011,      0.1021,      0.1031,      0.1041,     0.10511,     0.10611,     0.10711,     0.10811,     0.10911,     0.11011,     0.11111,     0.11211,     0.11311,     0.11411,     0.11512,     0.11612,     0.11712,     0.11812,     0.11912,\n",
      "           0.12012,     0.12112,     0.12212,     0.12312,     0.12412,     0.12513,     0.12613,     0.12713,     0.12813,     0.12913,     0.13013,     0.13113,     0.13213,     0.13313,     0.13413,     0.13514,     0.13614,     0.13714,     0.13814,     0.13914,     0.14014,     0.14114,     0.14214,     0.14314,\n",
      "           0.14414,     0.14515,     0.14615,     0.14715,     0.14815,     0.14915,     0.15015,     0.15115,     0.15215,     0.15315,     0.15415,     0.15516,     0.15616,     0.15716,     0.15816,     0.15916,     0.16016,     0.16116,     0.16216,     0.16316,     0.16416,     0.16517,     0.16617,     0.16717,\n",
      "           0.16817,     0.16917,     0.17017,     0.17117,     0.17217,     0.17317,     0.17417,     0.17518,     0.17618,     0.17718,     0.17818,     0.17918,     0.18018,     0.18118,     0.18218,     0.18318,     0.18418,     0.18519,     0.18619,     0.18719,     0.18819,     0.18919,     0.19019,     0.19119,\n",
      "           0.19219,     0.19319,     0.19419,      0.1952,      0.1962,      0.1972,      0.1982,      0.1992,      0.2002,      0.2012,      0.2022,      0.2032,      0.2042,     0.20521,     0.20621,     0.20721,     0.20821,     0.20921,     0.21021,     0.21121,     0.21221,     0.21321,     0.21421,     0.21522,\n",
      "           0.21622,     0.21722,     0.21822,     0.21922,     0.22022,     0.22122,     0.22222,     0.22322,     0.22422,     0.22523,     0.22623,     0.22723,     0.22823,     0.22923,     0.23023,     0.23123,     0.23223,     0.23323,     0.23423,     0.23524,     0.23624,     0.23724,     0.23824,     0.23924,\n",
      "           0.24024,     0.24124,     0.24224,     0.24324,     0.24424,     0.24525,     0.24625,     0.24725,     0.24825,     0.24925,     0.25025,     0.25125,     0.25225,     0.25325,     0.25425,     0.25526,     0.25626,     0.25726,     0.25826,     0.25926,     0.26026,     0.26126,     0.26226,     0.26326,\n",
      "           0.26426,     0.26527,     0.26627,     0.26727,     0.26827,     0.26927,     0.27027,     0.27127,     0.27227,     0.27327,     0.27427,     0.27528,     0.27628,     0.27728,     0.27828,     0.27928,     0.28028,     0.28128,     0.28228,     0.28328,     0.28428,     0.28529,     0.28629,     0.28729,\n",
      "           0.28829,     0.28929,     0.29029,     0.29129,     0.29229,     0.29329,     0.29429,      0.2953,      0.2963,      0.2973,      0.2983,      0.2993,      0.3003,      0.3013,      0.3023,      0.3033,      0.3043,     0.30531,     0.30631,     0.30731,     0.30831,     0.30931,     0.31031,     0.31131,\n",
      "           0.31231,     0.31331,     0.31431,     0.31532,     0.31632,     0.31732,     0.31832,     0.31932,     0.32032,     0.32132,     0.32232,     0.32332,     0.32432,     0.32533,     0.32633,     0.32733,     0.32833,     0.32933,     0.33033,     0.33133,     0.33233,     0.33333,     0.33433,     0.33534,\n",
      "           0.33634,     0.33734,     0.33834,     0.33934,     0.34034,     0.34134,     0.34234,     0.34334,     0.34434,     0.34535,     0.34635,     0.34735,     0.34835,     0.34935,     0.35035,     0.35135,     0.35235,     0.35335,     0.35435,     0.35536,     0.35636,     0.35736,     0.35836,     0.35936,\n",
      "           0.36036,     0.36136,     0.36236,     0.36336,     0.36436,     0.36537,     0.36637,     0.36737,     0.36837,     0.36937,     0.37037,     0.37137,     0.37237,     0.37337,     0.37437,     0.37538,     0.37638,     0.37738,     0.37838,     0.37938,     0.38038,     0.38138,     0.38238,     0.38338,\n",
      "           0.38438,     0.38539,     0.38639,     0.38739,     0.38839,     0.38939,     0.39039,     0.39139,     0.39239,     0.39339,     0.39439,      0.3954,      0.3964,      0.3974,      0.3984,      0.3994,      0.4004,      0.4014,      0.4024,      0.4034,      0.4044,     0.40541,     0.40641,     0.40741,\n",
      "           0.40841,     0.40941,     0.41041,     0.41141,     0.41241,     0.41341,     0.41441,     0.41542,     0.41642,     0.41742,     0.41842,     0.41942,     0.42042,     0.42142,     0.42242,     0.42342,     0.42442,     0.42543,     0.42643,     0.42743,     0.42843,     0.42943,     0.43043,     0.43143,\n",
      "           0.43243,     0.43343,     0.43443,     0.43544,     0.43644,     0.43744,     0.43844,     0.43944,     0.44044,     0.44144,     0.44244,     0.44344,     0.44444,     0.44545,     0.44645,     0.44745,     0.44845,     0.44945,     0.45045,     0.45145,     0.45245,     0.45345,     0.45445,     0.45546,\n",
      "           0.45646,     0.45746,     0.45846,     0.45946,     0.46046,     0.46146,     0.46246,     0.46346,     0.46446,     0.46547,     0.46647,     0.46747,     0.46847,     0.46947,     0.47047,     0.47147,     0.47247,     0.47347,     0.47447,     0.47548,     0.47648,     0.47748,     0.47848,     0.47948,\n",
      "           0.48048,     0.48148,     0.48248,     0.48348,     0.48448,     0.48549,     0.48649,     0.48749,     0.48849,     0.48949,     0.49049,     0.49149,     0.49249,     0.49349,     0.49449,      0.4955,      0.4965,      0.4975,      0.4985,      0.4995,      0.5005,      0.5015,      0.5025,      0.5035,\n",
      "            0.5045,     0.50551,     0.50651,     0.50751,     0.50851,     0.50951,     0.51051,     0.51151,     0.51251,     0.51351,     0.51451,     0.51552,     0.51652,     0.51752,     0.51852,     0.51952,     0.52052,     0.52152,     0.52252,     0.52352,     0.52452,     0.52553,     0.52653,     0.52753,\n",
      "           0.52853,     0.52953,     0.53053,     0.53153,     0.53253,     0.53353,     0.53453,     0.53554,     0.53654,     0.53754,     0.53854,     0.53954,     0.54054,     0.54154,     0.54254,     0.54354,     0.54454,     0.54555,     0.54655,     0.54755,     0.54855,     0.54955,     0.55055,     0.55155,\n",
      "           0.55255,     0.55355,     0.55455,     0.55556,     0.55656,     0.55756,     0.55856,     0.55956,     0.56056,     0.56156,     0.56256,     0.56356,     0.56456,     0.56557,     0.56657,     0.56757,     0.56857,     0.56957,     0.57057,     0.57157,     0.57257,     0.57357,     0.57457,     0.57558,\n",
      "           0.57658,     0.57758,     0.57858,     0.57958,     0.58058,     0.58158,     0.58258,     0.58358,     0.58458,     0.58559,     0.58659,     0.58759,     0.58859,     0.58959,     0.59059,     0.59159,     0.59259,     0.59359,     0.59459,      0.5956,      0.5966,      0.5976,      0.5986,      0.5996,\n",
      "            0.6006,      0.6016,      0.6026,      0.6036,      0.6046,     0.60561,     0.60661,     0.60761,     0.60861,     0.60961,     0.61061,     0.61161,     0.61261,     0.61361,     0.61461,     0.61562,     0.61662,     0.61762,     0.61862,     0.61962,     0.62062,     0.62162,     0.62262,     0.62362,\n",
      "           0.62462,     0.62563,     0.62663,     0.62763,     0.62863,     0.62963,     0.63063,     0.63163,     0.63263,     0.63363,     0.63463,     0.63564,     0.63664,     0.63764,     0.63864,     0.63964,     0.64064,     0.64164,     0.64264,     0.64364,     0.64464,     0.64565,     0.64665,     0.64765,\n",
      "           0.64865,     0.64965,     0.65065,     0.65165,     0.65265,     0.65365,     0.65465,     0.65566,     0.65666,     0.65766,     0.65866,     0.65966,     0.66066,     0.66166,     0.66266,     0.66366,     0.66466,     0.66567,     0.66667,     0.66767,     0.66867,     0.66967,     0.67067,     0.67167,\n",
      "           0.67267,     0.67367,     0.67467,     0.67568,     0.67668,     0.67768,     0.67868,     0.67968,     0.68068,     0.68168,     0.68268,     0.68368,     0.68468,     0.68569,     0.68669,     0.68769,     0.68869,     0.68969,     0.69069,     0.69169,     0.69269,     0.69369,     0.69469,      0.6957,\n",
      "            0.6967,      0.6977,      0.6987,      0.6997,      0.7007,      0.7017,      0.7027,      0.7037,      0.7047,     0.70571,     0.70671,     0.70771,     0.70871,     0.70971,     0.71071,     0.71171,     0.71271,     0.71371,     0.71471,     0.71572,     0.71672,     0.71772,     0.71872,     0.71972,\n",
      "           0.72072,     0.72172,     0.72272,     0.72372,     0.72472,     0.72573,     0.72673,     0.72773,     0.72873,     0.72973,     0.73073,     0.73173,     0.73273,     0.73373,     0.73473,     0.73574,     0.73674,     0.73774,     0.73874,     0.73974,     0.74074,     0.74174,     0.74274,     0.74374,\n",
      "           0.74474,     0.74575,     0.74675,     0.74775,     0.74875,     0.74975,     0.75075,     0.75175,     0.75275,     0.75375,     0.75475,     0.75576,     0.75676,     0.75776,     0.75876,     0.75976,     0.76076,     0.76176,     0.76276,     0.76376,     0.76476,     0.76577,     0.76677,     0.76777,\n",
      "           0.76877,     0.76977,     0.77077,     0.77177,     0.77277,     0.77377,     0.77477,     0.77578,     0.77678,     0.77778,     0.77878,     0.77978,     0.78078,     0.78178,     0.78278,     0.78378,     0.78478,     0.78579,     0.78679,     0.78779,     0.78879,     0.78979,     0.79079,     0.79179,\n",
      "           0.79279,     0.79379,     0.79479,      0.7958,      0.7968,      0.7978,      0.7988,      0.7998,      0.8008,      0.8018,      0.8028,      0.8038,      0.8048,     0.80581,     0.80681,     0.80781,     0.80881,     0.80981,     0.81081,     0.81181,     0.81281,     0.81381,     0.81481,     0.81582,\n",
      "           0.81682,     0.81782,     0.81882,     0.81982,     0.82082,     0.82182,     0.82282,     0.82382,     0.82482,     0.82583,     0.82683,     0.82783,     0.82883,     0.82983,     0.83083,     0.83183,     0.83283,     0.83383,     0.83483,     0.83584,     0.83684,     0.83784,     0.83884,     0.83984,\n",
      "           0.84084,     0.84184,     0.84284,     0.84384,     0.84484,     0.84585,     0.84685,     0.84785,     0.84885,     0.84985,     0.85085,     0.85185,     0.85285,     0.85385,     0.85485,     0.85586,     0.85686,     0.85786,     0.85886,     0.85986,     0.86086,     0.86186,     0.86286,     0.86386,\n",
      "           0.86486,     0.86587,     0.86687,     0.86787,     0.86887,     0.86987,     0.87087,     0.87187,     0.87287,     0.87387,     0.87487,     0.87588,     0.87688,     0.87788,     0.87888,     0.87988,     0.88088,     0.88188,     0.88288,     0.88388,     0.88488,     0.88589,     0.88689,     0.88789,\n",
      "           0.88889,     0.88989,     0.89089,     0.89189,     0.89289,     0.89389,     0.89489,      0.8959,      0.8969,      0.8979,      0.8989,      0.8999,      0.9009,      0.9019,      0.9029,      0.9039,      0.9049,     0.90591,     0.90691,     0.90791,     0.90891,     0.90991,     0.91091,     0.91191,\n",
      "           0.91291,     0.91391,     0.91491,     0.91592,     0.91692,     0.91792,     0.91892,     0.91992,     0.92092,     0.92192,     0.92292,     0.92392,     0.92492,     0.92593,     0.92693,     0.92793,     0.92893,     0.92993,     0.93093,     0.93193,     0.93293,     0.93393,     0.93493,     0.93594,\n",
      "           0.93694,     0.93794,     0.93894,     0.93994,     0.94094,     0.94194,     0.94294,     0.94394,     0.94494,     0.94595,     0.94695,     0.94795,     0.94895,     0.94995,     0.95095,     0.95195,     0.95295,     0.95395,     0.95495,     0.95596,     0.95696,     0.95796,     0.95896,     0.95996,\n",
      "           0.96096,     0.96196,     0.96296,     0.96396,     0.96496,     0.96597,     0.96697,     0.96797,     0.96897,     0.96997,     0.97097,     0.97197,     0.97297,     0.97397,     0.97497,     0.97598,     0.97698,     0.97798,     0.97898,     0.97998,     0.98098,     0.98198,     0.98298,     0.98398,\n",
      "           0.98498,     0.98599,     0.98699,     0.98799,     0.98899,     0.98999,     0.99099,     0.99199,     0.99299,     0.99399,     0.99499,       0.996,       0.997,       0.998,       0.999,           1]), array([[  0.0065279,   0.0065279,   0.0068365,   0.0072055,   0.0073457,   0.0083182,    0.012499,    0.024766,     0.04831,    0.093912,     0.14875,     0.18761,     0.21713,     0.23696,     0.26134,     0.28544,     0.30693,     0.32846,     0.34359,     0.35144,     0.37018,     0.37625,     0.38506,\n",
      "             0.4063,      0.4177,     0.43447,     0.44048,       0.446,      0.4486,     0.44563,     0.45945,     0.47198,     0.48873,     0.49361,     0.49895,     0.50382,     0.51294,     0.52665,     0.53707,     0.54352,     0.55364,     0.55626,     0.55869,     0.56577,     0.57375,     0.58231,\n",
      "            0.58903,     0.59284,     0.59979,     0.60221,     0.60448,     0.61007,      0.6128,     0.61427,     0.61326,     0.61105,     0.62156,     0.62436,     0.62643,     0.62792,     0.62942,      0.6308,     0.63215,     0.63351,     0.63772,     0.63886,        0.64,     0.64114,     0.64275,\n",
      "            0.64458,      0.6458,      0.6463,     0.64681,     0.64731,     0.64782,     0.64832,     0.64882,     0.64932,     0.65086,     0.65409,     0.65499,     0.65589,     0.65679,     0.65768,     0.65896,     0.66054,     0.66211,     0.66489,     0.66735,     0.66904,     0.67073,     0.67385,\n",
      "            0.67627,     0.67774,     0.67921,     0.68057,     0.68181,     0.68305,     0.68429,     0.67699,     0.67636,     0.67714,     0.67793,     0.67871,     0.67949,     0.68028,     0.68148,     0.68268,     0.68388,      0.6862,     0.69006,     0.69066,     0.69126,     0.69186,     0.69245,\n",
      "            0.69305,     0.69365,     0.69424,     0.69323,     0.69139,     0.68955,      0.6877,     0.68586,     0.68676,     0.68879,     0.69023,      0.6905,     0.69077,     0.69104,     0.69131,     0.69157,     0.69184,     0.69211,     0.69238,     0.69265,     0.69291,     0.69318,     0.69345,\n",
      "            0.69372,     0.69398,     0.69425,     0.69452,     0.69478,     0.69513,     0.69699,     0.69885,     0.70019,     0.70068,     0.70117,     0.70166,     0.70215,     0.70264,     0.70313,     0.70362,     0.70411,      0.7046,     0.70511,     0.70583,     0.70654,     0.70725,     0.70796,\n",
      "            0.70867,     0.70938,     0.71009,     0.71969,     0.72144,     0.72242,     0.72339,     0.72436,     0.72533,     0.72615,     0.72672,     0.72729,     0.72786,     0.72843,       0.729,     0.72957,     0.73014,     0.73071,     0.73128,     0.73381,     0.73658,     0.74053,       0.743,\n",
      "            0.74408,     0.74515,     0.74622,     0.74729,     0.74851,     0.75016,      0.7518,     0.75344,     0.75642,     0.75971,     0.76021,     0.76071,     0.76122,     0.76172,     0.76222,     0.76272,     0.76322,     0.76372,     0.76422,     0.76472,     0.76522,     0.76712,     0.77181,\n",
      "            0.77215,     0.77248,     0.77282,     0.77316,     0.77349,     0.77383,     0.77416,      0.7745,     0.77484,     0.77517,     0.77551,     0.77584,     0.77617,     0.77651,     0.77684,     0.77718,     0.77751,     0.77866,     0.78312,     0.78548,     0.78731,     0.78915,      0.7905,\n",
      "              0.791,      0.7915,       0.792,      0.7925,       0.793,      0.7935,       0.794,      0.7945,       0.795,     0.79549,     0.79599,     0.79649,     0.79692,     0.79727,     0.79763,     0.79798,     0.79834,     0.79869,     0.79904,      0.7994,     0.79975,      0.8001,     0.80046,\n",
      "            0.80081,     0.80116,     0.80151,     0.80187,     0.80222,     0.80257,     0.80292,     0.80327,     0.80775,     0.81005,      0.8103,     0.81056,     0.81081,     0.81106,     0.81132,     0.81157,     0.81182,     0.81208,     0.81233,     0.81258,     0.81283,     0.81308,     0.81334,\n",
      "            0.81359,     0.81384,     0.81409,     0.81434,     0.81459,     0.81484,      0.8151,     0.81535,      0.8156,     0.81585,      0.8161,     0.81635,      0.8166,     0.81698,      0.8174,     0.81783,     0.81826,     0.81868,     0.81911,     0.81953,     0.81995,     0.82038,      0.8208,\n",
      "            0.82122,     0.82165,     0.82207,     0.82249,     0.82291,     0.82333,     0.82421,      0.8255,     0.82677,     0.82805,     0.82932,     0.83053,     0.83091,     0.83128,     0.83166,     0.83203,     0.83241,     0.83278,     0.83316,     0.83353,      0.8339,     0.83427,     0.83465,\n",
      "            0.83502,     0.83539,     0.83576,     0.83613,     0.83651,     0.83688,     0.83725,     0.83752,     0.83432,     0.83111,     0.82789,     0.82918,     0.83094,     0.83269,     0.83443,     0.83492,      0.8351,     0.83528,     0.83545,     0.83563,     0.83581,     0.83598,     0.83616,\n",
      "            0.83634,     0.83651,     0.83669,     0.83686,     0.83704,     0.83722,     0.83739,     0.83757,     0.83774,     0.83792,      0.8381,     0.83827,     0.83845,     0.83862,      0.8388,     0.83897,     0.83915,     0.83932,      0.8395,     0.83967,     0.83985,     0.84002,      0.8402,\n",
      "            0.84037,     0.84055,     0.84072,      0.8409,     0.84107,     0.84124,     0.84142,     0.84159,     0.84177,     0.84194,     0.84219,     0.84393,     0.84565,     0.84737,     0.84908,      0.8468,     0.84294,      0.8393,     0.83954,     0.83978,     0.84002,     0.84026,      0.8405,\n",
      "            0.84074,     0.84098,     0.84122,     0.84146,      0.8417,     0.84194,     0.84218,     0.84242,     0.84266,     0.84289,     0.84313,     0.84337,     0.84361,     0.84385,     0.84409,     0.84432,     0.84456,      0.8448,     0.84504,     0.84527,     0.84551,     0.84575,     0.84598,\n",
      "            0.84622,     0.84646,     0.84669,     0.84801,     0.85128,     0.85451,     0.85333,      0.8521,     0.85086,     0.84963,     0.84839,     0.84715,      0.8459,     0.84466,     0.84429,     0.84479,      0.8453,      0.8458,      0.8463,     0.84681,     0.84731,     0.84781,     0.84831,\n",
      "            0.84881,     0.84931,      0.8498,      0.8503,      0.8508,      0.8513,     0.85179,     0.84947,     0.84673,     0.84399,     0.84124,     0.84135,      0.8416,     0.84184,     0.84208,     0.84232,     0.84256,     0.84281,     0.84305,     0.84329,     0.84353,     0.84377,     0.84401,\n",
      "            0.84425,     0.84449,     0.84473,     0.84497,     0.84521,     0.84545,     0.84569,     0.84593,     0.84617,     0.84641,     0.84665,     0.84689,     0.84713,     0.84737,     0.84761,     0.84785,     0.84808,     0.84832,     0.84856,      0.8488,     0.84904,     0.84657,     0.84383,\n",
      "            0.84108,     0.83832,     0.83821,     0.83834,     0.83847,     0.83859,     0.83872,     0.83885,     0.83897,      0.8391,     0.83923,     0.83936,     0.83948,     0.83961,     0.83974,     0.83986,     0.83999,     0.84012,     0.84024,     0.84037,     0.84049,     0.84062,     0.84075,\n",
      "            0.84087,       0.841,     0.84113,     0.84125,     0.84138,      0.8415,     0.84163,     0.84176,     0.84188,     0.84201,     0.84213,     0.84226,     0.84239,     0.84251,     0.84264,     0.84276,     0.84289,     0.84301,     0.84314,     0.84326,     0.84339,     0.84352,     0.84364,\n",
      "            0.84377,     0.84389,     0.84402,     0.84414,     0.84427,     0.84439,     0.84452,     0.84464,     0.84477,     0.84489,     0.84502,     0.84514,     0.84527,     0.84539,     0.84552,     0.84564,     0.84576,     0.84589,     0.84601,     0.84614,     0.84591,     0.84564,     0.84536,\n",
      "            0.84508,      0.8448,     0.84452,     0.84425,     0.84397,     0.84369,     0.84341,     0.84313,     0.84285,     0.84257,      0.8423,     0.84202,     0.84174,     0.84146,     0.84118,      0.8409,     0.84062,     0.84034,     0.84006,     0.83978,      0.8395,     0.83922,     0.83894,\n",
      "            0.83866,     0.83838,      0.8381,     0.83782,     0.83753,     0.83725,     0.83697,     0.83669,     0.83641,     0.83613,     0.83585,     0.83556,     0.83528,       0.835,     0.83471,     0.83441,     0.83412,     0.83383,     0.83353,     0.83324,     0.83295,     0.83265,     0.83236,\n",
      "            0.83206,     0.83177,     0.83147,     0.83118,     0.83088,     0.83059,     0.83029,        0.83,      0.8297,     0.82941,     0.82911,     0.82881,     0.82852,     0.82822,     0.82793,     0.82763,     0.82733,     0.82704,     0.82674,     0.82644,     0.82614,     0.82585,     0.82555,\n",
      "            0.82525,     0.82495,     0.82466,     0.82436,     0.82406,     0.82376,     0.82349,     0.82333,     0.82317,     0.82301,     0.82285,     0.82269,     0.82253,     0.82237,     0.82221,     0.82205,     0.82189,     0.82173,     0.82157,     0.82141,     0.82125,     0.82109,     0.82093,\n",
      "            0.82077,     0.82061,     0.82045,     0.82029,     0.82013,     0.81997,     0.81981,     0.81965,     0.81949,     0.81933,     0.81917,       0.819,     0.81884,     0.81868,     0.81852,     0.81836,      0.8182,     0.81804,     0.81788,     0.81772,     0.81755,     0.81739,     0.81723,\n",
      "            0.81707,     0.81691,     0.81675,     0.81659,     0.81642,     0.81626,      0.8161,     0.81594,     0.81578,     0.81562,     0.81546,     0.81529,     0.81513,     0.81497,     0.81481,     0.81465,     0.81448,     0.81432,     0.81416,       0.814,     0.81384,     0.81367,     0.81351,\n",
      "            0.81335,     0.81319,     0.81302,     0.81286,      0.8127,     0.81254,     0.81237,     0.81221,     0.81205,     0.81189,     0.81244,     0.81302,      0.8136,     0.81418,     0.81476,     0.81533,     0.81591,     0.81648,     0.81705,     0.81762,     0.81819,     0.81876,     0.81933,\n",
      "             0.8199,     0.81233,     0.80791,     0.80761,      0.8073,     0.80699,     0.80668,     0.80637,     0.80607,     0.80576,     0.80545,     0.80514,     0.80483,     0.80453,     0.80422,     0.80391,      0.8036,     0.80329,     0.80298,     0.80267,     0.80236,     0.80205,     0.80174,\n",
      "            0.80143,     0.80112,     0.80081,      0.8005,     0.80019,     0.79988,     0.79957,     0.79925,     0.79894,     0.79863,     0.79832,     0.79801,      0.7977,     0.79738,     0.79707,     0.79676,     0.79645,     0.79613,     0.79563,     0.79469,     0.79375,     0.79281,     0.79186,\n",
      "            0.79092,     0.78997,     0.78903,     0.78808,     0.78713,     0.78618,     0.78522,     0.78427,     0.78203,     0.77461,     0.77101,     0.77137,     0.77173,     0.77209,     0.77245,      0.7728,     0.77316,     0.77352,     0.77388,     0.77423,     0.77459,     0.77494,      0.7753,\n",
      "            0.77565,       0.776,     0.77636,     0.77671,     0.77706,     0.77741,     0.77776,     0.77811,     0.77846,     0.77881,     0.77816,     0.77688,     0.77559,      0.7743,     0.77301,     0.77172,     0.77042,     0.76912,     0.76782,     0.76651,     0.75262,     0.74974,     0.74685,\n",
      "            0.74395,     0.74104,      0.7383,     0.73591,     0.73352,     0.73112,      0.7287,     0.72628,     0.72488,     0.72421,     0.72354,     0.72287,     0.72219,     0.72152,     0.72084,     0.72017,     0.71949,     0.71882,     0.71814,     0.71746,     0.71678,      0.7161,     0.71542,\n",
      "            0.71474,     0.71406,     0.71338,      0.7127,     0.71201,     0.71133,      0.7072,     0.70143,     0.69622,     0.69387,      0.6915,     0.68913,     0.68675,     0.68436,     0.68197,     0.68138,     0.68092,     0.68046,     0.67999,     0.67953,     0.67906,      0.6786,     0.67813,\n",
      "            0.67767,      0.6772,     0.67673,     0.67627,      0.6758,     0.67533,     0.67487,      0.6744,     0.67393,     0.67346,     0.67299,     0.67252,     0.67205,     0.67158,     0.67111,     0.67064,     0.67017,      0.6697,     0.66923,     0.66876,     0.66829,     0.66781,     0.66734,\n",
      "            0.66687,     0.66702,     0.66763,     0.66823,     0.66884,     0.66944,     0.67004,     0.67064,     0.67123,     0.67183,     0.67242,     0.67301,      0.6736,     0.67418,     0.67379,     0.67274,     0.67169,     0.67064,     0.66959,     0.66853,     0.66748,     0.66642,     0.66536,\n",
      "            0.66429,     0.66323,     0.66216,      0.6611,     0.66003,     0.65896,     0.65687,     0.65462,     0.65237,     0.65011,     0.64785,     0.64557,     0.64329,     0.63387,      0.6262,     0.62531,     0.62442,     0.62353,     0.62263,     0.62174,     0.62084,     0.61994,     0.61905,\n",
      "            0.61815,     0.61725,     0.61634,     0.61544,     0.61454,     0.61363,     0.61273,     0.61182,     0.61091,        0.61,     0.60439,     0.59701,     0.58454,     0.57416,     0.57256,     0.57095,     0.56934,     0.56773,     0.56611,     0.56449,     0.56287,     0.56124,     0.55961,\n",
      "            0.55797,     0.53795,     0.53406,     0.53015,     0.52622,     0.52227,     0.50496,     0.49678,     0.49318,     0.48957,     0.48593,     0.48228,     0.47822,     0.47346,     0.46868,     0.46387,     0.45923,     0.45664,     0.45405,     0.45145,     0.44884,     0.44622,     0.44359,\n",
      "            0.44095,     0.43806,     0.42341,     0.41034,     0.39862,     0.38803,     0.37804,      0.3704,      0.3674,      0.3644,     0.36138,     0.35836,     0.35532,     0.35227,     0.34921,     0.32294,     0.30766,     0.27067,     0.25023,     0.23734,     0.22624,      0.2057,       0.155,\n",
      "            0.12944,     0.11815,     0.10672,    0.040003,           0,           0,           0,           0,           0,           0,           0]]), 'Confidence', 'F1'], [array([          0,    0.001001,    0.002002,    0.003003,    0.004004,    0.005005,    0.006006,    0.007007,    0.008008,    0.009009,     0.01001,    0.011011,    0.012012,    0.013013,    0.014014,    0.015015,    0.016016,    0.017017,    0.018018,    0.019019,     0.02002,    0.021021,    0.022022,    0.023023,\n",
      "          0.024024,    0.025025,    0.026026,    0.027027,    0.028028,    0.029029,     0.03003,    0.031031,    0.032032,    0.033033,    0.034034,    0.035035,    0.036036,    0.037037,    0.038038,    0.039039,     0.04004,    0.041041,    0.042042,    0.043043,    0.044044,    0.045045,    0.046046,    0.047047,\n",
      "          0.048048,    0.049049,     0.05005,    0.051051,    0.052052,    0.053053,    0.054054,    0.055055,    0.056056,    0.057057,    0.058058,    0.059059,     0.06006,    0.061061,    0.062062,    0.063063,    0.064064,    0.065065,    0.066066,    0.067067,    0.068068,    0.069069,     0.07007,    0.071071,\n",
      "          0.072072,    0.073073,    0.074074,    0.075075,    0.076076,    0.077077,    0.078078,    0.079079,     0.08008,    0.081081,    0.082082,    0.083083,    0.084084,    0.085085,    0.086086,    0.087087,    0.088088,    0.089089,     0.09009,    0.091091,    0.092092,    0.093093,    0.094094,    0.095095,\n",
      "          0.096096,    0.097097,    0.098098,    0.099099,      0.1001,      0.1011,      0.1021,      0.1031,      0.1041,     0.10511,     0.10611,     0.10711,     0.10811,     0.10911,     0.11011,     0.11111,     0.11211,     0.11311,     0.11411,     0.11512,     0.11612,     0.11712,     0.11812,     0.11912,\n",
      "           0.12012,     0.12112,     0.12212,     0.12312,     0.12412,     0.12513,     0.12613,     0.12713,     0.12813,     0.12913,     0.13013,     0.13113,     0.13213,     0.13313,     0.13413,     0.13514,     0.13614,     0.13714,     0.13814,     0.13914,     0.14014,     0.14114,     0.14214,     0.14314,\n",
      "           0.14414,     0.14515,     0.14615,     0.14715,     0.14815,     0.14915,     0.15015,     0.15115,     0.15215,     0.15315,     0.15415,     0.15516,     0.15616,     0.15716,     0.15816,     0.15916,     0.16016,     0.16116,     0.16216,     0.16316,     0.16416,     0.16517,     0.16617,     0.16717,\n",
      "           0.16817,     0.16917,     0.17017,     0.17117,     0.17217,     0.17317,     0.17417,     0.17518,     0.17618,     0.17718,     0.17818,     0.17918,     0.18018,     0.18118,     0.18218,     0.18318,     0.18418,     0.18519,     0.18619,     0.18719,     0.18819,     0.18919,     0.19019,     0.19119,\n",
      "           0.19219,     0.19319,     0.19419,      0.1952,      0.1962,      0.1972,      0.1982,      0.1992,      0.2002,      0.2012,      0.2022,      0.2032,      0.2042,     0.20521,     0.20621,     0.20721,     0.20821,     0.20921,     0.21021,     0.21121,     0.21221,     0.21321,     0.21421,     0.21522,\n",
      "           0.21622,     0.21722,     0.21822,     0.21922,     0.22022,     0.22122,     0.22222,     0.22322,     0.22422,     0.22523,     0.22623,     0.22723,     0.22823,     0.22923,     0.23023,     0.23123,     0.23223,     0.23323,     0.23423,     0.23524,     0.23624,     0.23724,     0.23824,     0.23924,\n",
      "           0.24024,     0.24124,     0.24224,     0.24324,     0.24424,     0.24525,     0.24625,     0.24725,     0.24825,     0.24925,     0.25025,     0.25125,     0.25225,     0.25325,     0.25425,     0.25526,     0.25626,     0.25726,     0.25826,     0.25926,     0.26026,     0.26126,     0.26226,     0.26326,\n",
      "           0.26426,     0.26527,     0.26627,     0.26727,     0.26827,     0.26927,     0.27027,     0.27127,     0.27227,     0.27327,     0.27427,     0.27528,     0.27628,     0.27728,     0.27828,     0.27928,     0.28028,     0.28128,     0.28228,     0.28328,     0.28428,     0.28529,     0.28629,     0.28729,\n",
      "           0.28829,     0.28929,     0.29029,     0.29129,     0.29229,     0.29329,     0.29429,      0.2953,      0.2963,      0.2973,      0.2983,      0.2993,      0.3003,      0.3013,      0.3023,      0.3033,      0.3043,     0.30531,     0.30631,     0.30731,     0.30831,     0.30931,     0.31031,     0.31131,\n",
      "           0.31231,     0.31331,     0.31431,     0.31532,     0.31632,     0.31732,     0.31832,     0.31932,     0.32032,     0.32132,     0.32232,     0.32332,     0.32432,     0.32533,     0.32633,     0.32733,     0.32833,     0.32933,     0.33033,     0.33133,     0.33233,     0.33333,     0.33433,     0.33534,\n",
      "           0.33634,     0.33734,     0.33834,     0.33934,     0.34034,     0.34134,     0.34234,     0.34334,     0.34434,     0.34535,     0.34635,     0.34735,     0.34835,     0.34935,     0.35035,     0.35135,     0.35235,     0.35335,     0.35435,     0.35536,     0.35636,     0.35736,     0.35836,     0.35936,\n",
      "           0.36036,     0.36136,     0.36236,     0.36336,     0.36436,     0.36537,     0.36637,     0.36737,     0.36837,     0.36937,     0.37037,     0.37137,     0.37237,     0.37337,     0.37437,     0.37538,     0.37638,     0.37738,     0.37838,     0.37938,     0.38038,     0.38138,     0.38238,     0.38338,\n",
      "           0.38438,     0.38539,     0.38639,     0.38739,     0.38839,     0.38939,     0.39039,     0.39139,     0.39239,     0.39339,     0.39439,      0.3954,      0.3964,      0.3974,      0.3984,      0.3994,      0.4004,      0.4014,      0.4024,      0.4034,      0.4044,     0.40541,     0.40641,     0.40741,\n",
      "           0.40841,     0.40941,     0.41041,     0.41141,     0.41241,     0.41341,     0.41441,     0.41542,     0.41642,     0.41742,     0.41842,     0.41942,     0.42042,     0.42142,     0.42242,     0.42342,     0.42442,     0.42543,     0.42643,     0.42743,     0.42843,     0.42943,     0.43043,     0.43143,\n",
      "           0.43243,     0.43343,     0.43443,     0.43544,     0.43644,     0.43744,     0.43844,     0.43944,     0.44044,     0.44144,     0.44244,     0.44344,     0.44444,     0.44545,     0.44645,     0.44745,     0.44845,     0.44945,     0.45045,     0.45145,     0.45245,     0.45345,     0.45445,     0.45546,\n",
      "           0.45646,     0.45746,     0.45846,     0.45946,     0.46046,     0.46146,     0.46246,     0.46346,     0.46446,     0.46547,     0.46647,     0.46747,     0.46847,     0.46947,     0.47047,     0.47147,     0.47247,     0.47347,     0.47447,     0.47548,     0.47648,     0.47748,     0.47848,     0.47948,\n",
      "           0.48048,     0.48148,     0.48248,     0.48348,     0.48448,     0.48549,     0.48649,     0.48749,     0.48849,     0.48949,     0.49049,     0.49149,     0.49249,     0.49349,     0.49449,      0.4955,      0.4965,      0.4975,      0.4985,      0.4995,      0.5005,      0.5015,      0.5025,      0.5035,\n",
      "            0.5045,     0.50551,     0.50651,     0.50751,     0.50851,     0.50951,     0.51051,     0.51151,     0.51251,     0.51351,     0.51451,     0.51552,     0.51652,     0.51752,     0.51852,     0.51952,     0.52052,     0.52152,     0.52252,     0.52352,     0.52452,     0.52553,     0.52653,     0.52753,\n",
      "           0.52853,     0.52953,     0.53053,     0.53153,     0.53253,     0.53353,     0.53453,     0.53554,     0.53654,     0.53754,     0.53854,     0.53954,     0.54054,     0.54154,     0.54254,     0.54354,     0.54454,     0.54555,     0.54655,     0.54755,     0.54855,     0.54955,     0.55055,     0.55155,\n",
      "           0.55255,     0.55355,     0.55455,     0.55556,     0.55656,     0.55756,     0.55856,     0.55956,     0.56056,     0.56156,     0.56256,     0.56356,     0.56456,     0.56557,     0.56657,     0.56757,     0.56857,     0.56957,     0.57057,     0.57157,     0.57257,     0.57357,     0.57457,     0.57558,\n",
      "           0.57658,     0.57758,     0.57858,     0.57958,     0.58058,     0.58158,     0.58258,     0.58358,     0.58458,     0.58559,     0.58659,     0.58759,     0.58859,     0.58959,     0.59059,     0.59159,     0.59259,     0.59359,     0.59459,      0.5956,      0.5966,      0.5976,      0.5986,      0.5996,\n",
      "            0.6006,      0.6016,      0.6026,      0.6036,      0.6046,     0.60561,     0.60661,     0.60761,     0.60861,     0.60961,     0.61061,     0.61161,     0.61261,     0.61361,     0.61461,     0.61562,     0.61662,     0.61762,     0.61862,     0.61962,     0.62062,     0.62162,     0.62262,     0.62362,\n",
      "           0.62462,     0.62563,     0.62663,     0.62763,     0.62863,     0.62963,     0.63063,     0.63163,     0.63263,     0.63363,     0.63463,     0.63564,     0.63664,     0.63764,     0.63864,     0.63964,     0.64064,     0.64164,     0.64264,     0.64364,     0.64464,     0.64565,     0.64665,     0.64765,\n",
      "           0.64865,     0.64965,     0.65065,     0.65165,     0.65265,     0.65365,     0.65465,     0.65566,     0.65666,     0.65766,     0.65866,     0.65966,     0.66066,     0.66166,     0.66266,     0.66366,     0.66466,     0.66567,     0.66667,     0.66767,     0.66867,     0.66967,     0.67067,     0.67167,\n",
      "           0.67267,     0.67367,     0.67467,     0.67568,     0.67668,     0.67768,     0.67868,     0.67968,     0.68068,     0.68168,     0.68268,     0.68368,     0.68468,     0.68569,     0.68669,     0.68769,     0.68869,     0.68969,     0.69069,     0.69169,     0.69269,     0.69369,     0.69469,      0.6957,\n",
      "            0.6967,      0.6977,      0.6987,      0.6997,      0.7007,      0.7017,      0.7027,      0.7037,      0.7047,     0.70571,     0.70671,     0.70771,     0.70871,     0.70971,     0.71071,     0.71171,     0.71271,     0.71371,     0.71471,     0.71572,     0.71672,     0.71772,     0.71872,     0.71972,\n",
      "           0.72072,     0.72172,     0.72272,     0.72372,     0.72472,     0.72573,     0.72673,     0.72773,     0.72873,     0.72973,     0.73073,     0.73173,     0.73273,     0.73373,     0.73473,     0.73574,     0.73674,     0.73774,     0.73874,     0.73974,     0.74074,     0.74174,     0.74274,     0.74374,\n",
      "           0.74474,     0.74575,     0.74675,     0.74775,     0.74875,     0.74975,     0.75075,     0.75175,     0.75275,     0.75375,     0.75475,     0.75576,     0.75676,     0.75776,     0.75876,     0.75976,     0.76076,     0.76176,     0.76276,     0.76376,     0.76476,     0.76577,     0.76677,     0.76777,\n",
      "           0.76877,     0.76977,     0.77077,     0.77177,     0.77277,     0.77377,     0.77477,     0.77578,     0.77678,     0.77778,     0.77878,     0.77978,     0.78078,     0.78178,     0.78278,     0.78378,     0.78478,     0.78579,     0.78679,     0.78779,     0.78879,     0.78979,     0.79079,     0.79179,\n",
      "           0.79279,     0.79379,     0.79479,      0.7958,      0.7968,      0.7978,      0.7988,      0.7998,      0.8008,      0.8018,      0.8028,      0.8038,      0.8048,     0.80581,     0.80681,     0.80781,     0.80881,     0.80981,     0.81081,     0.81181,     0.81281,     0.81381,     0.81481,     0.81582,\n",
      "           0.81682,     0.81782,     0.81882,     0.81982,     0.82082,     0.82182,     0.82282,     0.82382,     0.82482,     0.82583,     0.82683,     0.82783,     0.82883,     0.82983,     0.83083,     0.83183,     0.83283,     0.83383,     0.83483,     0.83584,     0.83684,     0.83784,     0.83884,     0.83984,\n",
      "           0.84084,     0.84184,     0.84284,     0.84384,     0.84484,     0.84585,     0.84685,     0.84785,     0.84885,     0.84985,     0.85085,     0.85185,     0.85285,     0.85385,     0.85485,     0.85586,     0.85686,     0.85786,     0.85886,     0.85986,     0.86086,     0.86186,     0.86286,     0.86386,\n",
      "           0.86486,     0.86587,     0.86687,     0.86787,     0.86887,     0.86987,     0.87087,     0.87187,     0.87287,     0.87387,     0.87487,     0.87588,     0.87688,     0.87788,     0.87888,     0.87988,     0.88088,     0.88188,     0.88288,     0.88388,     0.88488,     0.88589,     0.88689,     0.88789,\n",
      "           0.88889,     0.88989,     0.89089,     0.89189,     0.89289,     0.89389,     0.89489,      0.8959,      0.8969,      0.8979,      0.8989,      0.8999,      0.9009,      0.9019,      0.9029,      0.9039,      0.9049,     0.90591,     0.90691,     0.90791,     0.90891,     0.90991,     0.91091,     0.91191,\n",
      "           0.91291,     0.91391,     0.91491,     0.91592,     0.91692,     0.91792,     0.91892,     0.91992,     0.92092,     0.92192,     0.92292,     0.92392,     0.92492,     0.92593,     0.92693,     0.92793,     0.92893,     0.92993,     0.93093,     0.93193,     0.93293,     0.93393,     0.93493,     0.93594,\n",
      "           0.93694,     0.93794,     0.93894,     0.93994,     0.94094,     0.94194,     0.94294,     0.94394,     0.94494,     0.94595,     0.94695,     0.94795,     0.94895,     0.94995,     0.95095,     0.95195,     0.95295,     0.95395,     0.95495,     0.95596,     0.95696,     0.95796,     0.95896,     0.95996,\n",
      "           0.96096,     0.96196,     0.96296,     0.96396,     0.96496,     0.96597,     0.96697,     0.96797,     0.96897,     0.96997,     0.97097,     0.97197,     0.97297,     0.97397,     0.97497,     0.97598,     0.97698,     0.97798,     0.97898,     0.97998,     0.98098,     0.98198,     0.98298,     0.98398,\n",
      "           0.98498,     0.98599,     0.98699,     0.98799,     0.98899,     0.98999,     0.99099,     0.99199,     0.99299,     0.99399,     0.99499,       0.996,       0.997,       0.998,       0.999,           1]), array([[  0.0032749,   0.0032749,   0.0034302,   0.0036163,   0.0036869,   0.0041771,   0.0062902,    0.012544,    0.024775,    0.049405,     0.08071,     0.10411,     0.12262,     0.13541,     0.15157,     0.16803,     0.18313,     0.19867,     0.20985,     0.21574,     0.23003,     0.23584,     0.24281,\n",
      "            0.25994,     0.26935,     0.28346,      0.2886,     0.29336,     0.29628,     0.29483,     0.30704,     0.31834,     0.33377,     0.33833,     0.34338,       0.348,     0.35676,     0.37017,     0.38056,     0.38707,     0.39741,     0.40012,     0.40263,     0.41003,     0.41847,     0.42764,\n",
      "            0.43492,     0.43909,     0.44676,     0.44945,     0.45198,     0.45826,     0.46135,     0.46301,     0.46304,     0.46394,     0.47618,     0.47947,     0.48191,     0.48369,     0.48546,      0.4871,     0.48873,     0.49035,     0.49541,     0.49679,     0.49817,     0.49955,     0.50151,\n",
      "            0.50374,     0.50523,     0.50585,     0.50647,     0.50709,      0.5077,     0.50832,     0.50894,     0.50956,     0.51145,     0.51546,     0.51658,     0.51769,     0.51881,     0.51993,     0.52153,     0.52351,     0.52548,       0.529,     0.53212,     0.53428,     0.53643,     0.54044,\n",
      "            0.54355,     0.54545,     0.54736,     0.54913,     0.55075,     0.55237,     0.55398,     0.55017,     0.55035,     0.55139,     0.55243,     0.55348,     0.55452,     0.55556,     0.55717,     0.55877,     0.56038,      0.5635,     0.56873,     0.56955,     0.57036,     0.57118,     0.57199,\n",
      "             0.5728,     0.57362,     0.57443,     0.57406,     0.57306,     0.57206,     0.57106,     0.57006,     0.57177,     0.57459,      0.5766,     0.57697,     0.57735,     0.57772,      0.5781,     0.57847,     0.57885,     0.57922,      0.5796,     0.57997,     0.58035,     0.58073,      0.5811,\n",
      "            0.58148,     0.58185,     0.58223,      0.5826,     0.58298,     0.58346,     0.58609,     0.58872,     0.59063,     0.59133,     0.59203,     0.59273,     0.59343,     0.59413,     0.59483,     0.59553,     0.59623,     0.59694,     0.59767,      0.5987,     0.59972,     0.60075,     0.60178,\n",
      "             0.6028,     0.60383,     0.60485,     0.61892,     0.62152,     0.62297,     0.62442,     0.62587,     0.62732,     0.62854,      0.6294,     0.63025,     0.63111,     0.63197,     0.63283,     0.63369,     0.63455,      0.6354,     0.63626,      0.6401,     0.64434,     0.65041,     0.65423,\n",
      "             0.6559,     0.65757,     0.65924,     0.66091,     0.66282,     0.66541,       0.668,     0.67059,     0.67533,     0.68059,     0.68139,      0.6822,     0.68301,     0.68382,     0.68463,     0.68544,     0.68624,     0.68705,     0.68786,     0.68867,     0.68948,     0.69258,     0.70025,\n",
      "            0.70081,     0.70136,     0.70192,     0.70248,     0.70303,     0.70359,     0.70414,      0.7047,     0.70525,     0.70581,     0.70636,     0.70692,     0.70748,     0.70803,     0.70859,     0.70914,      0.7097,     0.71161,      0.7191,     0.72309,     0.72621,     0.72933,     0.73165,\n",
      "            0.73251,     0.73337,     0.73423,     0.73509,     0.73595,     0.73681,     0.73767,     0.73853,     0.73939,     0.74025,     0.74111,     0.74197,     0.74271,     0.74333,     0.74395,     0.74457,     0.74519,      0.7458,     0.74642,     0.74704,     0.74766,     0.74827,     0.74889,\n",
      "            0.74951,     0.75013,     0.75074,     0.75136,     0.75198,      0.7526,     0.75322,     0.75383,     0.76176,     0.76586,     0.76632,     0.76677,     0.76722,     0.76768,     0.76813,     0.76858,     0.76904,     0.76949,     0.76994,      0.7704,     0.77085,      0.7713,     0.77176,\n",
      "            0.77221,     0.77267,     0.77312,     0.77357,     0.77403,     0.77448,     0.77493,     0.77539,     0.77584,     0.77629,     0.77675,      0.7772,     0.77765,     0.77834,     0.77912,     0.77989,     0.78067,     0.78144,     0.78221,     0.78299,     0.78376,     0.78454,     0.78531,\n",
      "            0.78609,     0.78686,     0.78764,     0.78841,     0.78919,     0.78996,     0.79158,     0.79395,     0.79632,     0.79869,     0.80105,     0.80332,     0.80402,     0.80473,     0.80543,     0.80614,     0.80684,     0.80754,     0.80825,     0.80895,     0.80965,     0.81036,     0.81106,\n",
      "            0.81176,     0.81247,     0.81317,     0.81387,     0.81458,     0.81528,     0.81598,     0.81664,     0.81564,     0.81465,     0.81365,     0.81665,     0.82006,     0.82348,     0.82689,     0.82786,     0.82821,     0.82856,     0.82891,     0.82925,      0.8296,     0.82995,      0.8303,\n",
      "            0.83065,     0.83099,     0.83134,     0.83169,     0.83204,     0.83238,     0.83273,     0.83308,     0.83343,     0.83378,     0.83412,     0.83447,     0.83482,     0.83517,     0.83551,     0.83586,     0.83621,     0.83656,     0.83691,     0.83725,      0.8376,     0.83795,      0.8383,\n",
      "            0.83865,     0.83899,     0.83934,     0.83969,     0.84004,     0.84038,     0.84073,     0.84108,     0.84143,     0.84178,     0.84228,     0.84575,     0.84922,     0.85269,     0.85616,     0.85644,     0.85547,     0.85457,     0.85507,     0.85557,     0.85607,     0.85657,     0.85707,\n",
      "            0.85757,     0.85807,     0.85857,     0.85907,     0.85957,     0.86006,     0.86056,     0.86106,     0.86156,     0.86206,     0.86256,     0.86306,     0.86356,     0.86406,     0.86456,     0.86506,     0.86556,     0.86606,     0.86655,     0.86705,     0.86755,     0.86805,     0.86855,\n",
      "            0.86905,     0.86955,     0.87005,     0.87284,     0.87978,     0.88672,     0.88654,     0.88628,     0.88603,     0.88577,     0.88551,     0.88526,       0.885,     0.88474,     0.88517,     0.88628,     0.88739,      0.8885,     0.88961,     0.89072,     0.89183,     0.89294,     0.89405,\n",
      "            0.89516,     0.89627,     0.89738,     0.89849,      0.8996,     0.90071,     0.90182,     0.90152,     0.90102,     0.90052,     0.90002,     0.90053,     0.90109,     0.90164,      0.9022,     0.90276,     0.90331,     0.90387,     0.90442,     0.90498,     0.90553,     0.90609,     0.90665,\n",
      "             0.9072,     0.90776,     0.90831,     0.90887,     0.90943,     0.90998,     0.91054,     0.91109,     0.91165,      0.9122,     0.91276,     0.91332,     0.91387,     0.91443,     0.91498,     0.91554,     0.91609,     0.91665,     0.91721,     0.91776,     0.91832,     0.91798,     0.91755,\n",
      "            0.91713,      0.9167,     0.91695,     0.91725,     0.91756,     0.91786,     0.91816,     0.91847,     0.91877,     0.91908,     0.91938,     0.91969,     0.91999,      0.9203,      0.9206,      0.9209,     0.92121,     0.92151,     0.92182,     0.92212,     0.92243,     0.92273,     0.92304,\n",
      "            0.92334,     0.92365,     0.92395,     0.92425,     0.92456,     0.92486,     0.92517,     0.92547,     0.92578,     0.92608,     0.92639,     0.92669,       0.927,      0.9273,      0.9276,     0.92791,     0.92821,     0.92852,     0.92882,     0.92913,     0.92943,     0.92974,     0.93004,\n",
      "            0.93034,     0.93065,     0.93095,     0.93126,     0.93156,     0.93187,     0.93217,     0.93248,     0.93278,     0.93309,     0.93339,     0.93369,       0.934,      0.9343,     0.93461,     0.93491,     0.93522,     0.93552,     0.93583,     0.93613,     0.93614,     0.93611,     0.93607,\n",
      "            0.93604,       0.936,     0.93597,     0.93593,      0.9359,     0.93586,     0.93583,     0.93579,     0.93576,     0.93572,     0.93569,     0.93565,     0.93562,     0.93559,     0.93555,     0.93552,     0.93548,     0.93545,     0.93541,     0.93538,     0.93534,     0.93531,     0.93527,\n",
      "            0.93524,      0.9352,     0.93517,     0.93514,      0.9351,     0.93507,     0.93503,       0.935,     0.93496,     0.93493,     0.93489,     0.93486,     0.93482,     0.93479,     0.93475,     0.93471,     0.93468,     0.93464,      0.9346,     0.93456,     0.93453,     0.93449,     0.93445,\n",
      "            0.93441,     0.93438,     0.93434,      0.9343,     0.93426,     0.93423,     0.93419,     0.93415,     0.93411,     0.93408,     0.93404,       0.934,     0.93396,     0.93393,     0.93389,     0.93385,     0.93381,     0.93378,     0.93374,      0.9337,     0.93366,     0.93363,     0.93359,\n",
      "            0.93355,     0.93351,     0.93348,     0.93344,      0.9334,     0.93336,     0.93333,     0.93331,     0.93329,     0.93327,     0.93324,     0.93322,      0.9332,     0.93318,     0.93316,     0.93314,     0.93312,      0.9331,     0.93308,     0.93306,     0.93304,     0.93301,     0.93299,\n",
      "            0.93297,     0.93295,     0.93293,     0.93291,     0.93289,     0.93287,     0.93285,     0.93283,      0.9328,     0.93278,     0.93276,     0.93274,     0.93272,      0.9327,     0.93268,     0.93266,     0.93264,     0.93262,     0.93259,     0.93257,     0.93255,     0.93253,     0.93251,\n",
      "            0.93249,     0.93247,     0.93245,     0.93243,     0.93241,     0.93239,     0.93236,     0.93234,     0.93232,      0.9323,     0.93228,     0.93226,     0.93224,     0.93222,      0.9322,     0.93218,     0.93215,     0.93213,     0.93211,     0.93209,     0.93207,     0.93205,     0.93203,\n",
      "            0.93201,     0.93199,     0.93197,     0.93194,     0.93192,      0.9319,     0.93188,     0.93186,     0.93184,     0.93182,      0.9333,     0.93483,     0.93636,     0.93789,     0.93943,     0.94096,     0.94249,     0.94402,     0.94556,     0.94709,     0.94862,     0.95015,     0.95169,\n",
      "            0.95322,     0.95277,     0.95236,     0.95234,     0.95231,     0.95228,     0.95225,     0.95222,     0.95219,     0.95216,     0.95213,      0.9521,     0.95207,     0.95204,     0.95201,     0.95198,     0.95195,     0.95192,     0.95189,     0.95186,     0.95183,      0.9518,     0.95177,\n",
      "            0.95174,     0.95171,     0.95168,     0.95165,     0.95162,      0.9516,     0.95157,     0.95154,     0.95151,     0.95148,     0.95145,     0.95142,     0.95139,     0.95136,     0.95133,      0.9513,     0.95127,     0.95124,     0.95119,      0.9511,       0.951,     0.95091,     0.95082,\n",
      "            0.95073,     0.95063,     0.95054,     0.95045,     0.95035,     0.95026,     0.95017,     0.95007,     0.94985,      0.9491,     0.94926,     0.95035,     0.95144,     0.95253,     0.95362,     0.95471,      0.9558,      0.9569,     0.95799,     0.95908,     0.96017,     0.96126,     0.96235,\n",
      "            0.96344,     0.96453,     0.96562,     0.96672,     0.96781,      0.9689,     0.96999,     0.97108,     0.97217,     0.97326,     0.97364,     0.97357,      0.9735,     0.97343,     0.97336,     0.97329,     0.97322,     0.97314,     0.97307,       0.973,     0.97222,     0.97205,     0.97188,\n",
      "            0.97171,     0.97154,     0.97138,     0.97123,     0.97109,     0.97094,     0.97079,     0.97065,     0.97056,     0.97052,     0.97048,     0.97044,     0.97039,     0.97035,     0.97031,     0.97026,     0.97022,     0.97018,     0.97014,     0.97009,     0.97005,     0.97001,     0.96997,\n",
      "            0.96992,     0.96988,     0.96984,      0.9698,     0.96975,     0.96971,     0.96944,     0.96906,     0.96872,     0.96856,      0.9684,     0.96824,     0.96808,     0.96791,     0.96775,     0.96771,     0.96768,     0.96764,     0.96761,     0.96758,     0.96754,     0.96751,     0.96748,\n",
      "            0.96744,     0.96741,     0.96738,     0.96735,     0.96731,     0.96728,     0.96725,     0.96721,     0.96718,     0.96715,     0.96711,     0.96708,     0.96705,     0.96701,     0.96698,     0.96695,     0.96691,     0.96688,     0.96685,     0.96681,     0.96678,     0.96675,     0.96671,\n",
      "            0.96668,     0.96814,     0.97071,     0.97328,     0.97585,     0.97842,     0.98099,     0.98355,     0.98612,     0.98869,     0.99126,     0.99383,      0.9964,     0.99897,           1,           1,           1,           1,           1,           1,           1,           1,           1,\n",
      "                  1,           1,           1,           1,           1,           1,           1,           1,           1,           1,           1,           1,           1,           1,           1,           1,           1,           1,           1,           1,           1,           1,           1,\n",
      "                  1,           1,           1,           1,           1,           1,           1,           1,           1,           1,           1,           1,           1,           1,           1,           1,           1,           1,           1,           1,           1,           1,           1,\n",
      "                  1,           1,           1,           1,           1,           1,           1,           1,           1,           1,           1,           1,           1,           1,           1,           1,           1,           1,           1,           1,           1,           1,           1,\n",
      "                  1,           1,           1,           1,           1,           1,           1,           1,           1,           1,           1,           1,           1,           1,           1,           1,           1,           1,           1,           1,           1,           1,           1,\n",
      "                  1,           1,           1,           1,           1,           1,           1,           1,           1,           1,           1]]), 'Confidence', 'Precision'], [array([          0,    0.001001,    0.002002,    0.003003,    0.004004,    0.005005,    0.006006,    0.007007,    0.008008,    0.009009,     0.01001,    0.011011,    0.012012,    0.013013,    0.014014,    0.015015,    0.016016,    0.017017,    0.018018,    0.019019,     0.02002,    0.021021,    0.022022,    0.023023,\n",
      "          0.024024,    0.025025,    0.026026,    0.027027,    0.028028,    0.029029,     0.03003,    0.031031,    0.032032,    0.033033,    0.034034,    0.035035,    0.036036,    0.037037,    0.038038,    0.039039,     0.04004,    0.041041,    0.042042,    0.043043,    0.044044,    0.045045,    0.046046,    0.047047,\n",
      "          0.048048,    0.049049,     0.05005,    0.051051,    0.052052,    0.053053,    0.054054,    0.055055,    0.056056,    0.057057,    0.058058,    0.059059,     0.06006,    0.061061,    0.062062,    0.063063,    0.064064,    0.065065,    0.066066,    0.067067,    0.068068,    0.069069,     0.07007,    0.071071,\n",
      "          0.072072,    0.073073,    0.074074,    0.075075,    0.076076,    0.077077,    0.078078,    0.079079,     0.08008,    0.081081,    0.082082,    0.083083,    0.084084,    0.085085,    0.086086,    0.087087,    0.088088,    0.089089,     0.09009,    0.091091,    0.092092,    0.093093,    0.094094,    0.095095,\n",
      "          0.096096,    0.097097,    0.098098,    0.099099,      0.1001,      0.1011,      0.1021,      0.1031,      0.1041,     0.10511,     0.10611,     0.10711,     0.10811,     0.10911,     0.11011,     0.11111,     0.11211,     0.11311,     0.11411,     0.11512,     0.11612,     0.11712,     0.11812,     0.11912,\n",
      "           0.12012,     0.12112,     0.12212,     0.12312,     0.12412,     0.12513,     0.12613,     0.12713,     0.12813,     0.12913,     0.13013,     0.13113,     0.13213,     0.13313,     0.13413,     0.13514,     0.13614,     0.13714,     0.13814,     0.13914,     0.14014,     0.14114,     0.14214,     0.14314,\n",
      "           0.14414,     0.14515,     0.14615,     0.14715,     0.14815,     0.14915,     0.15015,     0.15115,     0.15215,     0.15315,     0.15415,     0.15516,     0.15616,     0.15716,     0.15816,     0.15916,     0.16016,     0.16116,     0.16216,     0.16316,     0.16416,     0.16517,     0.16617,     0.16717,\n",
      "           0.16817,     0.16917,     0.17017,     0.17117,     0.17217,     0.17317,     0.17417,     0.17518,     0.17618,     0.17718,     0.17818,     0.17918,     0.18018,     0.18118,     0.18218,     0.18318,     0.18418,     0.18519,     0.18619,     0.18719,     0.18819,     0.18919,     0.19019,     0.19119,\n",
      "           0.19219,     0.19319,     0.19419,      0.1952,      0.1962,      0.1972,      0.1982,      0.1992,      0.2002,      0.2012,      0.2022,      0.2032,      0.2042,     0.20521,     0.20621,     0.20721,     0.20821,     0.20921,     0.21021,     0.21121,     0.21221,     0.21321,     0.21421,     0.21522,\n",
      "           0.21622,     0.21722,     0.21822,     0.21922,     0.22022,     0.22122,     0.22222,     0.22322,     0.22422,     0.22523,     0.22623,     0.22723,     0.22823,     0.22923,     0.23023,     0.23123,     0.23223,     0.23323,     0.23423,     0.23524,     0.23624,     0.23724,     0.23824,     0.23924,\n",
      "           0.24024,     0.24124,     0.24224,     0.24324,     0.24424,     0.24525,     0.24625,     0.24725,     0.24825,     0.24925,     0.25025,     0.25125,     0.25225,     0.25325,     0.25425,     0.25526,     0.25626,     0.25726,     0.25826,     0.25926,     0.26026,     0.26126,     0.26226,     0.26326,\n",
      "           0.26426,     0.26527,     0.26627,     0.26727,     0.26827,     0.26927,     0.27027,     0.27127,     0.27227,     0.27327,     0.27427,     0.27528,     0.27628,     0.27728,     0.27828,     0.27928,     0.28028,     0.28128,     0.28228,     0.28328,     0.28428,     0.28529,     0.28629,     0.28729,\n",
      "           0.28829,     0.28929,     0.29029,     0.29129,     0.29229,     0.29329,     0.29429,      0.2953,      0.2963,      0.2973,      0.2983,      0.2993,      0.3003,      0.3013,      0.3023,      0.3033,      0.3043,     0.30531,     0.30631,     0.30731,     0.30831,     0.30931,     0.31031,     0.31131,\n",
      "           0.31231,     0.31331,     0.31431,     0.31532,     0.31632,     0.31732,     0.31832,     0.31932,     0.32032,     0.32132,     0.32232,     0.32332,     0.32432,     0.32533,     0.32633,     0.32733,     0.32833,     0.32933,     0.33033,     0.33133,     0.33233,     0.33333,     0.33433,     0.33534,\n",
      "           0.33634,     0.33734,     0.33834,     0.33934,     0.34034,     0.34134,     0.34234,     0.34334,     0.34434,     0.34535,     0.34635,     0.34735,     0.34835,     0.34935,     0.35035,     0.35135,     0.35235,     0.35335,     0.35435,     0.35536,     0.35636,     0.35736,     0.35836,     0.35936,\n",
      "           0.36036,     0.36136,     0.36236,     0.36336,     0.36436,     0.36537,     0.36637,     0.36737,     0.36837,     0.36937,     0.37037,     0.37137,     0.37237,     0.37337,     0.37437,     0.37538,     0.37638,     0.37738,     0.37838,     0.37938,     0.38038,     0.38138,     0.38238,     0.38338,\n",
      "           0.38438,     0.38539,     0.38639,     0.38739,     0.38839,     0.38939,     0.39039,     0.39139,     0.39239,     0.39339,     0.39439,      0.3954,      0.3964,      0.3974,      0.3984,      0.3994,      0.4004,      0.4014,      0.4024,      0.4034,      0.4044,     0.40541,     0.40641,     0.40741,\n",
      "           0.40841,     0.40941,     0.41041,     0.41141,     0.41241,     0.41341,     0.41441,     0.41542,     0.41642,     0.41742,     0.41842,     0.41942,     0.42042,     0.42142,     0.42242,     0.42342,     0.42442,     0.42543,     0.42643,     0.42743,     0.42843,     0.42943,     0.43043,     0.43143,\n",
      "           0.43243,     0.43343,     0.43443,     0.43544,     0.43644,     0.43744,     0.43844,     0.43944,     0.44044,     0.44144,     0.44244,     0.44344,     0.44444,     0.44545,     0.44645,     0.44745,     0.44845,     0.44945,     0.45045,     0.45145,     0.45245,     0.45345,     0.45445,     0.45546,\n",
      "           0.45646,     0.45746,     0.45846,     0.45946,     0.46046,     0.46146,     0.46246,     0.46346,     0.46446,     0.46547,     0.46647,     0.46747,     0.46847,     0.46947,     0.47047,     0.47147,     0.47247,     0.47347,     0.47447,     0.47548,     0.47648,     0.47748,     0.47848,     0.47948,\n",
      "           0.48048,     0.48148,     0.48248,     0.48348,     0.48448,     0.48549,     0.48649,     0.48749,     0.48849,     0.48949,     0.49049,     0.49149,     0.49249,     0.49349,     0.49449,      0.4955,      0.4965,      0.4975,      0.4985,      0.4995,      0.5005,      0.5015,      0.5025,      0.5035,\n",
      "            0.5045,     0.50551,     0.50651,     0.50751,     0.50851,     0.50951,     0.51051,     0.51151,     0.51251,     0.51351,     0.51451,     0.51552,     0.51652,     0.51752,     0.51852,     0.51952,     0.52052,     0.52152,     0.52252,     0.52352,     0.52452,     0.52553,     0.52653,     0.52753,\n",
      "           0.52853,     0.52953,     0.53053,     0.53153,     0.53253,     0.53353,     0.53453,     0.53554,     0.53654,     0.53754,     0.53854,     0.53954,     0.54054,     0.54154,     0.54254,     0.54354,     0.54454,     0.54555,     0.54655,     0.54755,     0.54855,     0.54955,     0.55055,     0.55155,\n",
      "           0.55255,     0.55355,     0.55455,     0.55556,     0.55656,     0.55756,     0.55856,     0.55956,     0.56056,     0.56156,     0.56256,     0.56356,     0.56456,     0.56557,     0.56657,     0.56757,     0.56857,     0.56957,     0.57057,     0.57157,     0.57257,     0.57357,     0.57457,     0.57558,\n",
      "           0.57658,     0.57758,     0.57858,     0.57958,     0.58058,     0.58158,     0.58258,     0.58358,     0.58458,     0.58559,     0.58659,     0.58759,     0.58859,     0.58959,     0.59059,     0.59159,     0.59259,     0.59359,     0.59459,      0.5956,      0.5966,      0.5976,      0.5986,      0.5996,\n",
      "            0.6006,      0.6016,      0.6026,      0.6036,      0.6046,     0.60561,     0.60661,     0.60761,     0.60861,     0.60961,     0.61061,     0.61161,     0.61261,     0.61361,     0.61461,     0.61562,     0.61662,     0.61762,     0.61862,     0.61962,     0.62062,     0.62162,     0.62262,     0.62362,\n",
      "           0.62462,     0.62563,     0.62663,     0.62763,     0.62863,     0.62963,     0.63063,     0.63163,     0.63263,     0.63363,     0.63463,     0.63564,     0.63664,     0.63764,     0.63864,     0.63964,     0.64064,     0.64164,     0.64264,     0.64364,     0.64464,     0.64565,     0.64665,     0.64765,\n",
      "           0.64865,     0.64965,     0.65065,     0.65165,     0.65265,     0.65365,     0.65465,     0.65566,     0.65666,     0.65766,     0.65866,     0.65966,     0.66066,     0.66166,     0.66266,     0.66366,     0.66466,     0.66567,     0.66667,     0.66767,     0.66867,     0.66967,     0.67067,     0.67167,\n",
      "           0.67267,     0.67367,     0.67467,     0.67568,     0.67668,     0.67768,     0.67868,     0.67968,     0.68068,     0.68168,     0.68268,     0.68368,     0.68468,     0.68569,     0.68669,     0.68769,     0.68869,     0.68969,     0.69069,     0.69169,     0.69269,     0.69369,     0.69469,      0.6957,\n",
      "            0.6967,      0.6977,      0.6987,      0.6997,      0.7007,      0.7017,      0.7027,      0.7037,      0.7047,     0.70571,     0.70671,     0.70771,     0.70871,     0.70971,     0.71071,     0.71171,     0.71271,     0.71371,     0.71471,     0.71572,     0.71672,     0.71772,     0.71872,     0.71972,\n",
      "           0.72072,     0.72172,     0.72272,     0.72372,     0.72472,     0.72573,     0.72673,     0.72773,     0.72873,     0.72973,     0.73073,     0.73173,     0.73273,     0.73373,     0.73473,     0.73574,     0.73674,     0.73774,     0.73874,     0.73974,     0.74074,     0.74174,     0.74274,     0.74374,\n",
      "           0.74474,     0.74575,     0.74675,     0.74775,     0.74875,     0.74975,     0.75075,     0.75175,     0.75275,     0.75375,     0.75475,     0.75576,     0.75676,     0.75776,     0.75876,     0.75976,     0.76076,     0.76176,     0.76276,     0.76376,     0.76476,     0.76577,     0.76677,     0.76777,\n",
      "           0.76877,     0.76977,     0.77077,     0.77177,     0.77277,     0.77377,     0.77477,     0.77578,     0.77678,     0.77778,     0.77878,     0.77978,     0.78078,     0.78178,     0.78278,     0.78378,     0.78478,     0.78579,     0.78679,     0.78779,     0.78879,     0.78979,     0.79079,     0.79179,\n",
      "           0.79279,     0.79379,     0.79479,      0.7958,      0.7968,      0.7978,      0.7988,      0.7998,      0.8008,      0.8018,      0.8028,      0.8038,      0.8048,     0.80581,     0.80681,     0.80781,     0.80881,     0.80981,     0.81081,     0.81181,     0.81281,     0.81381,     0.81481,     0.81582,\n",
      "           0.81682,     0.81782,     0.81882,     0.81982,     0.82082,     0.82182,     0.82282,     0.82382,     0.82482,     0.82583,     0.82683,     0.82783,     0.82883,     0.82983,     0.83083,     0.83183,     0.83283,     0.83383,     0.83483,     0.83584,     0.83684,     0.83784,     0.83884,     0.83984,\n",
      "           0.84084,     0.84184,     0.84284,     0.84384,     0.84484,     0.84585,     0.84685,     0.84785,     0.84885,     0.84985,     0.85085,     0.85185,     0.85285,     0.85385,     0.85485,     0.85586,     0.85686,     0.85786,     0.85886,     0.85986,     0.86086,     0.86186,     0.86286,     0.86386,\n",
      "           0.86486,     0.86587,     0.86687,     0.86787,     0.86887,     0.86987,     0.87087,     0.87187,     0.87287,     0.87387,     0.87487,     0.87588,     0.87688,     0.87788,     0.87888,     0.87988,     0.88088,     0.88188,     0.88288,     0.88388,     0.88488,     0.88589,     0.88689,     0.88789,\n",
      "           0.88889,     0.88989,     0.89089,     0.89189,     0.89289,     0.89389,     0.89489,      0.8959,      0.8969,      0.8979,      0.8989,      0.8999,      0.9009,      0.9019,      0.9029,      0.9039,      0.9049,     0.90591,     0.90691,     0.90791,     0.90891,     0.90991,     0.91091,     0.91191,\n",
      "           0.91291,     0.91391,     0.91491,     0.91592,     0.91692,     0.91792,     0.91892,     0.91992,     0.92092,     0.92192,     0.92292,     0.92392,     0.92492,     0.92593,     0.92693,     0.92793,     0.92893,     0.92993,     0.93093,     0.93193,     0.93293,     0.93393,     0.93493,     0.93594,\n",
      "           0.93694,     0.93794,     0.93894,     0.93994,     0.94094,     0.94194,     0.94294,     0.94394,     0.94494,     0.94595,     0.94695,     0.94795,     0.94895,     0.94995,     0.95095,     0.95195,     0.95295,     0.95395,     0.95495,     0.95596,     0.95696,     0.95796,     0.95896,     0.95996,\n",
      "           0.96096,     0.96196,     0.96296,     0.96396,     0.96496,     0.96597,     0.96697,     0.96797,     0.96897,     0.96997,     0.97097,     0.97197,     0.97297,     0.97397,     0.97497,     0.97598,     0.97698,     0.97798,     0.97898,     0.97998,     0.98098,     0.98198,     0.98298,     0.98398,\n",
      "           0.98498,     0.98599,     0.98699,     0.98799,     0.98899,     0.98999,     0.99099,     0.99199,     0.99299,     0.99399,     0.99499,       0.996,       0.997,       0.998,       0.999,           1]), array([[    0.98246,     0.98246,     0.98246,     0.96491,     0.96491,     0.96491,     0.96491,     0.96491,     0.96491,     0.94737,     0.94737,     0.94737,     0.94737,     0.94737,     0.94737,     0.94737,     0.94737,     0.94737,     0.94737,     0.94737,     0.94737,     0.92982,     0.92982,\n",
      "            0.92982,     0.92982,     0.92982,     0.92982,     0.92982,      0.9233,     0.91228,     0.91228,     0.91228,     0.91228,     0.91228,     0.91228,     0.91228,     0.91228,     0.91228,     0.91228,     0.91228,     0.91228,     0.91228,     0.91228,     0.91228,     0.91228,     0.91228,\n",
      "            0.91228,     0.91228,     0.91228,     0.91228,     0.91228,     0.91228,     0.91228,     0.91228,     0.90774,     0.89474,     0.89474,     0.89474,     0.89474,     0.89474,     0.89474,     0.89474,     0.89474,     0.89474,     0.89474,     0.89474,     0.89474,     0.89474,     0.89474,\n",
      "            0.89474,     0.89474,     0.89474,     0.89474,     0.89474,     0.89474,     0.89474,     0.89474,     0.89474,     0.89474,     0.89474,     0.89474,     0.89474,     0.89474,     0.89474,     0.89474,     0.89474,     0.89474,     0.89474,     0.89474,     0.89474,     0.89474,     0.89474,\n",
      "            0.89474,     0.89474,     0.89474,     0.89474,     0.89474,     0.89474,     0.89474,     0.87978,     0.87719,     0.87719,     0.87719,     0.87719,     0.87719,     0.87719,     0.87719,     0.87719,     0.87719,     0.87719,     0.87719,     0.87719,     0.87719,     0.87719,     0.87719,\n",
      "            0.87719,     0.87719,     0.87719,     0.87486,     0.87132,     0.86777,     0.86423,     0.86069,     0.85965,     0.85965,     0.85965,     0.85965,     0.85965,     0.85965,     0.85965,     0.85965,     0.85965,     0.85965,     0.85965,     0.85965,     0.85965,     0.85965,     0.85965,\n",
      "            0.85965,     0.85965,     0.85965,     0.85965,     0.85965,     0.85965,     0.85965,     0.85965,     0.85965,     0.85965,     0.85965,     0.85965,     0.85965,     0.85965,     0.85965,     0.85965,     0.85965,     0.85965,     0.85965,     0.85965,     0.85965,     0.85965,     0.85965,\n",
      "            0.85965,     0.85965,     0.85965,     0.85965,     0.85965,     0.85965,     0.85965,     0.85965,     0.85965,     0.85965,     0.85965,     0.85965,     0.85965,     0.85965,     0.85965,     0.85965,     0.85965,     0.85965,     0.85965,     0.85965,     0.85965,     0.85965,     0.85965,\n",
      "            0.85965,     0.85965,     0.85965,     0.85965,     0.85965,     0.85965,     0.85965,     0.85965,     0.85965,     0.85965,     0.85965,     0.85965,     0.85965,     0.85965,     0.85965,     0.85965,     0.85965,     0.85965,     0.85965,     0.85965,     0.85965,     0.85965,     0.85965,\n",
      "            0.85965,     0.85965,     0.85965,     0.85965,     0.85965,     0.85965,     0.85965,     0.85965,     0.85965,     0.85965,     0.85965,     0.85965,     0.85965,     0.85965,     0.85965,     0.85965,     0.85965,     0.85965,     0.85965,     0.85965,     0.85965,     0.85965,     0.85965,\n",
      "            0.85965,     0.85965,     0.85965,     0.85965,     0.85965,     0.85965,     0.85965,     0.85965,     0.85965,     0.85965,     0.85965,     0.85965,     0.85965,     0.85965,     0.85965,     0.85965,     0.85965,     0.85965,     0.85965,     0.85965,     0.85965,     0.85965,     0.85965,\n",
      "            0.85965,     0.85965,     0.85965,     0.85965,     0.85965,     0.85965,     0.85965,     0.85965,     0.85965,     0.85965,     0.85965,     0.85965,     0.85965,     0.85965,     0.85965,     0.85965,     0.85965,     0.85965,     0.85965,     0.85965,     0.85965,     0.85965,     0.85965,\n",
      "            0.85965,     0.85965,     0.85965,     0.85965,     0.85965,     0.85965,     0.85965,     0.85965,     0.85965,     0.85965,     0.85965,     0.85965,     0.85965,     0.85965,     0.85965,     0.85965,     0.85965,     0.85965,     0.85965,     0.85965,     0.85965,     0.85965,     0.85965,\n",
      "            0.85965,     0.85965,     0.85965,     0.85965,     0.85965,     0.85965,     0.85965,     0.85965,     0.85965,     0.85965,     0.85965,     0.85965,     0.85965,     0.85965,     0.85965,     0.85965,     0.85965,     0.85965,     0.85965,     0.85965,     0.85965,     0.85965,     0.85965,\n",
      "            0.85965,     0.85965,     0.85965,     0.85965,     0.85965,     0.85965,     0.85965,     0.85949,     0.85387,     0.84825,     0.84263,     0.84211,     0.84211,     0.84211,     0.84211,     0.84211,     0.84211,     0.84211,     0.84211,     0.84211,     0.84211,     0.84211,     0.84211,\n",
      "            0.84211,     0.84211,     0.84211,     0.84211,     0.84211,     0.84211,     0.84211,     0.84211,     0.84211,     0.84211,     0.84211,     0.84211,     0.84211,     0.84211,     0.84211,     0.84211,     0.84211,     0.84211,     0.84211,     0.84211,     0.84211,     0.84211,     0.84211,\n",
      "            0.84211,     0.84211,     0.84211,     0.84211,     0.84211,     0.84211,     0.84211,     0.84211,     0.84211,     0.84211,     0.84211,     0.84211,     0.84211,     0.84211,     0.84211,     0.83737,     0.83078,     0.82456,     0.82456,     0.82456,     0.82456,     0.82456,     0.82456,\n",
      "            0.82456,     0.82456,     0.82456,     0.82456,     0.82456,     0.82456,     0.82456,     0.82456,     0.82456,     0.82456,     0.82456,     0.82456,     0.82456,     0.82456,     0.82456,     0.82456,     0.82456,     0.82456,     0.82456,     0.82456,     0.82456,     0.82456,     0.82456,\n",
      "            0.82456,     0.82456,     0.82456,     0.82456,     0.82456,     0.82456,     0.82252,     0.82045,     0.81838,     0.81632,     0.81425,     0.81218,     0.81012,     0.80805,     0.80702,     0.80702,     0.80702,     0.80702,     0.80702,     0.80702,     0.80702,     0.80702,     0.80702,\n",
      "            0.80702,     0.80702,     0.80702,     0.80702,     0.80702,     0.80702,     0.80702,     0.80309,     0.79862,     0.79414,     0.78966,     0.78947,     0.78947,     0.78947,     0.78947,     0.78947,     0.78947,     0.78947,     0.78947,     0.78947,     0.78947,     0.78947,     0.78947,\n",
      "            0.78947,     0.78947,     0.78947,     0.78947,     0.78947,     0.78947,     0.78947,     0.78947,     0.78947,     0.78947,     0.78947,     0.78947,     0.78947,     0.78947,     0.78947,     0.78947,     0.78947,     0.78947,     0.78947,     0.78947,     0.78947,     0.78547,     0.78108,\n",
      "            0.77668,     0.77229,     0.77193,     0.77193,     0.77193,     0.77193,     0.77193,     0.77193,     0.77193,     0.77193,     0.77193,     0.77193,     0.77193,     0.77193,     0.77193,     0.77193,     0.77193,     0.77193,     0.77193,     0.77193,     0.77193,     0.77193,     0.77193,\n",
      "            0.77193,     0.77193,     0.77193,     0.77193,     0.77193,     0.77193,     0.77193,     0.77193,     0.77193,     0.77193,     0.77193,     0.77193,     0.77193,     0.77193,     0.77193,     0.77193,     0.77193,     0.77193,     0.77193,     0.77193,     0.77193,     0.77193,     0.77193,\n",
      "            0.77193,     0.77193,     0.77193,     0.77193,     0.77193,     0.77193,     0.77193,     0.77193,     0.77193,     0.77193,     0.77193,     0.77193,     0.77193,     0.77193,     0.77193,     0.77193,     0.77193,     0.77193,     0.77193,     0.77193,     0.77155,     0.77111,     0.77067,\n",
      "            0.77023,      0.7698,     0.76936,     0.76892,     0.76848,     0.76804,     0.76761,     0.76717,     0.76673,     0.76629,     0.76585,     0.76541,     0.76498,     0.76454,      0.7641,     0.76366,     0.76322,     0.76279,     0.76235,     0.76191,     0.76147,     0.76103,      0.7606,\n",
      "            0.76016,     0.75972,     0.75928,     0.75884,      0.7584,     0.75797,     0.75753,     0.75709,     0.75665,     0.75621,     0.75578,     0.75534,      0.7549,     0.75446,     0.75401,     0.75355,      0.7531,     0.75265,     0.75219,     0.75174,     0.75128,     0.75083,     0.75037,\n",
      "            0.74992,     0.74947,     0.74901,     0.74856,      0.7481,     0.74765,     0.74719,     0.74674,     0.74628,     0.74583,     0.74538,     0.74492,     0.74447,     0.74401,     0.74356,      0.7431,     0.74265,     0.74219,     0.74174,     0.74129,     0.74083,     0.74038,     0.73992,\n",
      "            0.73947,     0.73901,     0.73856,      0.7381,     0.73765,      0.7372,     0.73679,     0.73655,      0.7363,     0.73606,     0.73582,     0.73557,     0.73533,     0.73509,     0.73485,      0.7346,     0.73436,     0.73412,     0.73387,     0.73363,     0.73339,     0.73315,      0.7329,\n",
      "            0.73266,     0.73242,     0.73218,     0.73193,     0.73169,     0.73145,      0.7312,     0.73096,     0.73072,     0.73048,     0.73023,     0.72999,     0.72975,      0.7295,     0.72926,     0.72902,     0.72878,     0.72853,     0.72829,     0.72805,      0.7278,     0.72756,     0.72732,\n",
      "            0.72708,     0.72683,     0.72659,     0.72635,     0.72611,     0.72586,     0.72562,     0.72538,     0.72513,     0.72489,     0.72465,     0.72441,     0.72416,     0.72392,     0.72368,     0.72343,     0.72319,     0.72295,     0.72271,     0.72246,     0.72222,     0.72198,     0.72173,\n",
      "            0.72149,     0.72125,     0.72101,     0.72076,     0.72052,     0.72028,     0.72004,     0.71979,     0.71955,     0.71931,      0.7193,      0.7193,      0.7193,      0.7193,      0.7193,      0.7193,      0.7193,      0.7193,      0.7193,      0.7193,      0.7193,      0.7193,      0.7193,\n",
      "             0.7193,     0.70798,     0.70151,     0.70106,     0.70062,     0.70017,     0.69972,     0.69927,     0.69883,     0.69838,     0.69793,     0.69749,     0.69704,     0.69659,     0.69614,      0.6957,     0.69525,      0.6948,     0.69436,     0.69391,     0.69346,     0.69301,     0.69257,\n",
      "            0.69212,     0.69167,     0.69123,     0.69078,     0.69033,     0.68988,     0.68944,     0.68899,     0.68854,      0.6881,     0.68765,      0.6872,     0.68675,     0.68631,     0.68586,     0.68541,     0.68497,     0.68452,      0.6838,     0.68246,     0.68112,     0.67978,     0.67844,\n",
      "            0.67711,     0.67577,     0.67443,     0.67309,     0.67175,     0.67041,     0.66908,     0.66774,     0.66461,     0.65432,     0.64912,     0.64912,     0.64912,     0.64912,     0.64912,     0.64912,     0.64912,     0.64912,     0.64912,     0.64912,     0.64912,     0.64912,     0.64912,\n",
      "            0.64912,     0.64912,     0.64912,     0.64912,     0.64912,     0.64912,     0.64912,     0.64912,     0.64912,     0.64912,     0.64805,      0.6463,     0.64456,     0.64281,     0.64106,     0.63931,     0.63757,     0.63582,     0.63407,     0.63232,     0.61395,     0.61019,     0.60644,\n",
      "            0.60269,     0.59894,     0.59543,     0.59239,     0.58934,      0.5863,     0.58325,     0.58021,     0.57846,     0.57762,     0.57678,     0.57594,      0.5751,     0.57426,     0.57342,     0.57258,     0.57174,      0.5709,     0.57006,     0.56922,     0.56838,     0.56754,     0.56671,\n",
      "            0.56587,     0.56503,     0.56419,     0.56335,     0.56251,     0.56167,     0.55663,     0.54964,     0.54337,     0.54056,     0.53774,     0.53493,     0.53212,      0.5293,     0.52649,     0.52581,     0.52527,     0.52472,     0.52418,     0.52364,      0.5231,     0.52255,     0.52201,\n",
      "            0.52147,     0.52093,     0.52039,     0.51984,      0.5193,     0.51876,     0.51822,     0.51768,     0.51713,     0.51659,     0.51605,     0.51551,     0.51497,     0.51442,     0.51388,     0.51334,      0.5128,     0.51226,     0.51171,     0.51117,     0.51063,     0.51009,     0.50955,\n",
      "              0.509,     0.50877,     0.50877,     0.50877,     0.50877,     0.50877,     0.50877,     0.50877,     0.50877,     0.50877,     0.50877,     0.50877,     0.50877,     0.50877,     0.50806,     0.50687,     0.50568,     0.50448,     0.50329,      0.5021,     0.50091,     0.49972,     0.49853,\n",
      "            0.49734,     0.49614,     0.49495,     0.49376,     0.49257,     0.49138,     0.48906,     0.48657,     0.48409,     0.48161,     0.47912,     0.47664,     0.47415,     0.46399,     0.45582,     0.45487,     0.45393,     0.45299,     0.45205,      0.4511,     0.45016,     0.44922,     0.44827,\n",
      "            0.44733,     0.44639,     0.44545,      0.4445,     0.44356,     0.44262,     0.44168,     0.44073,     0.43979,     0.43885,     0.43307,     0.42553,     0.41297,     0.40268,     0.40111,     0.39953,     0.39796,     0.39638,     0.39481,     0.39323,     0.39166,     0.39008,     0.38851,\n",
      "            0.38694,     0.36794,     0.36431,     0.36068,     0.35706,     0.35343,     0.33775,     0.33048,      0.3273,     0.32412,     0.32095,     0.31777,     0.31425,     0.31016,     0.30606,     0.30197,     0.29805,     0.29588,      0.2937,     0.29153,     0.28935,     0.28718,     0.28501,\n",
      "            0.28283,     0.28046,     0.26856,     0.25813,     0.24893,     0.24072,     0.23307,     0.22729,     0.22504,     0.22279,     0.22054,     0.21829,     0.21604,     0.21379,     0.21154,     0.19256,     0.18179,     0.15652,     0.14301,     0.13465,     0.12755,     0.11464,     0.08401,\n",
      "           0.069198,    0.062782,    0.056366,     0.02041,           0,           0,           0,           0,           0,           0,           0]]), 'Confidence', 'Recall']]\n",
      "fitness: np.float64(0.7106295188794275)\n",
      "keys: ['metrics/precision(B)', 'metrics/recall(B)', 'metrics/mAP50(B)', 'metrics/mAP50-95(B)']\n",
      "maps: array([    0.69239])\n",
      "names: {0: 'Racket - v1 2023-09-01 11-50pm'}\n",
      "plot: True\n",
      "results_dict: {'metrics/precision(B)': np.float64(0.8885009811918899), 'metrics/recall(B)': np.float64(0.8070175438596491), 'metrics/mAP50(B)': np.float64(0.8748022741124554), 'metrics/mAP50-95(B)': np.float64(0.6923881016313133), 'fitness': np.float64(0.7106295188794275)}\n",
      "save_dir: WindowsPath('C:/Users/Sandra/Documents/GitHub/cda2_tennis_challenge/tennis-challenge/runs/detect/train21')\n",
      "speed: {'preprocess': 1.1978693175734136, 'inference': 53.75151885183234, 'loss': 0.0, 'postprocess': 9.665585400765403}\n",
      "task: 'detect'\n"
     ]
    }
   ],
   "source": [
    "def train(data_path):\n",
    "  model = YOLO(\"models/yolo11n.pt\")\n",
    "\n",
    "\n",
    "  train_result = model.train(\n",
    "      data= data_path,\n",
    "      epochs= 10,\n",
    "      device= \"cpu\"\n",
    "    )\n",
    "  \n",
    "\n",
    "  print(\"Trainig complete. Result:\",train_result)\n",
    "\n",
    "if __name__ == \"__main__\" :\n",
    "  train(\"training_ball\\data.yaml\")\n",
    "  train(\"training_court\\data.yaml\")\n",
    "  train(\"training_racket\\data.yaml\")"
   ]
  },
  {
   "cell_type": "code",
   "execution_count": 47,
   "metadata": {},
   "outputs": [],
   "source": [
    "# 1. Video einlesen\n",
    "video_path = \"input/test.mp4\"  # Pfad zu Ihrem Video\n",
    "cap = cv2.VideoCapture(video_path)"
   ]
  },
  {
   "cell_type": "code",
   "execution_count": 48,
   "metadata": {},
   "outputs": [],
   "source": [
    "# 2. Modelle laden\n",
    "ball_model = YOLO(\"/tennis-challenge/runs/detect/train16/weights\")  # Modell für Ball-Erkennung\n",
    "court_model = YOLO(\"/tennis-challenge/runs/detect/train19/weights\")  # Modell für Platz-Erkennung\n",
    "pose_model = YOLO(\"yolo11n-pose.pt\")  # Pose-Schätzungsmodell\n",
    "racket_model = YOLO(\"/tennis-challenge/runs/detect/train21/weights\") #Model-Tennisschläger\n",
    "\n",
    "# CSV-Datei zum Speichern der Koordinaten erstellen\n",
    "output_data = []\n",
    "\n",
    "while cap.isOpened():\n",
    "    ret, frame = cap.read()\n",
    "    if not ret:\n",
    "        break\n",
    "\n",
    "    # 3. Bildtiefe und Distanzskalierung (z.B. für Tennisfeld)\n",
    "    height, width = frame.shape[:2]\n",
    "    scale_factor = 1.0  # Hier können Sie den Skalierungsfaktor anpassen\n",
    "    scaled_frame = cv2.resize(frame, (int(width * scale_factor), int(height * scale_factor)))\n",
    "\n",
    "    # 4. Objekterkennung (Ball)\n",
    "    ball_results = ball_model(scaled_frame)\n",
    "    # Objekterkennung (Platz)\n",
    "    court_results = court_model(scaled_frame)\n",
    "    # Pose-Schätzung\n",
    "    pose_results = pose_model(scaled_frame)\n",
    "    # Racket-Schätzung\n",
    "    racket_result = racket_model(scaled_frame)\n",
    "\n",
    "\n",
    "    # Ergebnisse visualisieren und Koordinaten speichern\n",
    "    for result in ball_results:\n",
    "        boxes = result.boxes.xyxy if result.boxes is not None else []\n",
    "        for box in boxes:\n",
    "            x1, y1, x2, y2 = map(int, box[:4])\n",
    "            cv2.rectangle(scaled_frame, (x1, y1), (x2, y2), (0, 255, 255), 2)  # Gelb für den Ball\n",
    "\n",
    "            # Koordinaten speichern\n",
    "            output_data.append({\n",
    "                'Frame': cap.get(cv2.CAP_PROP_POS_FRAMES),\n",
    "                'Ball': f\"{x1},{y1},{x2},{y2}\",\n",
    "                'Player_1': None,\n",
    "                'Player_2': None,\n",
    "            })\n",
    "\n",
    "    for result in court_results:\n",
    "        boxes = result.boxes.xyxy if result.boxes is not None else []\n",
    "        for box in boxes:\n",
    "            x1, y1, x2, y2 = map(int, box[:4])\n",
    "            cv2.rectangle(scaled_frame, (x1, y1), (x2, y2), (255, 0, 0), 2)  # Blau für den Platz\n",
    "\n",
    "    for result in pose_results:\n",
    "        keypoints = result.keypoints if result.keypoints is not None else []\n",
    "        for i, person in enumerate(keypoints):\n",
    "            skeleton_color = (255, 0, 0) if i == 0 else (148, 0, 211)  # Hellblau für Person 1, Violett für Person 2\n",
    "            for x, y in person:\n",
    "                cv2.circle(scaled_frame, (int(x), int(y)), 5, skeleton_color, -1)\n",
    "\n",
    "            # Koordinaten speichern (angenommen es gibt maximal zwei Spieler)\n",
    "            if i == 0:\n",
    "                output_data[-1]['Player_1'] = f\"{person[0][0]},{person[0][1]}\"\n",
    "            elif i == 1:\n",
    "                output_data[-1]['Player_2'] = f\"{person[0][0]},{person[0][1]}\"\n",
    "\n",
    "    # Ergebnis anzeigen\n",
    "    cv2.imshow(\"Tennis Match Analysis\", scaled_frame)\n",
    "\n",
    "    if cv2.waitKey(1) & 0xFF == ord('q'):\n",
    "        break\n",
    "\n",
    "# CSV-Datei speichern\n",
    "df = pd.DataFrame(output_data)\n",
    "df.to_csv('tennis_match_analysis.csv', index=False)\n",
    "\n",
    "# Ressourcen freigeben\n",
    "cap.release()\n",
    "cv2.destroyAllWindows()"
   ]
  }
 ],
 "metadata": {
  "kernelspec": {
   "display_name": ".venv",
   "language": "python",
   "name": "python3"
  },
  "language_info": {
   "codemirror_mode": {
    "name": "ipython",
    "version": 3
   },
   "file_extension": ".py",
   "mimetype": "text/x-python",
   "name": "python",
   "nbconvert_exporter": "python",
   "pygments_lexer": "ipython3",
   "version": "3.12.7"
  }
 },
 "nbformat": 4,
 "nbformat_minor": 2
}
