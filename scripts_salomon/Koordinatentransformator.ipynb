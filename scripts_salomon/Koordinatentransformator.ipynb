{
 "cells": [
  {
   "cell_type": "code",
   "execution_count": 1,
   "id": "077135b2",
   "metadata": {},
   "outputs": [],
   "source": [
    "import numpy as np"
   ]
  },
  {
   "cell_type": "code",
   "execution_count": 2,
   "id": "195e0071",
   "metadata": {},
   "outputs": [],
   "source": [
    "# Drei Kalibrierungspunkte\n",
    "P1=np.array([1.763, 0.110, 16.476])\n",
    "P2=np.array([9.341, 0.435, 16.512])\n",
    "P3=np.array([-1.079, 0.430, 8.327])"
   ]
  },
  {
   "cell_type": "code",
   "execution_count": 3,
   "id": "1a2951cd",
   "metadata": {},
   "outputs": [],
   "source": [
    "# Basisvektoren\n",
    "r1=P2-P1 # parallel zum Netz, wird x\n",
    "r2=-(P3-0.5*(P1+P2)) # entlang Spielfeld, wird y\n",
    "\n",
    "# Einheitsvektoren\n",
    "r1u=r1/np.sqrt(np.dot(r1,r1))\n",
    "r2u=r2/np.sqrt(np.dot(r2,r2))\n",
    "r3u=np.cross(r1u,r2u)"
   ]
  },
  {
   "cell_type": "code",
   "execution_count": 4,
   "id": "b75a6701",
   "metadata": {},
   "outputs": [],
   "source": [
    "# Translation, Ursprung in den nicht-kalibrierten Koordinaten\n",
    "T0=0.5*(P1+P2)+0.25*r2u"
   ]
  },
  {
   "cell_type": "code",
   "execution_count": 5,
   "id": "bdf948d0",
   "metadata": {},
   "outputs": [],
   "source": [
    "# Rotationen\n",
    "# Vertauschen, damit z ungefähr nach oben zeigt (könnte übersprungen werden)\n",
    "M0=np.array([[1,0,0],[0,0,1],[0,-1,0]])\n",
    "r1_0=np.inner(M0,r1u)\n",
    "r2_0=np.inner(M0,r2u)\n",
    "r3_0=np.inner(M0,r3u)\n",
    "\n",
    "# Transformation von r1_0 nach e_x, r2_0 nach e_y, r3_0 nach e_z\n",
    "M1=np.c_[r1_0,r2_0,r3_0]\n",
    "M1_inv=np.linalg.inv(M1)"
   ]
  },
  {
   "cell_type": "code",
   "execution_count": 6,
   "id": "16052148",
   "metadata": {},
   "outputs": [],
   "source": [
    "# Abbildung\n",
    "def Tennis(r):\n",
    "    return np.inner(M1_inv,np.inner(M0,(r-T0)))"
   ]
  },
  {
   "cell_type": "code",
   "execution_count": null,
   "id": "aee2050a",
   "metadata": {},
   "outputs": [],
   "source": [
    "Tennis(P3)"
   ]
  },
  {
   "cell_type": "code",
   "execution_count": 7,
   "id": "88a8bfab",
   "metadata": {},
   "outputs": [],
   "source": [
    "# Beispielfunktion\n",
    "def Tennisfeld(r,P1,P2,P3):\n",
    "    r1=P2-P1\n",
    "    r2=-(P3-0.5*(P1+P2))\n",
    "    # Basisvektoren\n",
    "    r1u=r1/np.sqrt(np.dot(r1,r1))\n",
    "    r2u=r2/np.sqrt(np.dot(r2,r2))\n",
    "    r3u=np.cross(r1u,r2u)\n",
    "    # Translation\n",
    "    T0=0.5*(P1+P2)-0.25*r2u\n",
    "    # Rotation\n",
    "    M1=np.c_[r1u,r2u,r3u]\n",
    "    M1_inv=np.linalg.inv(M1)\n",
    "    # Abbildung\n",
    "    return np.inner(M1_inv,(r-T0))"
   ]
  },
  {
   "cell_type": "code",
   "execution_count": null,
   "id": "920d5417",
   "metadata": {},
   "outputs": [],
   "source": [
    "Tennisfeld(P3,P1,P2,P3)"
   ]
  }
 ],
 "metadata": {
  "kernelspec": {
   "display_name": ".venv",
   "language": "python",
   "name": "python3"
  },
  "language_info": {
   "codemirror_mode": {
    "name": "ipython",
    "version": 3
   },
   "file_extension": ".py",
   "mimetype": "text/x-python",
   "name": "python",
   "nbconvert_exporter": "python",
   "pygments_lexer": "ipython3",
   "version": "3.12.4"
  }
 },
 "nbformat": 4,
 "nbformat_minor": 5
}
