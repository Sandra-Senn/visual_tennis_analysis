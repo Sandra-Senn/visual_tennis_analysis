{
 "cells": [
  {
   "cell_type": "code",
   "execution_count": 43,
   "metadata": {},
   "outputs": [
    {
     "name": "stdout",
     "output_type": "stream",
     "text": [
      "{0: {'green': 8, 'yellow': 2, 'red': 1}, 1: {'green': 8, 'yellow': 1, 'red': 1}}\n"
     ]
    }
   ],
   "source": [
    "import pandas as pd\n",
    "def analyze_positions_per_game(data, game):\n",
    "    \"\"\"\n",
    "    Analysiert, wie oft Spieler in der grünen, gelben oder roten Zone standen,\n",
    "    während der andere Spieler geschlagen hat.\n",
    "\n",
    "    Parameters:\n",
    "        data: pandas.DataFrame\n",
    "            Die Daten mit Spielerpositionen und Schlägen.\n",
    "        game: int\n",
    "            Das Spiel, das analysiert werden soll.\n",
    "\n",
    "    Returns:\n",
    "        dict:\n",
    "            Ein Dictionary mit den Häufigkeiten der Positionen in den Zonen für jeden Spieler.\n",
    "    \"\"\"\n",
    "    # Filtere die Daten für das ausgewählte Spiel\n",
    "    game_data = data[data[\"Game\"] == game]\n",
    "    shots = game_data[game_data[\"Spieler schlägt\"] == \"Ja\"]\n",
    "\n",
    "    # Zonenbegrenzungen (in Metern)\n",
    "    green_zone = (-2, 2)  # X-Werte der grünen Zone\n",
    "    yellow_zone_left = (-3, -2)  # X-Werte der linken gelben Zone\n",
    "    yellow_zone_right = (2, 3)  # X-Werte der rechten gelben Zone\n",
    "    red_zone_left = (-5, -3)  # X-Werte der linken roten Zone\n",
    "    red_zone_right = (3, 5)  # X-Werte der rechten roten Zone\n",
    "\n",
    "    # Initialisiere Zähler für jede Zone pro Spieler\n",
    "    zone_counts = {0: {\"green\": 0, \"yellow\": 0, \"red\": 0},\n",
    "                   1: {\"green\": 0, \"yellow\": 0, \"red\": 0}}\n",
    "\n",
    "    # Iteriere über jeden Schlag\n",
    "    for _, shot in shots.iterrows():\n",
    "        frame = shot[\"Frame\"]\n",
    "        object_id = shot[\"Object.ID\"]  # Schlagender Spieler\n",
    "        opponent_id = 1 - object_id    # Gegenspieler\n",
    "\n",
    "        # Position des Gegenspielers im aktuellen Frame\n",
    "        opponent_data = game_data[(game_data[\"Frame\"] == frame) & (game_data[\"Object.ID\"] == opponent_id)]\n",
    "\n",
    "        if opponent_data.empty:\n",
    "            continue  # Überspringe Frames ohne gültige Daten\n",
    "\n",
    "        opponent_x = opponent_data[\"Transformed.X\"].iloc[0]\n",
    "\n",
    "        # Überprüfe, in welcher Zone der Gegner steht\n",
    "        if green_zone[0] <= opponent_x <= green_zone[1]:\n",
    "            zone_counts[opponent_id][\"green\"] += 1\n",
    "        elif yellow_zone_left[0] <= opponent_x <= yellow_zone_left[1] or yellow_zone_right[0] <= opponent_x <= yellow_zone_right[1]:\n",
    "            zone_counts[opponent_id][\"yellow\"] += 1\n",
    "        elif red_zone_left[0] <= opponent_x <= red_zone_left[1] or red_zone_right[0] <= opponent_x <= red_zone_right[1]:\n",
    "            zone_counts[opponent_id][\"red\"] += 1\n",
    "\n",
    "    return zone_counts\n",
    "\n",
    "data = pd.read_csv(\"csv.csv\")\n",
    "\n",
    "zone_analysis = analyze_positions_per_game(data, game=\"3\")\n",
    "print(zone_analysis)\n"
   ]
  },
  {
   "cell_type": "code",
   "execution_count": 35,
   "metadata": {},
   "outputs": [],
   "source": [
    "def count_zone_visits(data, game, object_id, zone):\n",
    "    \"\"\"\n",
    "    Zählt die Aufenthalte eines Spielers in einer bestimmten Zone, wenn der andere Spieler geschlagen hat.\n",
    "    \n",
    "    Args:\n",
    "        data: DataFrame mit Spieldaten\n",
    "        game: Spielnummer\n",
    "        object_id: ID des Spielers, dessen Aufenthalte gezählt werden\n",
    "        zone: Zielzone (\"grün\", \"gelb\" oder \"rot\")\n",
    "        \n",
    "    Returns:\n",
    "        Anzahl der Aufenthalte in der angegebenen Zone\n",
    "    \"\"\"\n",
    "    # Filtere Daten für das angegebene Spiel\n",
    "    game_data = data[(data[\"Game\"] == game) & (data[\"Spieler schlägt\"] == \"Ja\") & (data[\"Object.ID\"] == 1- object_id)]\n",
    "\n",
    "    # Definiere die Zonen\n",
    "    zone_limits = {\n",
    "        \"grün\": (-2, 2),\n",
    "        \"gelb_links\": (-3, -2),\n",
    "        \"gelb_rechts\": (2, 3),\n",
    "        \"rot_links\": (-5, -3),\n",
    "        \"rot_rechts\": (3, 5)\n",
    "    }\n",
    "    \n",
    "    # Wähle die passende Zonen-Grenze basierend auf der Eingabe\n",
    "    if zone == \"grün\":\n",
    "        limits = zone_limits[\"grün\"]\n",
    "    elif zone == \"gelb\":\n",
    "        limits = zone_limits[\"gelb_links\"], zone_limits[\"gelb_rechts\"]\n",
    "    elif zone == \"rot\":\n",
    "        limits = zone_limits[\"rot_links\"], zone_limits[\"rot_rechts\"]\n",
    "    else:\n",
    "        return 0  # Ungültige Zone\n",
    "    \n",
    "    # Zähle Aufenthalte des Spielers in der Zone\n",
    "    count = 0\n",
    "    for _, shot in game_data.iterrows():\n",
    "        frame = shot[\"Frame\"]\n",
    "        player_data = data[(data[\"Frame\"] == frame) & (data[\"Object.ID\"] == object_id)]\n",
    "        \n",
    "        if not player_data.empty:\n",
    "            player_x = player_data[\"Transformed.X\"].iloc[0]\n",
    "            \n",
    "            if zone == \"grün\":\n",
    "                if limits[0] <= player_x <= limits[1]:\n",
    "                    count += 1\n",
    "            else:\n",
    "                if limits[0][0] <= player_x <= limits[0][1] or limits[1][0] <= player_x <= limits[1][1]:\n",
    "                    count += 1\n",
    "    \n",
    "    return count\n"
   ]
  },
  {
   "cell_type": "code",
   "execution_count": 34,
   "metadata": {},
   "outputs": [],
   "source": [
    "game_data = data[(data[\"Game\"] == \"1\") & (data[\"Spieler schlägt\"] == \"Ja\") & (data[\"Object.ID\"] == 1)]"
   ]
  },
  {
   "cell_type": "code",
   "execution_count": 42,
   "metadata": {},
   "outputs": [
    {
     "name": "stdout",
     "output_type": "stream",
     "text": [
      "Spieler 1 war 0 Mal in der grünen Zone.\n"
     ]
    }
   ],
   "source": [
    "result = count_zone_visits(data, game=\"1\", object_id=0, zone=\"rot\")\n",
    "print(f\"Spieler 1 war {result} Mal in der grünen Zone.\")\n"
   ]
  },
  {
   "cell_type": "code",
   "execution_count": 1,
   "metadata": {},
   "outputs": [],
   "source": [
    "import pandas as pd\n",
    "import matplotlib.pyplot as plt\n",
    "import seaborn as sns\n",
    "import matplotlib.patches as patches\n",
    "import math\n",
    "import numpy as np"
   ]
  },
  {
   "cell_type": "code",
   "execution_count": 79,
   "metadata": {},
   "outputs": [],
   "source": [
    "data = pd.read_csv(\"csv.csv\")\n",
    "game_data = data[(data[\"Game\"] == \"2\") & (data[\"Spieler schlägt\"] == \"Ja\") & (data[\"Object.ID\"] == 1)]"
   ]
  },
  {
   "cell_type": "code",
   "execution_count": 40,
   "metadata": {},
   "outputs": [
    {
     "name": "stdout",
     "output_type": "stream",
     "text": [
      "2.3431587681307775 -11.89\n"
     ]
    }
   ],
   "source": [
    "A= (2.4193092395990625, -11.321411218413012)\n",
    "B= (-7.5, -11.89)\n",
    "C= (8.23 / 2, -11.89)\n",
    "vector_AB = (B[0] - A[0], B[1] - A[1])\n",
    "vector_AC = (C[0] - A[0], C[1] - A[1])\n",
    "\n",
    "length_AB = math.sqrt(vector_AB[0]**2 + vector_AB[1]**2)\n",
    "length_AC = math.sqrt(vector_AC[0]**2 + vector_AC[1]**2)\n",
    "\n",
    "vector_AB_normalized = (vector_AB[0] / length_AB, vector_AB[1] / length_AB)\n",
    "vector_AC_normalized = (vector_AC[0] / length_AC, vector_AC[1] / length_AC)\n",
    "\n",
    "vector_bisector = (vector_AB_normalized[0] + vector_AC_normalized[0], vector_AB_normalized[1] + vector_AC_normalized[1])\n",
    "\n",
    "    # Schnittpunkt D berechnen\n",
    "t = ((C[1] - B[1]) * (B[0] - A[0]) - (C[0] - B[0]) * (B[1] - A[1])) / ((C[1] - B[1]) * vector_bisector[0] - (C[0] - B[0]) * vector_bisector[1])\n",
    "Dx = A[0] + t * vector_bisector[0]\n",
    "Dy = A[1] + t * vector_bisector[1]\n",
    "print(Dx, Dy)"
   ]
  },
  {
   "cell_type": "code",
   "execution_count": null,
   "metadata": {},
   "outputs": [
    {
     "name": "stdout",
     "output_type": "stream",
     "text": [
      "(-1.862221166439532, 11.223787255279438)\n",
      "(-0.09870281779354251, -11.890000000000002)\n",
      "(-0.5987028177935425, 0.4012971822064575)\n",
      "2.4193092395990625\n",
      "(1.465493182900295, 11.829724270190484)\n",
      "(0.07413152352045183, -11.890000000000002)\n",
      "(-0.4258684764795482, 0.5741315235204518)\n",
      "-3.986006724973702\n",
      "(-0.2494656195529523, 10.63545986876812)\n",
      "(-0.013962170003406743, -11.89)\n",
      "(-0.5139621700034067, 0.4860378299965933)\n",
      "-2.5847896362775784\n",
      "(-1.528494724601876, 12.094452747357463)\n",
      "(-0.07568819936662119, -11.890000000000002)\n",
      "(-0.5756881993666212, 0.4243118006333788)\n",
      "1.4000044575394726\n",
      "(3.895899075578084, 11.510888385943916)\n",
      "(-1.3839380916155313, -11.889999999999999)\n",
      "(-1.8839380916155313, -0.8839380916155313)\n",
      "-5.202909015567945\n",
      "0\n"
     ]
    }
   ],
   "source": []
  },
  {
   "cell_type": "code",
   "execution_count": 72,
   "metadata": {},
   "outputs": [
    {
     "name": "stdout",
     "output_type": "stream",
     "text": [
      "(-1.862221166439532, 11.223787255279438)\n",
      "(-0.09870281779354251, -11.890000000000002)\n",
      "2.4193092395990625\n"
     ]
    },
    {
     "ename": "ValueError",
     "evalue": "The truth value of an array with more than one element is ambiguous. Use a.any() or a.all()",
     "output_type": "error",
     "traceback": [
      "\u001b[1;31m---------------------------------------------------------------------------\u001b[0m",
      "\u001b[1;31mValueError\u001b[0m                                Traceback (most recent call last)",
      "Cell \u001b[1;32mIn[72], line 3\u001b[0m\n\u001b[0;32m      1\u001b[0m data \u001b[38;5;241m=\u001b[39m pd\u001b[38;5;241m.\u001b[39mread_csv(\u001b[38;5;124m\"\u001b[39m\u001b[38;5;124mcsv.csv\u001b[39m\u001b[38;5;124m\"\u001b[39m)\n\u001b[1;32m----> 3\u001b[0m grün \u001b[38;5;241m=\u001b[39m \u001b[43mcount_zone_visits\u001b[49m\u001b[43m(\u001b[49m\u001b[43mdata\u001b[49m\u001b[43m,\u001b[49m\u001b[43m \u001b[49m\u001b[43mgame\u001b[49m\u001b[38;5;241;43m=\u001b[39;49m\u001b[38;5;124;43m\"\u001b[39;49m\u001b[38;5;124;43m2\u001b[39;49m\u001b[38;5;124;43m\"\u001b[39;49m\u001b[43m,\u001b[49m\u001b[43m \u001b[49m\u001b[43mobject_id\u001b[49m\u001b[38;5;241;43m=\u001b[39;49m\u001b[38;5;241;43m1\u001b[39;49m\u001b[43m,\u001b[49m\u001b[43m \u001b[49m\u001b[43mzone\u001b[49m\u001b[38;5;241;43m=\u001b[39;49m\u001b[38;5;124;43m\"\u001b[39;49m\u001b[38;5;124;43mrot\u001b[39;49m\u001b[38;5;124;43m\"\u001b[39;49m\u001b[43m)\u001b[49m\n\u001b[0;32m      4\u001b[0m \u001b[38;5;28mprint\u001b[39m(grün)\n",
      "Cell \u001b[1;32mIn[69], line 87\u001b[0m, in \u001b[0;36mcount_zone_visits\u001b[1;34m(data, game, object_id, zone)\u001b[0m\n\u001b[0;32m     84\u001b[0m player_x \u001b[38;5;241m=\u001b[39m player_data[\u001b[38;5;124m\"\u001b[39m\u001b[38;5;124mTransformed.X\u001b[39m\u001b[38;5;124m\"\u001b[39m]\u001b[38;5;241m.\u001b[39miloc[\u001b[38;5;241m0\u001b[39m]\n\u001b[0;32m     86\u001b[0m \u001b[38;5;28mprint\u001b[39m(player_x)\n\u001b[1;32m---> 87\u001b[0m \u001b[38;5;28;01mif\u001b[39;00m limits[\u001b[38;5;241m0\u001b[39m] \u001b[38;5;241m<\u001b[39m\u001b[38;5;241m=\u001b[39m player_x \u001b[38;5;241m<\u001b[39m\u001b[38;5;241m=\u001b[39m limits[\u001b[38;5;241m1\u001b[39m]:\n\u001b[0;32m     88\u001b[0m        count \u001b[38;5;241m+\u001b[39m\u001b[38;5;241m=\u001b[39m \u001b[38;5;241m1\u001b[39m\n\u001b[0;32m     89\u001b[0m \u001b[38;5;28;01melse\u001b[39;00m:\n",
      "\u001b[1;31mValueError\u001b[0m: The truth value of an array with more than one element is ambiguous. Use a.any() or a.all()"
     ]
    }
   ],
   "source": [
    "data = pd.read_csv(\"csv.csv\")\n",
    "\n",
    "grün = count_zone_visits(data, game=\"2\", object_id=1, zone=\"rot\")\n",
    "print(grün)"
   ]
  },
  {
   "cell_type": "code",
   "execution_count": 91,
   "metadata": {},
   "outputs": [],
   "source": [
    "def count_zone_occurrences(data, game, zone, object_id):\n",
    "    # Filtere Daten für das angegebene Spiel\n",
    "    game_data = data[(data[\"Game\"] == game) & (data[\"Spieler schlägt\"] == \"Ja\") & (data[\"Object.ID\"] == object_id)]\n",
    "\n",
    "    count = 0\n",
    "\n",
    "    for _, shot in game_data.iterrows():\n",
    "        frame = shot[\"Frame\"]\n",
    "        player_data = data[(data[\"Frame\"] == frame) & (data[\"Object.ID\"] == 1 - object_id)]\n",
    "        \n",
    "        A = shot[\"Transformed.X\"], shot[\"Transformed.Y\"]\n",
    "\n",
    "        if -2 <= A[0] <= 2:\n",
    "            field_width = 10.97\n",
    "            if object_id == 0:\n",
    "                B, C, X, Z = (-field_width / 2, 11.89), (field_width / 2, 11.89), 11.89, 1.5\n",
    "            else:\n",
    "                B, C, X, Z = (-field_width / 2, -11.89), (field_width / 2, -11.89), -11.89, -1.5\n",
    "\n",
    "        elif A[0] < -2:\n",
    "            field_width = 8.23\n",
    "            if object_id == 0:\n",
    "                B, C, X, Z = (-field_width / 2, 11.89), (7.5, 11.89), 11.89, 1.5\n",
    "            else:\n",
    "                B, C, X, Z = (-field_width / 2, -11.89), (7.5, -11.89), -11.89, -1.5\n",
    "\n",
    "        else:\n",
    "            field_width = 8.23\n",
    "            if object_id == 0:\n",
    "                B, C, X, Z = (-7.5, 11.89), (field_width / 2, 11.89), 11.89, 1.5\n",
    "            else:\n",
    "                B, C, X, Z = (-7.5, -11.89), (field_width / 2, -11.89), -11.89, -1.5\n",
    "\n",
    "        D = calculate_intersection_point(A, B, C)\n",
    "\n",
    "        zone_limits = {\n",
    "            \"grün\": (D[0] - 0.5, D[0] + 0.5),\n",
    "            \"gelb_links\": (D[0] - 0.5, D[0] - 2),\n",
    "            \"gelb_rechts\": (D[0] + 0.5, D[0] + 2),\n",
    "            \"rot_links\": (D[0] - 2, D[0] - 5.5),\n",
    "            \"rot_rechts\": (D[0] + 2, D[0] + 5.5)\n",
    "        }\n",
    "\n",
    "        if zone == \"grün\":\n",
    "            limits = zone_limits[zone]\n",
    "        elif zone == \"gelb\":\n",
    "            limits = zone_limits[\"gelb_links\"], zone_limits[\"gelb_rechts\"]\n",
    "        elif zone == \"rot\":\n",
    "            limits = zone_limits[\"rot_links\"], zone_limits[\"rot_rechts\"]\n",
    "        else:\n",
    "            continue\n",
    "\n",
    "        if not player_data.empty:\n",
    "            player_x = player_data[\"Transformed.X\"].iloc[0]\n",
    "\n",
    "            if zone == \"grün\":\n",
    "                if limits[0] <= player_x <= limits[1]:\n",
    "                    count += 1\n",
    "            else:\n",
    "                limits = tuple(sorted(l) for l in limits)\n",
    "                if (limits[0][0] <= player_x <= limits[0][1] or limits[1][0] <= player_x <= limits[1][1]):\n",
    "                    count += 1\n",
    "\n",
    "    return count\n"
   ]
  },
  {
   "cell_type": "code",
   "execution_count": 96,
   "metadata": {},
   "outputs": [
    {
     "name": "stdout",
     "output_type": "stream",
     "text": [
      "2\n"
     ]
    }
   ],
   "source": [
    "test = count_zone_occurrences(data, game=\"2\", zone=\"grün\", object_id=0)\n",
    "print(test)"
   ]
  },
  {
   "cell_type": "code",
   "execution_count": 99,
   "metadata": {},
   "outputs": [
    {
     "name": "stdout",
     "output_type": "stream",
     "text": [
      "Empty DataFrame\n",
      "Columns: [Frame, Object.ID, Transformed.X, Transformed.Y, Spiel läuft, Game, Speed, Spieler schlägt]\n",
      "Index: []\n"
     ]
    }
   ],
   "source": [
    "data = pd.read_csv(\"csv.csv\")\n",
    "# Daten filtern\n",
    "filtered_data = data[(data['Game'] == \"2\") & \n",
    "                     (data['Object.ID'] == 0) & \n",
    "                     (data['Speed'].isna())]\n",
    "\n",
    "print(filtered_data)\n"
   ]
  }
 ],
 "metadata": {
  "kernelspec": {
   "display_name": "Python 3",
   "language": "python",
   "name": "python3"
  },
  "language_info": {
   "codemirror_mode": {
    "name": "ipython",
    "version": 3
   },
   "file_extension": ".py",
   "mimetype": "text/x-python",
   "name": "python",
   "nbconvert_exporter": "python",
   "pygments_lexer": "ipython3",
   "version": "3.11.9"
  }
 },
 "nbformat": 4,
 "nbformat_minor": 2
}
