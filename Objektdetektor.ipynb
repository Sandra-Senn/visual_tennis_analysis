{
 "cells": [
  {
   "cell_type": "code",
   "execution_count": 1,
   "id": "b5babf09-2f9e-4318-a02e-6b83213645d1",
   "metadata": {},
   "outputs": [],
   "source": [
    "import pyzed.sl as sl"
   ]
  },
  {
   "cell_type": "code",
   "execution_count": 2,
   "id": "08b366af-0b30-4981-b60d-5e0efecae030",
   "metadata": {},
   "outputs": [],
   "source": [
    "zed = sl.Camera()"
   ]
  },
  {
   "cell_type": "code",
   "execution_count": 3,
   "id": "92b81623-aef2-49e0-ac7b-eb80d5619cd5",
   "metadata": {},
   "outputs": [],
   "source": [
    "# Datei statt Kamera\n",
    "input_type = sl.InputType()\n",
    "input_type.set_from_svo_file(\"C:/Users/rapha/OneDrive/Desktop/Studium/Tennis Challenge/tennis-challenge/HD1080_SN35071549_10-20-07.svo\")"
   ]
  },
  {
   "cell_type": "code",
   "execution_count": 4,
   "id": "d60310ad-c86d-4794-9549-7b2a4eaee5ac",
   "metadata": {},
   "outputs": [],
   "source": [
    "# Hauptparamter\n",
    "init_params = sl.InitParameters(input_t=input_type, svo_real_time_mode=False)\n",
    "init_params.depth_mode = sl.DEPTH_MODE.ULTRA\n",
    "init_params.coordinate_units = sl.UNIT.METER\n",
    "init_params.depth_maximum_distance = 40"
   ]
  },
  {
   "cell_type": "code",
   "execution_count": 5,
   "id": "65ab60e8-e61f-45c3-8422-1921ef170412",
   "metadata": {},
   "outputs": [
    {
     "data": {
      "text/plain": [
       "SUCCESS"
      ]
     },
     "execution_count": 5,
     "metadata": {},
     "output_type": "execute_result"
    }
   ],
   "source": [
    "zed.open(init_params)"
   ]
  },
  {
   "cell_type": "code",
   "execution_count": 6,
   "id": "9110447d-2c14-4d80-a05e-761e4f944acc",
   "metadata": {},
   "outputs": [],
   "source": [
    "# Detektionsparameter\n",
    "detection_parameters = sl.ObjectDetectionParameters()\n",
    "#detection_parameters.image_sync = True\n",
    "detection_parameters.enable_tracking = True\n",
    "detection_parameters.enable_segmentation = True\n",
    "detection_parameters.detection_model = sl.OBJECT_DETECTION_MODEL.MULTI_CLASS_BOX_MEDIUM"
   ]
  },
  {
   "cell_type": "code",
   "execution_count": 7,
   "id": "fd7017b8-9724-423f-ad8a-08cd5662dbcf",
   "metadata": {},
   "outputs": [
    {
     "data": {
      "text/plain": [
       "SUCCESS"
      ]
     },
     "execution_count": 7,
     "metadata": {},
     "output_type": "execute_result"
    }
   ],
   "source": [
    "# Verfolgungsparameter\n",
    "positional_tracking_parameters = sl.PositionalTrackingParameters()\n",
    "zed.enable_positional_tracking(positional_tracking_parameters)"
   ]
  },
  {
   "cell_type": "code",
   "execution_count": 10,
   "id": "4bc19da0-0f5f-4646-8f2a-a41d36a303bd",
   "metadata": {},
   "outputs": [
    {
     "data": {
      "text/plain": [
       "CORRUPTED SDK INSTALLATION"
      ]
     },
     "execution_count": 10,
     "metadata": {},
     "output_type": "execute_result"
    }
   ],
   "source": [
    "# Objektdetektion aktivieren\n",
    "zed.enable_object_detection(detection_parameters)"
   ]
  },
  {
   "cell_type": "code",
   "execution_count": 11,
   "id": "9139ebf3-be1b-4707-9b61-4f43f4cd0308",
   "metadata": {},
   "outputs": [],
   "source": [
    "# Laufzeitparameter (Erkennungsparameter)\n",
    "detection_parameters_rt = sl.ObjectDetectionRuntimeParameters()\n",
    "detection_parameters_rt.detection_confidence_threshold = 20\n",
    "detection_parameters_rt.object_class_filter = [sl.OBJECT_CLASS.SPORT, sl.OBJECT_CLASS.PERSON]"
   ]
  },
  {
   "cell_type": "code",
   "execution_count": 12,
   "id": "f051f135-bcb9-48df-8d2a-54cfb69f7b3d",
   "metadata": {},
   "outputs": [],
   "source": [
    "# Objekte werden in ein vorgegebenes Objekt geschrieben\n",
    "objects = sl.Objects()"
   ]
  },
  {
   "cell_type": "code",
   "execution_count": 13,
   "id": "d344a812-7f6f-4e57-a4eb-fe62ece9a821",
   "metadata": {},
   "outputs": [
    {
     "data": {
      "text/plain": [
       "SUCCESS"
      ]
     },
     "execution_count": 13,
     "metadata": {},
     "output_type": "execute_result"
    }
   ],
   "source": [
    "# Beginn der Schleife über die Frames\n",
    "zed.grab()"
   ]
  },
  {
   "cell_type": "code",
   "execution_count": 15,
   "id": "4755bd3f-aeb6-42b8-9ba1-124ae58e3b39",
   "metadata": {},
   "outputs": [
    {
     "data": {
      "text/plain": [
       "INVALID FUNCTION CALL"
      ]
     },
     "execution_count": 15,
     "metadata": {},
     "output_type": "execute_result"
    }
   ],
   "source": [
    "zed.retrieve_objects(objects, detection_parameters_rt)"
   ]
  },
  {
   "cell_type": "code",
   "execution_count": null,
   "id": "bcc1b867",
   "metadata": {},
   "outputs": [],
   "source": []
  },
  {
   "cell_type": "code",
   "execution_count": 24,
   "id": "b903e159-e242-47c7-8209-49370193c95d",
   "metadata": {},
   "outputs": [
    {
     "ename": "IndexError",
     "evalue": "list index out of range",
     "output_type": "error",
     "traceback": [
      "\u001b[1;31m---------------------------------------------------------------------------\u001b[0m",
      "\u001b[1;31mIndexError\u001b[0m                                Traceback (most recent call last)",
      "Cell \u001b[1;32mIn[24], line 2\u001b[0m\n\u001b[0;32m      1\u001b[0m \u001b[38;5;66;03m# Schleife über die Objekte, hier nur erstes Objekt\u001b[39;00m\n\u001b[1;32m----> 2\u001b[0m pos \u001b[38;5;241m=\u001b[39m \u001b[43mobjects\u001b[49m\u001b[38;5;241;43m.\u001b[39;49m\u001b[43mobject_list\u001b[49m\u001b[43m[\u001b[49m\u001b[38;5;241;43m0\u001b[39;49m\u001b[43m]\u001b[49m\u001b[38;5;241m.\u001b[39mposition\n\u001b[0;32m      3\u001b[0m \u001b[38;5;28mprint\u001b[39m(\u001b[38;5;124m\"\u001b[39m\u001b[38;5;124mPosition: \u001b[39m\u001b[38;5;132;01m{0}\u001b[39;00m\u001b[38;5;124m, \u001b[39m\u001b[38;5;132;01m{1}\u001b[39;00m\u001b[38;5;124m, \u001b[39m\u001b[38;5;132;01m{2}\u001b[39;00m\u001b[38;5;124m\"\u001b[39m\u001b[38;5;241m.\u001b[39mformat(pos[\u001b[38;5;241m0\u001b[39m], pos[\u001b[38;5;241m1\u001b[39m], pos[\u001b[38;5;241m2\u001b[39m]))\n\u001b[0;32m      4\u001b[0m vel \u001b[38;5;241m=\u001b[39m objects\u001b[38;5;241m.\u001b[39mobject_list[\u001b[38;5;241m0\u001b[39m]\u001b[38;5;241m.\u001b[39mvelocity\n",
      "\u001b[1;31mIndexError\u001b[0m: list index out of range"
     ]
    }
   ],
   "source": [
    "# Schleife über die Objekte, hier nur erstes Objekt\n",
    "pos = objects.object_list[0].position\n",
    "print(\"Position: {0}, {1}, {2}\".format(pos[0], pos[1], pos[2]))\n",
    "vel = objects.object_list[0].velocity\n",
    "print(\"Geschwindigkeit: {0}, {1}, {2}\".format(vel[0], vel[1], vel[2]))"
   ]
  },
  {
   "cell_type": "code",
   "execution_count": 25,
   "id": "75644eeb-8b2b-4bf0-b1e5-369c33e38520",
   "metadata": {},
   "outputs": [
    {
     "ename": "IndexError",
     "evalue": "list index out of range",
     "output_type": "error",
     "traceback": [
      "\u001b[1;31m---------------------------------------------------------------------------\u001b[0m",
      "\u001b[1;31mIndexError\u001b[0m                                Traceback (most recent call last)",
      "Cell \u001b[1;32mIn[25], line 1\u001b[0m\n\u001b[1;32m----> 1\u001b[0m bounding_box \u001b[38;5;241m=\u001b[39m \u001b[43mobjects\u001b[49m\u001b[38;5;241;43m.\u001b[39;49m\u001b[43mobject_list\u001b[49m\u001b[43m[\u001b[49m\u001b[38;5;241;43m0\u001b[39;49m\u001b[43m]\u001b[49m\u001b[38;5;241m.\u001b[39mbounding_box\n\u001b[0;32m      2\u001b[0m \u001b[38;5;28mprint\u001b[39m(\u001b[38;5;124m\"\u001b[39m\u001b[38;5;124m Bounding box 3D :\u001b[39m\u001b[38;5;124m\"\u001b[39m)\n\u001b[0;32m      3\u001b[0m \u001b[38;5;28;01mfor\u001b[39;00m it \u001b[38;5;129;01min\u001b[39;00m bounding_box:            \n",
      "\u001b[1;31mIndexError\u001b[0m: list index out of range"
     ]
    }
   ],
   "source": [
    "bounding_box = objects.object_list[0].bounding_box\n",
    "print(\" Bounding box 3D :\")\n",
    "for it in bounding_box:            \n",
    "    print(\" \" + str(it), end='')"
   ]
  },
  {
   "cell_type": "code",
   "execution_count": null,
   "id": "9d02a34a-22d4-4115-a12b-9bfece0d9cd7",
   "metadata": {},
   "outputs": [],
   "source": [
    "# Am Schluss den Spielplatz aufräumen\n",
    "zed.disable_object_detection()\n",
    "zed.close()"
   ]
  },
  {
   "cell_type": "code",
   "execution_count": 16,
   "id": "6631cb64",
   "metadata": {},
   "outputs": [
    {
     "ename": "TypeError",
     "evalue": "Cannot convert numpy.ndarray to numpy.ndarray",
     "output_type": "error",
     "traceback": [
      "\u001b[1;31m---------------------------------------------------------------------------\u001b[0m",
      "\u001b[1;31mTypeError\u001b[0m                                 Traceback (most recent call last)",
      "Cell \u001b[1;32mIn[16], line 26\u001b[0m\n\u001b[0;32m     23\u001b[0m         data\u001b[38;5;241m.\u001b[39mappend(filtered_row)\n\u001b[0;32m     25\u001b[0m \u001b[38;5;66;03m# DataFrame erstellen\u001b[39;00m\n\u001b[1;32m---> 26\u001b[0m df \u001b[38;5;241m=\u001b[39m \u001b[43mpd\u001b[49m\u001b[38;5;241;43m.\u001b[39;49m\u001b[43mDataFrame\u001b[49m\u001b[43m(\u001b[49m\u001b[43mdata\u001b[49m\u001b[43m,\u001b[49m\u001b[43m \u001b[49m\u001b[43mcolumns\u001b[49m\u001b[38;5;241;43m=\u001b[39;49m\u001b[43m[\u001b[49m\u001b[38;5;124;43m'\u001b[39;49m\u001b[38;5;124;43mPosition X\u001b[39;49m\u001b[38;5;124;43m'\u001b[39;49m\u001b[43m,\u001b[49m\u001b[43m \u001b[49m\u001b[38;5;124;43m'\u001b[39;49m\u001b[38;5;124;43mPosition Y\u001b[39;49m\u001b[38;5;124;43m'\u001b[39;49m\u001b[43m,\u001b[49m\u001b[43m \u001b[49m\u001b[38;5;124;43m'\u001b[39;49m\u001b[38;5;124;43mPosition Z\u001b[39;49m\u001b[38;5;124;43m'\u001b[39;49m\u001b[43m]\u001b[49m\u001b[43m)\u001b[49m  \u001b[38;5;66;03m# Spaltennamen hinzufügen\u001b[39;00m\n\u001b[0;32m     27\u001b[0m \u001b[38;5;28mprint\u001b[39m(df)\n",
      "File \u001b[1;32mc:\\Users\\rapha\\OneDrive\\Desktop\\Studium\\Tennis Challenge\\tennis-challenge\\.venv\\Lib\\site-packages\\pandas\\core\\frame.py:850\u001b[0m, in \u001b[0;36mDataFrame.__init__\u001b[1;34m(self, data, index, columns, dtype, copy)\u001b[0m\n\u001b[0;32m    847\u001b[0m \u001b[38;5;28;01mif\u001b[39;00m \u001b[38;5;129;01mnot\u001b[39;00m \u001b[38;5;28misinstance\u001b[39m(data, np\u001b[38;5;241m.\u001b[39mndarray) \u001b[38;5;129;01mand\u001b[39;00m treat_as_nested(data):\n\u001b[0;32m    848\u001b[0m     \u001b[38;5;66;03m# exclude ndarray as we may have cast it a few lines above\u001b[39;00m\n\u001b[0;32m    849\u001b[0m     \u001b[38;5;28;01mif\u001b[39;00m columns \u001b[38;5;129;01mis\u001b[39;00m \u001b[38;5;129;01mnot\u001b[39;00m \u001b[38;5;28;01mNone\u001b[39;00m:\n\u001b[1;32m--> 850\u001b[0m         columns \u001b[38;5;241m=\u001b[39m \u001b[43mensure_index\u001b[49m\u001b[43m(\u001b[49m\u001b[43mcolumns\u001b[49m\u001b[43m)\u001b[49m\n\u001b[0;32m    851\u001b[0m     arrays, columns, index \u001b[38;5;241m=\u001b[39m nested_data_to_arrays(\n\u001b[0;32m    852\u001b[0m         \u001b[38;5;66;03m# error: Argument 3 to \"nested_data_to_arrays\" has incompatible\u001b[39;00m\n\u001b[0;32m    853\u001b[0m         \u001b[38;5;66;03m# type \"Optional[Collection[Any]]\"; expected \"Optional[Index]\"\u001b[39;00m\n\u001b[1;32m   (...)\u001b[0m\n\u001b[0;32m    857\u001b[0m         dtype,\n\u001b[0;32m    858\u001b[0m     )\n\u001b[0;32m    859\u001b[0m     mgr \u001b[38;5;241m=\u001b[39m arrays_to_mgr(\n\u001b[0;32m    860\u001b[0m         arrays,\n\u001b[0;32m    861\u001b[0m         columns,\n\u001b[1;32m   (...)\u001b[0m\n\u001b[0;32m    864\u001b[0m         typ\u001b[38;5;241m=\u001b[39mmanager,\n\u001b[0;32m    865\u001b[0m     )\n",
      "File \u001b[1;32mc:\\Users\\rapha\\OneDrive\\Desktop\\Studium\\Tennis Challenge\\tennis-challenge\\.venv\\Lib\\site-packages\\pandas\\core\\indexes\\base.py:7647\u001b[0m, in \u001b[0;36mensure_index\u001b[1;34m(index_like, copy)\u001b[0m\n\u001b[0;32m   7645\u001b[0m         \u001b[38;5;28;01mreturn\u001b[39;00m MultiIndex\u001b[38;5;241m.\u001b[39mfrom_arrays(index_like)\n\u001b[0;32m   7646\u001b[0m     \u001b[38;5;28;01melse\u001b[39;00m:\n\u001b[1;32m-> 7647\u001b[0m         \u001b[38;5;28;01mreturn\u001b[39;00m \u001b[43mIndex\u001b[49m\u001b[43m(\u001b[49m\u001b[43mindex_like\u001b[49m\u001b[43m,\u001b[49m\u001b[43m \u001b[49m\u001b[43mcopy\u001b[49m\u001b[38;5;241;43m=\u001b[39;49m\u001b[43mcopy\u001b[49m\u001b[43m,\u001b[49m\u001b[43m \u001b[49m\u001b[43mtupleize_cols\u001b[49m\u001b[38;5;241;43m=\u001b[39;49m\u001b[38;5;28;43;01mFalse\u001b[39;49;00m\u001b[43m)\u001b[49m\n\u001b[0;32m   7648\u001b[0m \u001b[38;5;28;01melse\u001b[39;00m:\n\u001b[0;32m   7649\u001b[0m     \u001b[38;5;28;01mreturn\u001b[39;00m Index(index_like, copy\u001b[38;5;241m=\u001b[39mcopy)\n",
      "File \u001b[1;32mc:\\Users\\rapha\\OneDrive\\Desktop\\Studium\\Tennis Challenge\\tennis-challenge\\.venv\\Lib\\site-packages\\pandas\\core\\indexes\\base.py:565\u001b[0m, in \u001b[0;36mIndex.__new__\u001b[1;34m(cls, data, dtype, copy, name, tupleize_cols)\u001b[0m\n\u001b[0;32m    562\u001b[0m         data \u001b[38;5;241m=\u001b[39m com\u001b[38;5;241m.\u001b[39masarray_tuplesafe(data, dtype\u001b[38;5;241m=\u001b[39m_dtype_obj)\n\u001b[0;32m    564\u001b[0m \u001b[38;5;28;01mtry\u001b[39;00m:\n\u001b[1;32m--> 565\u001b[0m     arr \u001b[38;5;241m=\u001b[39m \u001b[43msanitize_array\u001b[49m\u001b[43m(\u001b[49m\u001b[43mdata\u001b[49m\u001b[43m,\u001b[49m\u001b[43m \u001b[49m\u001b[38;5;28;43;01mNone\u001b[39;49;00m\u001b[43m,\u001b[49m\u001b[43m \u001b[49m\u001b[43mdtype\u001b[49m\u001b[38;5;241;43m=\u001b[39;49m\u001b[43mdtype\u001b[49m\u001b[43m,\u001b[49m\u001b[43m \u001b[49m\u001b[43mcopy\u001b[49m\u001b[38;5;241;43m=\u001b[39;49m\u001b[43mcopy\u001b[49m\u001b[43m)\u001b[49m\n\u001b[0;32m    566\u001b[0m \u001b[38;5;28;01mexcept\u001b[39;00m \u001b[38;5;167;01mValueError\u001b[39;00m \u001b[38;5;28;01mas\u001b[39;00m err:\n\u001b[0;32m    567\u001b[0m     \u001b[38;5;28;01mif\u001b[39;00m \u001b[38;5;124m\"\u001b[39m\u001b[38;5;124mindex must be specified when data is not list-like\u001b[39m\u001b[38;5;124m\"\u001b[39m \u001b[38;5;129;01min\u001b[39;00m \u001b[38;5;28mstr\u001b[39m(err):\n",
      "File \u001b[1;32mc:\\Users\\rapha\\OneDrive\\Desktop\\Studium\\Tennis Challenge\\tennis-challenge\\.venv\\Lib\\site-packages\\pandas\\core\\construction.py:654\u001b[0m, in \u001b[0;36msanitize_array\u001b[1;34m(data, index, dtype, copy, allow_2d)\u001b[0m\n\u001b[0;32m    651\u001b[0m     subarr \u001b[38;5;241m=\u001b[39m _try_cast(data, dtype, copy)\n\u001b[0;32m    653\u001b[0m \u001b[38;5;28;01melse\u001b[39;00m:\n\u001b[1;32m--> 654\u001b[0m     subarr \u001b[38;5;241m=\u001b[39m \u001b[43mmaybe_convert_platform\u001b[49m\u001b[43m(\u001b[49m\u001b[43mdata\u001b[49m\u001b[43m)\u001b[49m\n\u001b[0;32m    655\u001b[0m     \u001b[38;5;28;01mif\u001b[39;00m subarr\u001b[38;5;241m.\u001b[39mdtype \u001b[38;5;241m==\u001b[39m \u001b[38;5;28mobject\u001b[39m:\n\u001b[0;32m    656\u001b[0m         subarr \u001b[38;5;241m=\u001b[39m cast(np\u001b[38;5;241m.\u001b[39mndarray, subarr)\n",
      "File \u001b[1;32mc:\\Users\\rapha\\OneDrive\\Desktop\\Studium\\Tennis Challenge\\tennis-challenge\\.venv\\Lib\\site-packages\\pandas\\core\\dtypes\\cast.py:138\u001b[0m, in \u001b[0;36mmaybe_convert_platform\u001b[1;34m(values)\u001b[0m\n\u001b[0;32m    136\u001b[0m \u001b[38;5;28;01mif\u001b[39;00m arr\u001b[38;5;241m.\u001b[39mdtype \u001b[38;5;241m==\u001b[39m _dtype_obj:\n\u001b[0;32m    137\u001b[0m     arr \u001b[38;5;241m=\u001b[39m cast(np\u001b[38;5;241m.\u001b[39mndarray, arr)\n\u001b[1;32m--> 138\u001b[0m     arr \u001b[38;5;241m=\u001b[39m \u001b[43mlib\u001b[49m\u001b[38;5;241;43m.\u001b[39;49m\u001b[43mmaybe_convert_objects\u001b[49m\u001b[43m(\u001b[49m\u001b[43marr\u001b[49m\u001b[43m)\u001b[49m\n\u001b[0;32m    140\u001b[0m \u001b[38;5;28;01mreturn\u001b[39;00m arr\n",
      "File \u001b[1;32mlib.pyx:2538\u001b[0m, in \u001b[0;36mpandas._libs.lib.maybe_convert_objects\u001b[1;34m()\u001b[0m\n",
      "\u001b[1;31mTypeError\u001b[0m: Cannot convert numpy.ndarray to numpy.ndarray"
     ]
    }
   ],
   "source": [
    "import pandas as pd\n",
    "import csv\n",
    "\n",
    " \n",
    "data = []\n",
    " \n",
    "# Spaltenindex für die zu entfernenden Spalten (z.B. Frame, Object ID, Velocity X, Y, Z)\n",
    "columns_to_remove = [0, 1, 5, 6, 7]  # Indizes der Spalten\n",
    " \n",
    "# CSV-Datei öffnen und Zeilen lesen\n",
    "with open('HD720_SN35520970_10-53-37.csv', 'r') as file:\n",
    "    reader = csv.reader(file)\n",
    "   \n",
    "    # Erste Zeile überspringen (oft ist es die Kopfzeile)\n",
    "    next(reader)\n",
    "   \n",
    "    for row in reader:\n",
    "        # Nur die Spalten speichern, die nicht entfernt werden sollen\n",
    "        filtered_row = [value for index, value in enumerate(row) if index not in columns_to_remove]\n",
    "       \n",
    "        # Umwandlung der Koordinaten in float\n",
    "        filtered_row = [float(value) for value in filtered_row]\n",
    "        data.append(filtered_row)\n",
    " \n",
    "# DataFrame erstellen\n",
    "df = pd.DataFrame(data, columns=['Position X', 'Position Y', 'Position Z'])  # Spaltennamen hinzufügen\n",
    "print(df)\n"
   ]
  }
 ],
 "metadata": {
  "kernelspec": {
   "display_name": ".venv",
   "language": "python",
   "name": "python3"
  },
  "language_info": {
   "codemirror_mode": {
    "name": "ipython",
    "version": 3
   },
   "file_extension": ".py",
   "mimetype": "text/x-python",
   "name": "python",
   "nbconvert_exporter": "python",
   "pygments_lexer": "ipython3",
   "version": "3.12.7"
  }
 },
 "nbformat": 4,
 "nbformat_minor": 5
}
