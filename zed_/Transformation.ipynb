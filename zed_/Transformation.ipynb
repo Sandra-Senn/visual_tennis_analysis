{
 "cells": [
  {
   "cell_type": "code",
   "execution_count": 11,
   "id": "b5babf09-2f9e-4318-a02e-6b83213645d1",
   "metadata": {},
   "outputs": [],
   "source": [
    "import pyzed.sl as sl\n",
    "import pandas as pd\n",
    "import numpy as np"
   ]
  },
  {
   "cell_type": "code",
   "execution_count": 12,
   "id": "08b366af-0b30-4981-b60d-5e0efecae030",
   "metadata": {},
   "outputs": [],
   "source": [
    "zed = sl.Camera()"
   ]
  },
  {
   "cell_type": "code",
   "execution_count": 13,
   "id": "92b81623-aef2-49e0-ac7b-eb80d5619cd5",
   "metadata": {},
   "outputs": [],
   "source": [
    "# Datei statt Kamera\n",
    "input_type = sl.InputType()\n",
    "#input_type.set_from_svo_file('Test/Test.svo')\n",
    "input_type.set_from_svo_file(\"C:/Users/Sandra/Documents/ZED/HD1080_SN35071549_13-31-37.svo2\")"
   ]
  },
  {
   "cell_type": "code",
   "execution_count": 15,
   "id": "d60310ad-c86d-4794-9549-7b2a4eaee5ac",
   "metadata": {},
   "outputs": [],
   "source": [
    "# Hauptparamter\n",
    "init_params = sl.InitParameters(input_t=input_type, svo_real_time_mode=False)\n",
    "init_params.depth_mode = sl.DEPTH_MODE.ULTRA\n",
    "init_params.coordinate_units = sl.UNIT.METER\n",
    "init_params.depth_maximum_distance = 50\n"
   ]
  },
  {
   "cell_type": "code",
   "execution_count": 16,
   "id": "40e05ff0",
   "metadata": {},
   "outputs": [
    {
     "data": {
      "text/plain": [
       "['LAST',\n",
       " 'NEURAL',\n",
       " 'NEURAL_PLUS',\n",
       " 'NONE',\n",
       " 'PERFORMANCE',\n",
       " 'QUALITY',\n",
       " 'ULTRA',\n",
       " '__class__',\n",
       " '__contains__',\n",
       " '__doc__',\n",
       " '__getitem__',\n",
       " '__init_subclass__',\n",
       " '__iter__',\n",
       " '__len__',\n",
       " '__members__',\n",
       " '__module__',\n",
       " '__name__',\n",
       " '__qualname__']"
      ]
     },
     "execution_count": 16,
     "metadata": {},
     "output_type": "execute_result"
    }
   ],
   "source": [
    "dir(sl.DEPTH_MODE)"
   ]
  },
  {
   "cell_type": "code",
   "execution_count": 17,
   "id": "6fac38f0",
   "metadata": {},
   "outputs": [
    {
     "data": {
      "text/plain": [
       "SUCCESS"
      ]
     },
     "execution_count": 17,
     "metadata": {},
     "output_type": "execute_result"
    }
   ],
   "source": [
    "zed.open(init_params)"
   ]
  },
  {
   "cell_type": "code",
   "execution_count": 18,
   "id": "9110447d-2c14-4d80-a05e-761e4f944acc",
   "metadata": {},
   "outputs": [],
   "source": [
    "# Detektionsparameter\n",
    "detection_parameters = sl.ObjectDetectionParameters()\n",
    "#detection_parameters.image_sync = True\n",
    "detection_parameters.enable_tracking = True\n",
    "detection_parameters.enable_segmentation = True\n",
    "detection_parameters.detection_model = sl.OBJECT_DETECTION_MODEL.MULTI_CLASS_BOX_ACCURATE\n"
   ]
  },
  {
   "cell_type": "code",
   "execution_count": 19,
   "id": "fd7017b8-9724-423f-ad8a-08cd5662dbcf",
   "metadata": {},
   "outputs": [
    {
     "data": {
      "text/plain": [
       "SUCCESS"
      ]
     },
     "execution_count": 19,
     "metadata": {},
     "output_type": "execute_result"
    }
   ],
   "source": [
    "\n",
    "# Verfolgungsparameter\n",
    "positional_tracking_parameters = sl.PositionalTrackingParameters()\n",
    "zed.enable_positional_tracking(positional_tracking_parameters)"
   ]
  },
  {
   "cell_type": "code",
   "execution_count": 20,
   "id": "169f3d5d",
   "metadata": {},
   "outputs": [
    {
     "data": {
      "text/plain": [
       "SUCCESS"
      ]
     },
     "execution_count": 20,
     "metadata": {},
     "output_type": "execute_result"
    }
   ],
   "source": [
    "# Objektdetektion aktivieren\n",
    "zed.enable_object_detection(detection_parameters)"
   ]
  },
  {
   "cell_type": "code",
   "execution_count": 21,
   "id": "70f9d36e",
   "metadata": {},
   "outputs": [],
   "source": [
    "# Laufzeitparameter (Erkennungsparameter)\n",
    "detection_parameters_rt = sl.ObjectDetectionRuntimeParameters()\n",
    "detection_parameters_rt.detection_confidence_threshold = 40\n",
    "detection_parameters_rt.object_class_filter = [sl.OBJECT_CLASS.PERSON]"
   ]
  },
  {
   "cell_type": "code",
   "execution_count": 22,
   "id": "d344a812-7f6f-4e57-a4eb-fe62ece9a821",
   "metadata": {},
   "outputs": [
    {
     "data": {
      "text/plain": [
       "SUCCESS"
      ]
     },
     "execution_count": 22,
     "metadata": {},
     "output_type": "execute_result"
    }
   ],
   "source": [
    "# Beginn der Schleife über die Frames\n",
    "zed.grab()"
   ]
  },
  {
   "cell_type": "code",
   "execution_count": 23,
   "id": "bf619613",
   "metadata": {},
   "outputs": [],
   "source": [
    "# Objekte werden in ein vorgegebenes Objekt geschrieben\n",
    "objects = sl.Objects()"
   ]
  },
  {
   "cell_type": "code",
   "execution_count": 24,
   "id": "58ab20fc",
   "metadata": {},
   "outputs": [
    {
     "data": {
      "text/plain": [
       "SUCCESS"
      ]
     },
     "execution_count": 24,
     "metadata": {},
     "output_type": "execute_result"
    }
   ],
   "source": [
    "zed.retrieve_objects(objects, detection_parameters_rt)"
   ]
  },
  {
   "cell_type": "code",
   "execution_count": 25,
   "id": "4755bd3f-aeb6-42b8-9ba1-124ae58e3b39",
   "metadata": {},
   "outputs": [
    {
     "name": "stdout",
     "output_type": "stream",
     "text": [
      "Position: -0.2365749031305313, 0.699565589427948, 5.891233444213867\n",
      "Geschwindigkeit: nan, nan, nan\n"
     ]
    }
   ],
   "source": [
    "# Schleife über die Objekte, hier nur erstes Objekt\n",
    "pos = objects.object_list[0].position\n",
    "print(\"Position: {0}, {1}, {2}\".format(pos[0], pos[1], pos[2]))\n",
    "vel = objects.object_list[0].velocity\n",
    "print(\"Geschwindigkeit: {0}, {1}, {2}\".format(vel[0], vel[1], vel[2]))"
   ]
  },
  {
   "cell_type": "code",
   "execution_count": 26,
   "id": "a496b2fe",
   "metadata": {},
   "outputs": [
    {
     "name": "stdout",
     "output_type": "stream",
     "text": [
      "List of all objects:\n",
      "Object 0: Person\n"
     ]
    }
   ],
   "source": [
    "#list of all objects\n",
    "print(\"List of all objects:\")\n",
    "for i in range(len(objects.object_list)):\n",
    "    print(\"Object {0}: {1}\".format(i, objects.object_list[i].label))\n"
   ]
  },
  {
   "cell_type": "code",
   "execution_count": null,
   "id": "8bafeeb8",
   "metadata": {},
   "outputs": [
    {
     "name": "stdout",
     "output_type": "stream",
     "text": [
      "TRJ-Datei 'Aufnahme-Tennismatch-Kallibrierung.trj' wurde erfolgreich erstellt.\n"
     ]
    }
   ],
   "source": [
    "import os\n",
    "import csv\n",
    "import pyzed.sl as sl\n",
    "\n",
    "# Video-Pfad und Dateinamen\n",
    "video_path = \"C:/Users/Sandra/Documents/ZED/HD1080_SN35071549_13-31-37.svo2\"\n",
    "video_name = os.path.splitext(os.path.basename(video_path))[0]\n",
    "trj_file_name = f\"{\"Aufnahme-Tennismatch-Kallibrierung\"}.trj\"  # TRJ-Dateiname\n",
    "\n",
    "# TRJ-Datei öffnen, um die Daten zu schreiben\n",
    "with open(trj_file_name, mode='w') as file:\n",
    "    # Optional: Kopfzeile hinzufügen\n",
    "    file.write(\"Frame,Object ID, Position X,Position Y,Position Z,Velocity X,Velocity Y,Velocity Z\\n\")\n",
    "\n",
    "    frame_number = 0\n",
    "    while zed.grab() == sl.ERROR_CODE.SUCCESS:\n",
    "        zed.retrieve_objects(objects, detection_parameters_rt)\n",
    "        for obj in objects.object_list:\n",
    "            pos = obj.position\n",
    "            vel = obj.velocity\n",
    "            \n",
    "            # Schreibe die Daten in die TRJ-Datei\n",
    "            file.write(f\"{frame_number},{obj.id}, {pos[0]},{pos[1]},{pos[2]},{vel[0]},{vel[1]},{vel[2]}\\n\")\n",
    "        \n",
    "        frame_number += 1\n",
    "\n",
    "print(f\"TRJ-Datei '{trj_file_name}' wurde erfolgreich erstellt.\")"
   ]
  },
  {
   "cell_type": "code",
   "execution_count": 5,
   "id": "9fea8b3d",
   "metadata": {},
   "outputs": [],
   "source": [
    "Aufnahme_3Games = pd.read_csv(\"Aufnahme-Tennismatch-3-Games.trj\")\n",
    "Aufnahme_3Games = Aufnahme_3Games[~Aufnahme_3Games['Object ID'].isin([15,16,20,25,28,29,30,32,33,34,35,37,41,42,43,44,45,47,49,48,50,52,53,54,55,58,60,61,62,63,67,68,69,56,13,9,10,23,38,51,65])]\n",
    "Aufnahme_3Games['Object ID'] = Aufnahme_3Games['Object ID'].replace({3: 0, 6: 0, 11: 0, 26: 0})\n",
    "Aufnahme_3Games['Object ID'] = Aufnahme_3Games['Object ID'].replace({2: 1, 4: 1, 5: 1, 7: 1, 8: 1, 12: 1, 14: 1, 17: 1, 18: 1, 19: 1,\n",
    "    21: 1, 22: 1, 24: 1, 27: 1, 28: 1, 31: 1, 39: 1, 40: 1, 46: 1,\n",
    "    57: 1, 59: 1, 64: 1, 66: 1})\n",
    "\n",
    "Aufnahme_3Games = Aufnahme_3Games[~((Aufnahme_3Games['Frame'] < 5877) & (Aufnahme_3Games['Object ID'] == 36))]\n",
    "\n",
    "# 2. Setze Object ID auf 1, wenn Frame >= 5877 und Object ID == 36\n",
    "Aufnahme_3Games.loc[(Aufnahme_3Games['Frame'] >= 5877) & (Aufnahme_3Games['Object ID'] == 36), 'Object ID'] = 1\n",
    "Aufnahme_3Games.columns = Aufnahme_3Games.columns.str.strip()\n",
    "Aufnahme_3Games = Aufnahme_3Games.rename(columns={\n",
    "    'Object ID': 'Object.ID',\n",
    "    'Position X': 'Position.X',\n",
    "    'Position Y': 'Position.Y',\n",
    "    'Position Z': 'Position.Z',\n",
    "    'Velocity X': 'Velocity.X',\n",
    "    'Velocity Y': 'Velocity.Y',\n",
    "    'Velocity Z': 'Velocity.Z'\n",
    "})\n",
    "Aufnahme_3Games.to_csv('Aufnahme_Tennismatch_3Games.csv', index=False)"
   ]
  },
  {
   "cell_type": "code",
   "execution_count": 6,
   "id": "1e08abac",
   "metadata": {},
   "outputs": [],
   "source": [
    "test = pd.read_csv(\"Aufnahme_Tennismatch_3Games.csv\")\n"
   ]
  },
  {
   "cell_type": "code",
   "execution_count": 7,
   "id": "d1710490",
   "metadata": {},
   "outputs": [],
   "source": [
    "\n",
    "# Funktion zur Berechnung der Transformationsmatrix\n",
    "def calculate_transformation_matrix(src_points, dst_points):\n",
    "    src_points_h = np.hstack((src_points, np.ones((src_points.shape[0], 1))))\n",
    "    transform_matrix, _, _, _ = np.linalg.lstsq(src_points_h, dst_points, rcond=None)\n",
    "    return transform_matrix\n",
    "\n",
    "# Funktion zum Transformieren eines Punktes\n",
    "def transform_point(P, matrix):\n",
    "    P_hom = np.append(P, 1)\n",
    "    return np.dot(P_hom, matrix)\n",
    "\n",
    "# Transformationsmatrix berechnen (wie in deinem Beispiel)\n",
    "src_points = np.array([\n",
    "    [-0.2369113266468048,0.7010071277618408,5.84913969039917],    # P1 3D (unten Mitte der Grundlinie)\n",
    "    [-3.1373727321624756,-0.794750988483429,14.715766906738281], # P2 3D (links Mitte der Seitenlinie)\n",
    "    [3.3449606895446777,-0.6258959770202637,14.37708854675293]  # P3 3D (rechts Mitte der Seitenlinie)\n",
    "])\n",
    "dst_points = np.array([\n",
    "    [0, -11.885],    # P1 2D (unten Mitte der Grundlinie)\n",
    "    [-4.115, 0],     # P2 2D (links Mitte der Seitenlinie)\n",
    "    [4.115, 0]       # P3 2D (rechts Mitte der Seitenlinie)\n",
    "])\n",
    "\n",
    "transformation_matrix = calculate_transformation_matrix(src_points, dst_points)\n",
    "\n",
    "# Transformation auf jeden Punkt im DataFrame anwenden\n",
    "def apply_transformation(row):\n",
    "    point_3d = np.array([row['Position.X'], row['Position.Y'], row['Position.Z']])\n",
    "    transformed_point = transform_point(point_3d, transformation_matrix)\n",
    "    return pd.Series({'Transformed.X': transformed_point[0], 'Transformed.Y': transformed_point[1]})\n",
    "\n",
    "# Transformation auf das gesamte DataFrame anwenden\n",
    "test[['Transformed.X', 'Transformed.Y']] = test.apply(apply_transformation, axis=1)\n",
    "\n",
    "\n",
    "# Berechnung der Geschwindigkeit aus den Geschwindigkeitskomponenten\n",
    "test['Speed'] = (test['Velocity.X']**2 + test['Velocity.Y']**2 + test['Velocity.Z']**2)**0.5\n",
    "test = test.drop(['Position.X', 'Position.Y', 'Position.Z', 'Velocity.X', 'Velocity.Y', 'Velocity.Z'], axis=1)\n",
    "\n",
    "\n"
   ]
  },
  {
   "cell_type": "code",
   "execution_count": 8,
   "id": "221daa36",
   "metadata": {},
   "outputs": [],
   "source": [
    "test.to_csv('Aufnahme_Tennismatch_3Games_transformiert.csv', index=False)"
   ]
  },
  {
   "cell_type": "code",
   "execution_count": 121,
   "id": "2a6e6b94",
   "metadata": {},
   "outputs": [
    {
     "data": {
      "image/png": "[encoded data removed]",
      "text/plain": [
       "<Figure size 600x1200 with 1 Axes>"
      ]
     },
     "metadata": {},
     "output_type": "display_data"
    }
   ],
   "source": [
    "import numpy as np\n",
    "import matplotlib.pyplot as plt\n",
    " \n",
    "# Transformierte 2D-Punkte (wie berechnet)\n",
    "transformed_points = np.array([\n",
    "    [0.9814846 , 9.08534573],\n",
    "     [0.0868918 , 8.68656675],\n",
    "      [-4.5335865 , -11.89472842],\n",
    "         [2.15958284, -4.01099911]  # P3 (rechts Mitte der Seitenlinie)\n",
    "     \n",
    "          # P1 (unten Mitte der Grundlinie)\n",
    "    \n",
    "                            # P3 (rechts Mitte der Seitenlinie)\n",
    "])\n",
    " \n",
    "# X- und Y-Koordinaten der Punkte extrahieren\n",
    "x_values = transformed_points[:, 0]\n",
    "y_values = transformed_points[:, 1]\n",
    " \n",
    "# Erstellen des Plots\n",
    "plt.figure(figsize=(6, 12))\n",
    "plt.scatter(x_values, y_values, color='red')\n",
    " \n",
    "# Labels der Punkte hinzufügen\n",
    "for i, txt in enumerate(['P1', 'P2', 'P3', 'P4']):\n",
    "    plt.annotate(txt, (x_values[i], y_values[i]), textcoords=\"offset points\", xytext=(0,5), ha='center')\n",
    " \n",
    "# Grenzen des Tennisfeldes setzen\n",
    "plt.xlim(-6.115, 6.115)\n",
    "plt.ylim(-15.885, 15.885)\n",
    " \n",
    "# Achsenbeschriftungen und Titel\n",
    "plt.xlabel('X-Achse (m)')\n",
    "plt.ylabel('Y-Achse (m)')\n",
    "plt.title('2D Tennisfeld mit transformierten Punkten')\n",
    " \n",
    "# Linien für die Mittellinie und Seitenlinien hinzufügen (optional)\n",
    "plt.axhline(0, color='black', linestyle='--')  # Mittellinie\n",
    "plt.axvline(0, color='black', linestyle='--')  # Vertikale Mittellinie\n",
    " \n",
    "# Netz anzeigen\n",
    "plt.grid(True)\n",
    " \n",
    "# Diagramm anzeigen\n",
    "plt.show()"
   ]
  },
  {
   "cell_type": "code",
   "execution_count": 29,
   "id": "d6a92909",
   "metadata": {},
   "outputs": [
    {
     "name": "stdout",
     "output_type": "stream",
     "text": [
      "Konvertierung gestartet...\n",
      "Konvertierung abgeschlossen.\n"
     ]
    }
   ],
   "source": [
    "import pyzed.sl as sl\n",
    "\n",
    "# Funktion zur Konvertierung\n",
    "def svo_to_mp4(input_path, output_path):\n",
    "    # ZED Input Type initialisieren\n",
    "    input_type = sl.InputType()\n",
    "    input_type.set_from_svo_file(input_path)  # Lade die SVO-Datei\n",
    "\n",
    "    # InitParameter konfigurieren\n",
    "    init_params = sl.InitParameters(input_t=input_type, svo_real_time_mode=False)\n",
    "    init_params.depth_mode = sl.DEPTH_MODE.ULTRA  # Optional: Maximale Tiefengenauigkeit\n",
    "    init_params.coordinate_units = sl.UNIT.METER  # Einheiten in Metern\n",
    "    init_params.depth_maximum_distance = 50  # Maximale Tiefe auf 50 Meter setzen\n",
    "\n",
    "    # ZED-Kamera erstellen\n",
    "    zed = sl.Camera()\n",
    "\n",
    "    # SVO-Datei öffnen\n",
    "    status = zed.open(init_params)\n",
    "    if status != sl.ERROR_CODE.SUCCESS:\n",
    "        print(f\"Fehler beim Öffnen der SVO-Datei: {status}\")\n",
    "        return\n",
    "\n",
    "    # MP4 Aufnahmeparameter festlegen\n",
    "    recording_params = sl.RecordingParameters(output_path, sl.SVO_COMPRESSION_MODE.H264)\n",
    "\n",
    "    # Aufnahme starten\n",
    "    recording_status = zed.enable_recording(recording_params)\n",
    "    if recording_status != sl.ERROR_CODE.SUCCESS:\n",
    "        print(f\"Fehler beim Starten der Aufnahme: {recording_status}\")\n",
    "        zed.close()\n",
    "        return\n",
    "\n",
    "    print(\"Konvertierung gestartet...\")\n",
    "    runtime_params = sl.RuntimeParameters()\n",
    "    while True:\n",
    "        if zed.grab(runtime_params) == sl.ERROR_CODE.SUCCESS:\n",
    "            continue  # Frames werden verarbeitet\n",
    "        else:\n",
    "            break\n",
    "\n",
    "    print(\"Konvertierung abgeschlossen.\")\n",
    "    zed.disable_recording()\n",
    "    zed.close()\n",
    "\n",
    "\n",
    "\n",
    "\n",
    "\n",
    "\n",
    "# Eingabepfad und Ausgabepfad definieren\n",
    "input_svo = \"C:/Users/Sandra/Documents/ZED/Aufnahme_3_Games.svo\"\n",
    "output_mp4 = \"C:/Users/Sandra/Documents/ZED/HD1080_SN35071549_Tennismatch_3_Games.mp4\"\n",
    "\n",
    "# Konvertierung starten\n",
    "svo_to_mp4(input_svo, output_mp4)\n"
   ]
  },
  {
   "cell_type": "markdown",
   "id": "7da72e04",
   "metadata": {},
   "source": [
    "########################################################################\n",
    "#\n",
    "# Copyright (c) 2022, STEREOLABS.\n",
    "#\n",
    "# All rights reserved.\n",
    "#\n",
    "# THIS SOFTWARE IS PROVIDED BY THE COPYRIGHT HOLDERS AND CONTRIBUTORS\n",
    "# \"AS IS\" AND ANY EXPRESS OR IMPLIED WARRANTIES, INCLUDING, BUT NOT\n",
    "# LIMITED TO, THE IMPLIED WARRANTIES OF MERCHANTABILITY AND FITNESS FOR\n",
    "# A PARTICULAR PURPOSE ARE DISCLAIMED. IN NO EVENT SHALL THE COPYRIGHT\n",
    "# OWNER OR CONTRIBUTORS BE LIABLE FOR ANY DIRECT, INDIRECT, INCIDENTAL,\n",
    "# SPECIAL, EXEMPLARY, OR CONSEQUENTIAL DAMAGES (INCLUDING, BUT NOT\n",
    "# LIMITED TO, PROCUREMENT OF SUBSTITUTE GOODS OR SERVICES; LOSS OF USE,\n",
    "# DATA, OR PROFITS; OR BUSINESS INTERRUPTION) HOWEVER CAUSED AND ON ANY\n",
    "# THEORY OF LIABILITY, WHETHER IN CONTRACT, STRICT LIABILITY, OR TORT\n",
    "# (INCLUDING NEGLIGENCE OR OTHERWISE) ARISING IN ANY WAY OUT OF THE USE\n",
    "# OF THIS SOFTWARE, EVEN IF ADVISED OF THE POSSIBILITY OF SUCH DAMAGE.\n",
    "#\n",
    "########################################################################\n",
    "\n",
    "\"\"\"\n",
    "   This sample shows how to detect a human bodies and draw their \n",
    "   modelised skeleton in an OpenGL window\n",
    "\"\"\"\n",
    "import cv2\n",
    "import sys\n",
    "import pyzed.sl as sl\n",
    "import ogl_viewer.viewer as gl\n",
    "import cv_viewer.tracking_viewer as cv_viewer\n",
    "import numpy as np\n",
    "import argparse\n",
    "\n",
    "def parse_args(init):\n",
    "    if len(opt.input_svo_file)>0 and opt.input_svo_file.endswith(\".svo\"):\n",
    "        init.set_from_svo_file(opt.input_svo_file)\n",
    "        print(\"[Sample] Using SVO File input: {0}\".format(opt.input_svo_file))\n",
    "    elif len(opt.ip_address)>0 :\n",
    "        ip_str = opt.ip_address\n",
    "        if ip_str.replace(':','').replace('.','').isdigit() and len(ip_str.split('.'))==4 and len(ip_str.split(':'))==2:\n",
    "            init.set_from_stream(ip_str.split(':')[0],int(ip_str.split(':')[1]))\n",
    "            print(\"[Sample] Using Stream input, IP : \",ip_str)\n",
    "        elif ip_str.replace(':','').replace('.','').isdigit() and len(ip_str.split('.'))==4:\n",
    "            init.set_from_stream(ip_str)\n",
    "            print(\"[Sample] Using Stream input, IP : \",ip_str)\n",
    "        else :\n",
    "            print(\"Unvalid IP format. Using live stream\")\n",
    "    if (\"HD2K\" in opt.resolution):\n",
    "        init.camera_resolution = sl.RESOLUTION.HD2K\n",
    "        print(\"[Sample] Using Camera in resolution HD2K\")\n",
    "    elif (\"HD1200\" in opt.resolution):\n",
    "        init.camera_resolution = sl.RESOLUTION.HD1200\n",
    "        print(\"[Sample] Using Camera in resolution HD1200\")\n",
    "    elif (\"HD1080\" in opt.resolution):\n",
    "        init.camera_resolution = sl.RESOLUTION.HD1080\n",
    "        print(\"[Sample] Using Camera in resolution HD1080\")\n",
    "    elif (\"HD720\" in opt.resolution):\n",
    "        init.camera_resolution = sl.RESOLUTION.HD720\n",
    "        print(\"[Sample] Using Camera in resolution HD720\")\n",
    "    elif (\"SVGA\" in opt.resolution):\n",
    "        init.camera_resolution = sl.RESOLUTION.SVGA\n",
    "        print(\"[Sample] Using Camera in resolution SVGA\")\n",
    "    elif (\"VGA\" in opt.resolution):\n",
    "        init.camera_resolution = sl.RESOLUTION.VGA\n",
    "        print(\"[Sample] Using Camera in resolution VGA\")\n",
    "    elif len(opt.resolution)>0: \n",
    "        print(\"[Sample] No valid resolution entered. Using default\")\n",
    "    else : \n",
    "        print(\"[Sample] Using default resolution\")\n",
    "\n",
    "\n",
    "\n",
    "def main():\n",
    "    print(\"Running Body Tracking sample ... Press 'q' to quit, or 'm' to pause or restart\")\n",
    "\n",
    "    # Create a Camera object\n",
    "    zed = sl.Camera()\n",
    "\n",
    "    # Create a InitParameters object and set configuration parameters\n",
    "    init_params = sl.InitParameters()\n",
    "    init_params.camera_resolution = sl.RESOLUTION.HD1080  # Use HD1080 video mode\n",
    "    init_params.coordinate_units = sl.UNIT.METER          # Set coordinate units\n",
    "    init_params.depth_mode = sl.DEPTH_MODE.ULTRA\n",
    "    init_params.coordinate_system = sl.COORDINATE_SYSTEM.RIGHT_HANDED_Y_UP\n",
    "    \n",
    "    parse_args(init_params)\n",
    "\n",
    "    # Open the camera\n",
    "    err = zed.open(init_params)\n",
    "    if err != sl.ERROR_CODE.SUCCESS:\n",
    "        exit(1)\n",
    "\n",
    "    # Enable Positional tracking (mandatory for object detection)\n",
    "    positional_tracking_parameters = sl.PositionalTrackingParameters()\n",
    "    # If the camera is static, uncomment the following line to have better performances\n",
    "    # positional_tracking_parameters.set_as_static = True\n",
    "    zed.enable_positional_tracking(positional_tracking_parameters)\n",
    "    \n",
    "    body_param = sl.BodyTrackingParameters()\n",
    "    body_param.enable_tracking = True                # Track people across images flow\n",
    "    body_param.enable_body_fitting = False            # Smooth skeleton move\n",
    "    body_param.detection_model = sl.BODY_TRACKING_MODEL.HUMAN_BODY_FAST \n",
    "    body_param.body_format = sl.BODY_FORMAT.BODY_18  # Choose the BODY_FORMAT you wish to use\n",
    "\n",
    "    # Enable Object Detection module\n",
    "    zed.enable_body_tracking(body_param)\n",
    "\n",
    "    body_runtime_param = sl.BodyTrackingRuntimeParameters()\n",
    "    body_runtime_param.detection_confidence_threshold = 40\n",
    "\n",
    "    # Get ZED camera information\n",
    "    camera_info = zed.get_camera_information()\n",
    "    # 2D viewer utilities\n",
    "    display_resolution = sl.Resolution(min(camera_info.camera_configuration.resolution.width, 1280), min(camera_info.camera_configuration.resolution.height, 720))\n",
    "    image_scale = [display_resolution.width / camera_info.camera_configuration.resolution.width\n",
    "                 , display_resolution.height / camera_info.camera_configuration.resolution.height]\n",
    "\n",
    "    # Create OpenGL viewer\n",
    "    viewer = gl.GLViewer()\n",
    "    viewer.init(camera_info.camera_configuration.calibration_parameters.left_cam, body_param.enable_tracking,body_param.body_format)\n",
    "    # Create ZED objects filled in the main loop\n",
    "    bodies = sl.Bodies()\n",
    "    image = sl.Mat()\n",
    "    key_wait = 10 \n",
    "    while viewer.is_available():\n",
    "        # Grab an image\n",
    "        if zed.grab() == sl.ERROR_CODE.SUCCESS:\n",
    "            # Retrieve left image\n",
    "            zed.retrieve_image(image, sl.VIEW.LEFT, sl.MEM.CPU, display_resolution)\n",
    "            # Retrieve bodies\n",
    "            zed.retrieve_bodies(bodies, body_runtime_param)\n",
    "            # Update GL view\n",
    "            viewer.update_view(image, bodies) \n",
    "            # Update OCV view\n",
    "            image_left_ocv = image.get_data()\n",
    "            cv_viewer.render_2D(image_left_ocv,image_scale, bodies.body_list, body_param.enable_tracking, body_param.body_format)\n",
    "            cv2.imshow(\"ZED | 2D View\", image_left_ocv)\n",
    "            key = cv2.waitKey(key_wait)\n",
    "            if key == 113: # for 'q' key\n",
    "                print(\"Exiting...\")\n",
    "                break\n",
    "            if key == 109: # for 'm' key\n",
    "                if (key_wait>0):\n",
    "                    print(\"Pause\")\n",
    "                    key_wait = 0 \n",
    "                else : \n",
    "                    print(\"Restart\")\n",
    "                    key_wait = 10 \n",
    "    viewer.exit()\n",
    "    image.free(sl.MEM.CPU)\n",
    "    zed.disable_body_tracking()\n",
    "    zed.disable_positional_tracking()\n",
    "    zed.close()\n",
    "    cv2.destroyAllWindows()\n",
    "    \n",
    "if __name__ == '__main__':\n",
    "    parser = argparse.ArgumentParser()\n",
    "    parser.add_argument('--input_svo_file', type=str, help='Path to an .svo file, if you want to replay it',default = '')\n",
    "    parser.add_argument('--ip_address', type=str, help='IP Adress, in format a.b.c.d:port or a.b.c.d, if you have a streaming setup', default = '')\n",
    "    parser.add_argument('--resolution', type=str, help='Resolution, can be either HD2K, HD1200, HD1080, HD720, SVGA or VGA', default = '')\n",
    "    opt = parser.parse_args()\n",
    "    if len(opt.input_svo_file)>0 and len(opt.ip_address)>0:\n",
    "        print(\"Specify only input_svo_file or ip_address, or none to use wired camera, not both. Exit program\")\n",
    "        exit()\n",
    "    main() "
   ]
  }
 ],
 "metadata": {
  "kernelspec": {
   "display_name": "Python 3",
   "language": "python",
   "name": "python3"
  },
  "language_info": {
   "codemirror_mode": {
    "name": "ipython",
    "version": 3
   },
   "file_extension": ".py",
   "mimetype": "text/x-python",
   "name": "python",
   "nbconvert_exporter": "python",
   "pygments_lexer": "ipython3",
   "version": "3.12.6"
  }
 },
 "nbformat": 4,
 "nbformat_minor": 5
}
