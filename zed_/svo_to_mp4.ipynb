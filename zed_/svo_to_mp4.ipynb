{
 "cells": [
  {
   "cell_type": "code",
   "execution_count": null,
   "metadata": {},
   "outputs": [
    {
     "name": "stdout",
     "output_type": "stream",
     "text": [
      "Fehler beim Öffnen der SVO-Datei: CAMERA NOT DETECTED\n"
     ]
    },
    {
     "ename": "",
     "evalue": "",
     "output_type": "error",
     "traceback": [
      "\u001b[1;31mThe Kernel crashed while executing code in the current cell or a previous cell. \n",
      "\u001b[1;31mPlease review the code in the cell(s) to identify a possible cause of the failure. \n",
      "\u001b[1;31mClick <a href='https://aka.ms/vscodeJupyterKernelCrash'>here</a> for more info. \n",
      "\u001b[1;31mView Jupyter <a href='command:jupyter.viewOutput'>log</a> for further details."
     ]
    }
   ],
   "source": [
    "import pyzed.sl as sl\n",
    "\n",
    "# Funktion zur Konvertierung\n",
    "def svo_to_mp4(input_path, output_path):\n",
    "    # Initialisierung der ZED-Kamera\n",
    "    init_params = sl.InitParameters()\n",
    "    init_params.svo_real_time_mode = False  # Echtzeit deaktivieren\n",
    "\n",
    "    zed = sl.Camera()\n",
    "\n",
    "    # Öffne die SVO-Datei\n",
    "    status = zed.open(init_params)\n",
    "    if status != sl.ERROR_CODE.SUCCESS:\n",
    "        print(f\"Fehler beim Öffnen der SVO-Datei: {status}\")\n",
    "        return\n",
    "\n",
    "    # Aufnahmeparameter für MP4\n",
    "    recording_params = sl.RecordingParameters(output_path, sl.SVO_COMPRESSION_MODE.H264)\n",
    "\n",
    "    # Aktivieren der Aufnahme\n",
    "    recording_status = zed.enable_recording(recording_params)\n",
    "    if recording_status != sl.ERROR_CODE.SUCCESS:\n",
    "        print(f\"Fehler beim Starten der Aufnahme: {recording_status}\")\n",
    "        zed.close()\n",
    "        return\n",
    "\n",
    "    print(\"Konvertierung gestartet...\")\n",
    "    runtime_params = sl.RuntimeParameters()\n",
    "    while True:\n",
    "        if zed.grab(runtime_params) == sl.ERROR_CODE.SUCCESS:\n",
    "            continue  # Frames werden verarbeitet\n",
    "        else:\n",
    "            break\n",
    "\n",
    "    print(\"Konvertierung abgeschlossen.\")\n",
    "    zed.disable_recording()\n",
    "    zed.close()\n",
    "\n",
    "# Eingabepfad und Ausgabepfad definieren\n",
    "input_svo = \"C:/Users/Sandra/Documents/ZED/Aufnahme_3_Games.svo\"\n",
    "output_mp4 = \"C:/Users/Sandra/Documents/ZED/HD1080_SN35071549_Tennismatch_3_Games.mp4\"\n",
    "\n",
    "# Konvertierung starten\n",
    "svo_to_mp4(input_svo, output_mp4)\n"
   ]
  }
 ],
 "metadata": {
  "kernelspec": {
   "display_name": "Python 3",
   "language": "python",
   "name": "python3"
  },
  "language_info": {
   "codemirror_mode": {
    "name": "ipython",
    "version": 3
   },
   "file_extension": ".py",
   "mimetype": "text/x-python",
   "name": "python",
   "nbconvert_exporter": "python",
   "pygments_lexer": "ipython3",
   "version": "3.12.6"
  }
 },
 "nbformat": 4,
 "nbformat_minor": 2
}
