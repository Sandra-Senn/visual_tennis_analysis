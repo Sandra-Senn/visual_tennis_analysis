{
 "cells": [
  {
   "cell_type": "code",
   "execution_count": 1,
   "id": "cbbc1dec",
   "metadata": {},
   "outputs": [],
   "source": [
    "import pandas as pd"
   ]
  },
  {
   "cell_type": "code",
   "execution_count": null,
   "id": "60b29f7a",
   "metadata": {},
   "outputs": [],
   "source": [
    "df=pd.read_csv('Test.trj')"
   ]
  },
  {
   "cell_type": "code",
   "execution_count": null,
   "id": "25bcaceb",
   "metadata": {},
   "outputs": [],
   "source": [
    "# Objekt IDs der beiden Spieler bestimmen\n",
    "df[(df['Trackingstatus']=='OK')&(df['Frame']>=100)&(df['Frame']<200)].groupby('Objekt ID')['Frame'].count()"
   ]
  },
  {
   "cell_type": "code",
   "execution_count": null,
   "id": "2caf2a6c",
   "metadata": {},
   "outputs": [],
   "source": [
    "# Hier sind es Objekte 1 und 6\n",
    "Sp1=1; Sp2=6\n",
    "# Nur relevante Einträge\n",
    "df_Spieler=df[(df['Objekt ID']==Sp1)|(df['Objekt ID']==Sp2)]"
   ]
  },
  {
   "cell_type": "code",
   "execution_count": null,
   "id": "5bf1c18f",
   "metadata": {},
   "outputs": [],
   "source": [
    "# Variante 1: Ein gemeinsamer Dataframe\n",
    "Trajektorien=df_Spieler.pivot(index='Frame',columns='Objekt ID', values=['x', 'y', 'z'])"
   ]
  },
  {
   "cell_type": "code",
   "execution_count": null,
   "id": "10d5c553",
   "metadata": {},
   "outputs": [],
   "source": [
    "# Variante 2: Ein Dataframe pro Spieler\n",
    "Trajektorien.columns\n",
    "Spieler1=Trajektorien[[('x',Sp1),('y',Sp1),('z',Sp1)]]\n",
    "Spieler1.columns=['x','y','z']\n",
    "Spieler2=Trajektorien[[('x',Sp2),('y',Sp2),('z',Sp2)]]\n",
    "Spieler2.columns=['x','y','z']"
   ]
  },
  {
   "cell_type": "code",
   "execution_count": null,
   "id": "8fd997d1",
   "metadata": {},
   "outputs": [],
   "source": [
    "# Nun sind wir bereit zur Analyse\n",
    "import numpy as np"
   ]
  },
  {
   "cell_type": "code",
   "execution_count": null,
   "id": "88d1deb6",
   "metadata": {},
   "outputs": [],
   "source": [
    "# Relevante Teile filtern"
   ]
  },
  {
   "cell_type": "code",
   "execution_count": null,
   "id": "e0c57df0",
   "metadata": {},
   "outputs": [],
   "source": [
    "# Statistik"
   ]
  }
 ],
 "metadata": {
  "kernelspec": {
   "display_name": "Python 3 (ipykernel)",
   "language": "python",
   "name": "python3"
  },
  "language_info": {
   "codemirror_mode": {
    "name": "ipython",
    "version": 3
   },
   "file_extension": ".py",
   "mimetype": "text/x-python",
   "name": "python",
   "nbconvert_exporter": "python",
   "pygments_lexer": "ipython3",
   "version": "3.12.2"
  }
 },
 "nbformat": 4,
 "nbformat_minor": 5
}
