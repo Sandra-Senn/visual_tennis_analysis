{
 "cells": [
  {
   "cell_type": "code",
   "execution_count": null,
   "id": "b5babf09-2f9e-4318-a02e-6b83213645d1",
   "metadata": {},
   "outputs": [
    {
     "ename": "",
     "evalue": "",
     "output_type": "error",
     "traceback": [
      "\u001b[1;31mRunning cells with '.venv (Python 3.12.6)' requires the ipykernel package.\n",
      "\u001b[1;31mRun the following command to install 'ipykernel' into the Python environment. \n",
      "\u001b[1;31mCommand: 'c:/Users/Sandra/Documents/GitHub/tennis-challenge/.venv/Scripts/python.exe -m pip install ipykernel -U --force-reinstall'"
     ]
    }
   ],
   "source": [
    "import pyzed.sl as sl"
   ]
  },
  {
   "cell_type": "code",
   "execution_count": null,
   "id": "08b366af-0b30-4981-b60d-5e0efecae030",
   "metadata": {},
   "outputs": [],
   "source": [
    "zed = sl.Camera()"
   ]
  },
  {
   "cell_type": "code",
   "execution_count": null,
   "id": "92b81623-aef2-49e0-ac7b-eb80d5619cd5",
   "metadata": {},
   "outputs": [],
   "source": [
    "# Datei statt Kamera\n",
    "input_type = sl.InputType()\n",
    "input_type.set_from_svo_file('Test/Test.svo')"
   ]
  },
  {
   "cell_type": "code",
   "execution_count": null,
   "id": "d60310ad-c86d-4794-9549-7b2a4eaee5ac",
   "metadata": {},
   "outputs": [],
   "source": [
    "# Hauptparamter\n",
    "init_params = sl.InitParameters(input_t=input_type, svo_real_time_mode=False)\n",
    "init_params.depth_mode = sl.DEPTH_MODE.ULTRA\n",
    "init_params.coordinate_units = sl.UNIT.METER\n",
    "init_params.depth_maximum_distance = 40"
   ]
  },
  {
   "cell_type": "code",
   "execution_count": null,
   "id": "65ab60e8-e61f-45c3-8422-1921ef170412",
   "metadata": {},
   "outputs": [],
   "source": [
    "zed.open(init_params)"
   ]
  },
  {
   "cell_type": "code",
   "execution_count": null,
   "id": "9110447d-2c14-4d80-a05e-761e4f944acc",
   "metadata": {},
   "outputs": [],
   "source": [
    "# Detektionsparameter\n",
    "detection_parameters = sl.ObjectDetectionParameters()\n",
    "detection_parameters.image_sync = True\n",
    "detection_parameters.enable_tracking = True\n",
    "detection_parameters.enable_segmentation = True\n",
    "detection_parameters.detection_model = sl.OBJECT_DETECTION_MODEL.MULTI_CLASS_BOX_MEDIUM"
   ]
  },
  {
   "cell_type": "code",
   "execution_count": null,
   "id": "fd7017b8-9724-423f-ad8a-08cd5662dbcf",
   "metadata": {},
   "outputs": [],
   "source": [
    "# Verfolgungsparameter\n",
    "positional_tracking_parameters = sl.PositionalTrackingParameters()\n",
    "zed.enable_positional_tracking(positional_tracking_parameters)"
   ]
  },
  {
   "cell_type": "code",
   "execution_count": null,
   "id": "4bc19da0-0f5f-4646-8f2a-a41d36a303bd",
   "metadata": {},
   "outputs": [],
   "source": [
    "# Objektdetektion aktivieren\n",
    "zed.enable_object_detection(detection_parameters)"
   ]
  },
  {
   "cell_type": "code",
   "execution_count": null,
   "id": "9139ebf3-be1b-4707-9b61-4f43f4cd0308",
   "metadata": {},
   "outputs": [],
   "source": [
    "# Laufzeitparameter (Erkennungsparameter)\n",
    "detection_parameters_rt = sl.ObjectDetectionRuntimeParameters()\n",
    "detection_parameters_rt.detection_confidence_threshold = 20\n",
    "detection_parameters_rt.object_class_filter = [sl.OBJECT_CLASS.SPORT, sl.OBJECT_CLASS.PERSON]"
   ]
  },
  {
   "cell_type": "code",
   "execution_count": null,
   "id": "f051f135-bcb9-48df-8d2a-54cfb69f7b3d",
   "metadata": {},
   "outputs": [],
   "source": [
    "# Objekte werden in ein vorgegebenes Objekt geschrieben\n",
    "objects = sl.Objects()"
   ]
  },
  {
   "cell_type": "code",
   "execution_count": null,
   "id": "d344a812-7f6f-4e57-a4eb-fe62ece9a821",
   "metadata": {},
   "outputs": [],
   "source": [
    "# Beginn der Schleife über die Frames\n",
    "zed.grab()"
   ]
  },
  {
   "cell_type": "code",
   "execution_count": null,
   "id": "4755bd3f-aeb6-42b8-9ba1-124ae58e3b39",
   "metadata": {},
   "outputs": [],
   "source": [
    "zed.retrieve_objects(objects, detection_parameters_rt)"
   ]
  },
  {
   "cell_type": "code",
   "execution_count": null,
   "id": "b903e159-e242-47c7-8209-49370193c95d",
   "metadata": {},
   "outputs": [],
   "source": [
    "# Schleife über die Objekte, hier nur erstes Objekt\n",
    "pos = objects.object_list[0].position\n",
    "print(\"Position: {0}, {1}, {2}\".format(pos[0], pos[1], pos[2]))\n",
    "vel = objects.object_list[0].velocity\n",
    "print(\"Geschwindigkeit: {0}, {1}, {2}\".format(vel[0], vel[1], vel[2]))"
   ]
  },
  {
   "cell_type": "code",
   "execution_count": null,
   "id": "75644eeb-8b2b-4bf0-b1e5-369c33e38520",
   "metadata": {},
   "outputs": [],
   "source": [
    "bounding_box = objects.object_list[0].bounding_box\n",
    "print(\" Bounding box 3D :\")\n",
    "for it in bounding_box:            \n",
    "    print(\" \" + str(it), end='')"
   ]
  },
  {
   "cell_type": "code",
   "execution_count": null,
   "id": "9d02a34a-22d4-4115-a12b-9bfece0d9cd7",
   "metadata": {},
   "outputs": [],
   "source": [
    "# Am Schluss den Spielplatz aufräumen\n",
    "zed.disable_object_detection()\n",
    "zed.close()"
   ]
  }
 ],
 "metadata": {
  "kernelspec": {
   "display_name": ".venv",
   "language": "python",
   "name": "python3"
  },
  "language_info": {
   "codemirror_mode": {
    "name": "ipython",
    "version": 3
   },
   "file_extension": ".py",
   "mimetype": "text/x-python",
   "name": "python",
   "nbconvert_exporter": "python",
   "pygments_lexer": "ipython3",
   "version": "3.12.6"
  }
 },
 "nbformat": 4,
 "nbformat_minor": 5
}
